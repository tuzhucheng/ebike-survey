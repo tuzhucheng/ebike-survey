{
 "cells": [
  {
   "cell_type": "code",
   "execution_count": 133,
   "metadata": {},
   "outputs": [],
   "source": [
    "import numpy as np\n",
    "import pandas as pd\n",
    "import matplotlib.pyplot as plt\n",
    "import seaborn as sns"
   ]
  },
  {
   "cell_type": "code",
   "execution_count": 134,
   "metadata": {},
   "outputs": [],
   "source": [
    "%matplotlib inline\n",
    "pd.options.display.max_columns = 500\n",
    "plt.style.use('ggplot')"
   ]
  },
  {
   "cell_type": "code",
   "execution_count": 135,
   "metadata": {},
   "outputs": [],
   "source": [
    "from IPython.display import Markdown, display\n",
    "def printmd(string):\n",
    "    display(Markdown(string))"
   ]
  },
  {
   "cell_type": "markdown",
   "metadata": {},
   "source": [
    "# Exploratory Analysis"
   ]
  },
  {
   "cell_type": "code",
   "execution_count": 136,
   "metadata": {},
   "outputs": [
    {
     "data": {
      "text/markdown": [
       "**timestamp**: Timestamp"
      ],
      "text/plain": [
       "<IPython.core.display.Markdown object>"
      ]
     },
     "metadata": {},
     "output_type": "display_data"
    },
    {
     "data": {
      "text/markdown": [
       "**age**: What age range do you fall in?"
      ],
      "text/plain": [
       "<IPython.core.display.Markdown object>"
      ]
     },
     "metadata": {},
     "output_type": "display_data"
    },
    {
     "data": {
      "text/markdown": [
       "**sex**: Sex"
      ],
      "text/plain": [
       "<IPython.core.display.Markdown object>"
      ]
     },
     "metadata": {},
     "output_type": "display_data"
    },
    {
     "data": {
      "text/markdown": [
       "**health**: How would you describe your level of physical health?"
      ],
      "text/plain": [
       "<IPython.core.display.Markdown object>"
      ]
     },
     "metadata": {},
     "output_type": "display_data"
    },
    {
     "data": {
      "text/markdown": [
       "**education**: What level of education have you reached?"
      ],
      "text/plain": [
       "<IPython.core.display.Markdown object>"
      ]
     },
     "metadata": {},
     "output_type": "display_data"
    },
    {
     "data": {
      "text/markdown": [
       "**income**: What is your household income?"
      ],
      "text/plain": [
       "<IPython.core.display.Markdown object>"
      ]
     },
     "metadata": {},
     "output_type": "display_data"
    },
    {
     "data": {
      "text/markdown": [
       "**employment**: Which category best describes your employment?"
      ],
      "text/plain": [
       "<IPython.core.display.Markdown object>"
      ]
     },
     "metadata": {},
     "output_type": "display_data"
    },
    {
     "data": {
      "text/markdown": [
       "**district**: What Toronto district is your primary address located in?"
      ],
      "text/plain": [
       "<IPython.core.display.Markdown object>"
      ]
     },
     "metadata": {},
     "output_type": "display_data"
    },
    {
     "data": {
      "text/markdown": [
       "**daily_travel_distance**: On average what distance do you travel most days of the week?"
      ],
      "text/plain": [
       "<IPython.core.display.Markdown object>"
      ]
     },
     "metadata": {},
     "output_type": "display_data"
    },
    {
     "data": {
      "text/markdown": [
       "**commute_time**: On average how long is your commute?"
      ],
      "text/plain": [
       "<IPython.core.display.Markdown object>"
      ]
     },
     "metadata": {},
     "output_type": "display_data"
    },
    {
     "data": {
      "text/markdown": [
       "**transportation**: Which transportation option do you end up using most often?"
      ],
      "text/plain": [
       "<IPython.core.display.Markdown object>"
      ]
     },
     "metadata": {},
     "output_type": "display_data"
    },
    {
     "data": {
      "text/markdown": [
       "**vehicles**: Does your household have access to any of the following private motorized vehicles?"
      ],
      "text/plain": [
       "<IPython.core.display.Markdown object>"
      ]
     },
     "metadata": {},
     "output_type": "display_data"
    },
    {
     "data": {
      "text/markdown": [
       "**statements**: Do you support any of the following statements?"
      ],
      "text/plain": [
       "<IPython.core.display.Markdown object>"
      ]
     },
     "metadata": {},
     "output_type": "display_data"
    },
    {
     "data": {
      "text/markdown": [
       "**trail_activity**: When you use Toronto's Multi-Use Trails do you mostly"
      ],
      "text/plain": [
       "<IPython.core.display.Markdown object>"
      ]
     },
     "metadata": {},
     "output_type": "display_data"
    },
    {
     "data": {
      "text/markdown": [
       "**speed_limit_aware**: Are you aware that the Multi-Use Paths have a speed limit of 20 km/h?"
      ],
      "text/plain": [
       "<IPython.core.display.Markdown object>"
      ]
     },
     "metadata": {},
     "output_type": "display_data"
    },
    {
     "data": {
      "text/markdown": [
       "**conflict**: Have you witnessed a collision or conflict on a trail between"
      ],
      "text/plain": [
       "<IPython.core.display.Markdown object>"
      ]
     },
     "metadata": {},
     "output_type": "display_data"
    },
    {
     "data": {
      "text/markdown": [
       "**speeding_demand_action**: Do you think more should be done to manage trail users who do not respect the 20 km/h speed limit?"
      ],
      "text/plain": [
       "<IPython.core.display.Markdown object>"
      ]
     },
     "metadata": {},
     "output_type": "display_data"
    },
    {
     "data": {
      "text/markdown": [
       "**ebike_multiuse_path**: Currently any kind of e-bike may use a multi-use path if they are propelled by pedaling only and those propelled by motor power may be fined "
      ],
      "text/plain": [
       "<IPython.core.display.Markdown object>"
      ]
     },
     "metadata": {},
     "output_type": "display_data"
    },
    {
     "data": {
      "text/markdown": [
       "**bicycle_lane**: When you use Toronto's bicycle lanes do you mostly"
      ],
      "text/plain": [
       "<IPython.core.display.Markdown object>"
      ]
     },
     "metadata": {},
     "output_type": "display_data"
    },
    {
     "data": {
      "text/markdown": [
       "**ebike_bicycle_lane**: Currently any kind of e-bike may use a bicycle lane if they are propelled by pedaling only and those propelled by motor power may be fined "
      ],
      "text/plain": [
       "<IPython.core.display.Markdown object>"
      ]
     },
     "metadata": {},
     "output_type": "display_data"
    },
    {
     "data": {
      "text/markdown": [
       "**sidewalk**: With regards to illegal use of bicycles and e-bikes on sidewalks should the City "
      ],
      "text/plain": [
       "<IPython.core.display.Markdown object>"
      ]
     },
     "metadata": {},
     "output_type": "display_data"
    },
    {
     "data": {
      "text/markdown": [
       "**mobility_devices**: Toronto Bylaws consider personal mobility devices (such as electric wheel chairs) to be pedestrians In your opinion should the City"
      ],
      "text/plain": [
       "<IPython.core.display.Markdown object>"
      ]
     },
     "metadata": {},
     "output_type": "display_data"
    }
   ],
   "source": [
    "data = pd.read_csv('E-Bike_Survey_Responses.csv')\n",
    "new_column_names = ['timestamp', 'age', 'sex', 'health', 'education', 'income', 'employment',\n",
    "                    'district', 'daily_travel_distance', 'commute_time', 'transportation',\n",
    "                    'vehicles', 'statements', 'trail_activity', 'speed_limit_aware',\n",
    "                    'conflict', 'speeding_demand_action', 'ebike_multiuse_path', 'bicycle_lane',\n",
    "                    'ebike_bicycle_lane', 'sidewalk', 'mobility_devices']\n",
    "\n",
    "for old_name, new_name in zip(data.columns, new_column_names):\n",
    "    printmd(f'**{new_name}**: {old_name}')\n",
    "\n",
    "data.columns = new_column_names"
   ]
  },
  {
   "cell_type": "code",
   "execution_count": 137,
   "metadata": {},
   "outputs": [
    {
     "name": "stdout",
     "output_type": "stream",
     "text": [
      "<class 'pandas.core.frame.DataFrame'>\n",
      "RangeIndex: 2238 entries, 0 to 2237\n",
      "Data columns (total 22 columns):\n",
      "timestamp                 2238 non-null object\n",
      "age                       2234 non-null object\n",
      "sex                       2221 non-null object\n",
      "health                    2227 non-null object\n",
      "education                 2220 non-null object\n",
      "income                    2178 non-null object\n",
      "employment                2223 non-null object\n",
      "district                  2237 non-null object\n",
      "daily_travel_distance     2237 non-null object\n",
      "commute_time              2237 non-null object\n",
      "transportation            2238 non-null object\n",
      "vehicles                  2238 non-null object\n",
      "statements                2238 non-null object\n",
      "trail_activity            2238 non-null object\n",
      "speed_limit_aware         2238 non-null object\n",
      "conflict                  2238 non-null object\n",
      "speeding_demand_action    2237 non-null object\n",
      "ebike_multiuse_path       2238 non-null object\n",
      "bicycle_lane              2238 non-null object\n",
      "ebike_bicycle_lane        2238 non-null object\n",
      "sidewalk                  2238 non-null object\n",
      "mobility_devices          2232 non-null object\n",
      "dtypes: object(22)\n",
      "memory usage: 384.7+ KB\n"
     ]
    }
   ],
   "source": [
    "data.info()"
   ]
  },
  {
   "cell_type": "code",
   "execution_count": 138,
   "metadata": {},
   "outputs": [
    {
     "data": {
      "text/html": [
       "<div>\n",
       "<style scoped>\n",
       "    .dataframe tbody tr th:only-of-type {\n",
       "        vertical-align: middle;\n",
       "    }\n",
       "\n",
       "    .dataframe tbody tr th {\n",
       "        vertical-align: top;\n",
       "    }\n",
       "\n",
       "    .dataframe thead th {\n",
       "        text-align: right;\n",
       "    }\n",
       "</style>\n",
       "<table border=\"1\" class=\"dataframe\">\n",
       "  <thead>\n",
       "    <tr style=\"text-align: right;\">\n",
       "      <th></th>\n",
       "      <th>timestamp</th>\n",
       "      <th>age</th>\n",
       "      <th>sex</th>\n",
       "      <th>health</th>\n",
       "      <th>education</th>\n",
       "      <th>income</th>\n",
       "      <th>employment</th>\n",
       "      <th>district</th>\n",
       "      <th>daily_travel_distance</th>\n",
       "      <th>commute_time</th>\n",
       "      <th>transportation</th>\n",
       "      <th>vehicles</th>\n",
       "      <th>statements</th>\n",
       "      <th>trail_activity</th>\n",
       "      <th>speed_limit_aware</th>\n",
       "      <th>conflict</th>\n",
       "      <th>speeding_demand_action</th>\n",
       "      <th>ebike_multiuse_path</th>\n",
       "      <th>bicycle_lane</th>\n",
       "      <th>ebike_bicycle_lane</th>\n",
       "      <th>sidewalk</th>\n",
       "      <th>mobility_devices</th>\n",
       "    </tr>\n",
       "  </thead>\n",
       "  <tbody>\n",
       "    <tr>\n",
       "      <th>count</th>\n",
       "      <td>2238</td>\n",
       "      <td>2234</td>\n",
       "      <td>2221</td>\n",
       "      <td>2227</td>\n",
       "      <td>2220</td>\n",
       "      <td>2178</td>\n",
       "      <td>2223</td>\n",
       "      <td>2237</td>\n",
       "      <td>2237</td>\n",
       "      <td>2237</td>\n",
       "      <td>2238</td>\n",
       "      <td>2238</td>\n",
       "      <td>2238</td>\n",
       "      <td>2238</td>\n",
       "      <td>2238</td>\n",
       "      <td>2238</td>\n",
       "      <td>2237</td>\n",
       "      <td>2238</td>\n",
       "      <td>2238</td>\n",
       "      <td>2238</td>\n",
       "      <td>2238</td>\n",
       "      <td>2232</td>\n",
       "    </tr>\n",
       "    <tr>\n",
       "      <th>unique</th>\n",
       "      <td>1722</td>\n",
       "      <td>5</td>\n",
       "      <td>12</td>\n",
       "      <td>12</td>\n",
       "      <td>24</td>\n",
       "      <td>6</td>\n",
       "      <td>33</td>\n",
       "      <td>68</td>\n",
       "      <td>5</td>\n",
       "      <td>6</td>\n",
       "      <td>33</td>\n",
       "      <td>123</td>\n",
       "      <td>534</td>\n",
       "      <td>89</td>\n",
       "      <td>2</td>\n",
       "      <td>221</td>\n",
       "      <td>134</td>\n",
       "      <td>25</td>\n",
       "      <td>69</td>\n",
       "      <td>258</td>\n",
       "      <td>224</td>\n",
       "      <td>81</td>\n",
       "    </tr>\n",
       "    <tr>\n",
       "      <th>top</th>\n",
       "      <td>2013-04-12 10:23</td>\n",
       "      <td>35 to 49</td>\n",
       "      <td>Male</td>\n",
       "      <td>Very good</td>\n",
       "      <td>University degree</td>\n",
       "      <td>$100K+</td>\n",
       "      <td>Full Time</td>\n",
       "      <td>Central Toronto York or East York</td>\n",
       "      <td>5 - 10 km</td>\n",
       "      <td>16 - 29 minutes</td>\n",
       "      <td>bicycle</td>\n",
       "      <td>Yes - a car SUV truck or van</td>\n",
       "      <td>scooter style e-bikes are different than pedal...</td>\n",
       "      <td>cycle</td>\n",
       "      <td>No</td>\n",
       "      <td>I am not aware of any conflicts on the trails</td>\n",
       "      <td>No - the trails are fine as they are</td>\n",
       "      <td>No changes are necessary to the existing bylaw</td>\n",
       "      <td>ride a commuter or cruiser style bicycle</td>\n",
       "      <td>No changes are necessary to the existing bylaw</td>\n",
       "      <td>maintain the existing programs for signage edu...</td>\n",
       "      <td>Update the definition of a personal mobility d...</td>\n",
       "    </tr>\n",
       "    <tr>\n",
       "      <th>freq</th>\n",
       "      <td>7</td>\n",
       "      <td>863</td>\n",
       "      <td>1554</td>\n",
       "      <td>891</td>\n",
       "      <td>895</td>\n",
       "      <td>831</td>\n",
       "      <td>1405</td>\n",
       "      <td>1634</td>\n",
       "      <td>847</td>\n",
       "      <td>782</td>\n",
       "      <td>777</td>\n",
       "      <td>1146</td>\n",
       "      <td>84</td>\n",
       "      <td>738</td>\n",
       "      <td>1131</td>\n",
       "      <td>847</td>\n",
       "      <td>646</td>\n",
       "      <td>811</td>\n",
       "      <td>705</td>\n",
       "      <td>664</td>\n",
       "      <td>493</td>\n",
       "      <td>1379</td>\n",
       "    </tr>\n",
       "  </tbody>\n",
       "</table>\n",
       "</div>"
      ],
      "text/plain": [
       "               timestamp       age   sex     health          education  \\\n",
       "count               2238      2234  2221       2227               2220   \n",
       "unique              1722         5    12         12                 24   \n",
       "top     2013-04-12 10:23  35 to 49  Male  Very good  University degree   \n",
       "freq                   7       863  1554        891                895   \n",
       "\n",
       "        income employment                           district  \\\n",
       "count     2178       2223                               2237   \n",
       "unique       6         33                                 68   \n",
       "top     $100K+  Full Time  Central Toronto York or East York   \n",
       "freq       831       1405                               1634   \n",
       "\n",
       "       daily_travel_distance     commute_time transportation  \\\n",
       "count                   2237             2237           2238   \n",
       "unique                     5                6             33   \n",
       "top                5 - 10 km  16 - 29 minutes        bicycle   \n",
       "freq                     847              782            777   \n",
       "\n",
       "                            vehicles  \\\n",
       "count                           2238   \n",
       "unique                           123   \n",
       "top     Yes - a car SUV truck or van   \n",
       "freq                            1146   \n",
       "\n",
       "                                               statements trail_activity  \\\n",
       "count                                                2238           2238   \n",
       "unique                                                534             89   \n",
       "top     scooter style e-bikes are different than pedal...          cycle   \n",
       "freq                                                   84            738   \n",
       "\n",
       "       speed_limit_aware                                       conflict  \\\n",
       "count               2238                                           2238   \n",
       "unique                 2                                            221   \n",
       "top                   No  I am not aware of any conflicts on the trails   \n",
       "freq                1131                                            847   \n",
       "\n",
       "                      speeding_demand_action  \\\n",
       "count                                   2237   \n",
       "unique                                   134   \n",
       "top     No - the trails are fine as they are   \n",
       "freq                                     646   \n",
       "\n",
       "                                   ebike_multiuse_path  \\\n",
       "count                                             2238   \n",
       "unique                                              25   \n",
       "top     No changes are necessary to the existing bylaw   \n",
       "freq                                               811   \n",
       "\n",
       "                                    bicycle_lane  \\\n",
       "count                                       2238   \n",
       "unique                                        69   \n",
       "top     ride a commuter or cruiser style bicycle   \n",
       "freq                                         705   \n",
       "\n",
       "                                    ebike_bicycle_lane  \\\n",
       "count                                             2238   \n",
       "unique                                             258   \n",
       "top     No changes are necessary to the existing bylaw   \n",
       "freq                                               664   \n",
       "\n",
       "                                                 sidewalk  \\\n",
       "count                                                2238   \n",
       "unique                                                224   \n",
       "top     maintain the existing programs for signage edu...   \n",
       "freq                                                  493   \n",
       "\n",
       "                                         mobility_devices  \n",
       "count                                                2232  \n",
       "unique                                                 81  \n",
       "top     Update the definition of a personal mobility d...  \n",
       "freq                                                 1379  "
      ]
     },
     "execution_count": 138,
     "metadata": {},
     "output_type": "execute_result"
    }
   ],
   "source": [
    "data.describe()"
   ]
  },
  {
   "cell_type": "code",
   "execution_count": 139,
   "metadata": {},
   "outputs": [
    {
     "data": {
      "text/html": [
       "<div>\n",
       "<style scoped>\n",
       "    .dataframe tbody tr th:only-of-type {\n",
       "        vertical-align: middle;\n",
       "    }\n",
       "\n",
       "    .dataframe tbody tr th {\n",
       "        vertical-align: top;\n",
       "    }\n",
       "\n",
       "    .dataframe thead th {\n",
       "        text-align: right;\n",
       "    }\n",
       "</style>\n",
       "<table border=\"1\" class=\"dataframe\">\n",
       "  <thead>\n",
       "    <tr style=\"text-align: right;\">\n",
       "      <th></th>\n",
       "      <th>timestamp</th>\n",
       "      <th>age</th>\n",
       "      <th>sex</th>\n",
       "      <th>health</th>\n",
       "      <th>education</th>\n",
       "      <th>income</th>\n",
       "      <th>employment</th>\n",
       "      <th>district</th>\n",
       "      <th>daily_travel_distance</th>\n",
       "      <th>commute_time</th>\n",
       "      <th>transportation</th>\n",
       "      <th>vehicles</th>\n",
       "      <th>statements</th>\n",
       "      <th>trail_activity</th>\n",
       "      <th>speed_limit_aware</th>\n",
       "      <th>conflict</th>\n",
       "      <th>speeding_demand_action</th>\n",
       "      <th>ebike_multiuse_path</th>\n",
       "      <th>bicycle_lane</th>\n",
       "      <th>ebike_bicycle_lane</th>\n",
       "      <th>sidewalk</th>\n",
       "      <th>mobility_devices</th>\n",
       "    </tr>\n",
       "  </thead>\n",
       "  <tbody>\n",
       "    <tr>\n",
       "      <th>0</th>\n",
       "      <td>2013-04-10 12:10</td>\n",
       "      <td>35 to 49</td>\n",
       "      <td>Male</td>\n",
       "      <td>Good</td>\n",
       "      <td>Post graduate</td>\n",
       "      <td>$100K+</td>\n",
       "      <td>Self Employed</td>\n",
       "      <td>Central Toronto York or East York</td>\n",
       "      <td>Under 2 km</td>\n",
       "      <td>15 minutes or less</td>\n",
       "      <td>scooter type e-bike</td>\n",
       "      <td>Yes - a scooter style e-bike</td>\n",
       "      <td>On scooter type e-bikes the pedals are unneces...</td>\n",
       "      <td>drive a motor propelled e-bike</td>\n",
       "      <td>No</td>\n",
       "      <td>pedestrians and/or runners a conflict relating...</td>\n",
       "      <td>No - the trails are fine as they are</td>\n",
       "      <td>The bylaw should be modified to allow any kind...</td>\n",
       "      <td>drive a scooter type e-bike propelled by an el...</td>\n",
       "      <td>The bylaw should be modified to allow e-bikes ...</td>\n",
       "      <td>be tolerant of bikes and e-bikes on the walksi...</td>\n",
       "      <td>Institute a speed limit for sidewalks</td>\n",
       "    </tr>\n",
       "    <tr>\n",
       "      <th>1</th>\n",
       "      <td>2013-04-10 12:30</td>\n",
       "      <td>18 to 34</td>\n",
       "      <td>Male</td>\n",
       "      <td>Excellent</td>\n",
       "      <td>University degree</td>\n",
       "      <td>$40K to $59K</td>\n",
       "      <td>Full Time</td>\n",
       "      <td>Central Toronto York or East York</td>\n",
       "      <td>10 - 20 km</td>\n",
       "      <td>30 - 44 minutes</td>\n",
       "      <td>scooter type e-bike</td>\n",
       "      <td>Yes - a scooter style e-bike</td>\n",
       "      <td>On scooter type e-bikes the pedals are unneces...</td>\n",
       "      <td>I very rarely use any of Toronto's Multi-Use P...</td>\n",
       "      <td>No</td>\n",
       "      <td>I am not aware of any conflicts on the trails</td>\n",
       "      <td>No - the trails are fine as they are</td>\n",
       "      <td>No changes are necessary to the existing bylaw</td>\n",
       "      <td>drive a scooter type e-bike propelled by an el...</td>\n",
       "      <td>The bylaw should be modified to allow e-bikes ...</td>\n",
       "      <td>maintain the existing programs for signage edu...</td>\n",
       "      <td>Do nothing</td>\n",
       "    </tr>\n",
       "    <tr>\n",
       "      <th>2</th>\n",
       "      <td>2013-04-10 12:33</td>\n",
       "      <td>50 to 64</td>\n",
       "      <td>Male</td>\n",
       "      <td>Good</td>\n",
       "      <td>University degree</td>\n",
       "      <td>$40K to $59K</td>\n",
       "      <td>Self Employed</td>\n",
       "      <td>Central Toronto York or East York</td>\n",
       "      <td>10 - 20 km</td>\n",
       "      <td>15 minutes or less</td>\n",
       "      <td>private motor vehicle (car truck SUV van motor...</td>\n",
       "      <td>Yes - a car SUV truck or van</td>\n",
       "      <td>Most scooter type e-bikes are wider than a bic...</td>\n",
       "      <td>cycle I very rarely use any of Toronto's Multi...</td>\n",
       "      <td>No</td>\n",
       "      <td>I am not aware of any conflicts on the trails</td>\n",
       "      <td>Yes - more signage Yes - more enforcement (tic...</td>\n",
       "      <td>No changes are necessary to the existing bylaw</td>\n",
       "      <td>ride a road bicycle or a fixie</td>\n",
       "      <td>No changes are necessary to the existing bylaw</td>\n",
       "      <td>increase signage increase enforcement increase...</td>\n",
       "      <td>only wheelchairs at walking speed</td>\n",
       "    </tr>\n",
       "    <tr>\n",
       "      <th>3</th>\n",
       "      <td>2013-04-10 12:52</td>\n",
       "      <td>50 to 64</td>\n",
       "      <td>Male</td>\n",
       "      <td>Good</td>\n",
       "      <td>4 years university no degree</td>\n",
       "      <td>$80K to $99K</td>\n",
       "      <td>Self Employed</td>\n",
       "      <td>Central Toronto York or East York</td>\n",
       "      <td>Under 2 km</td>\n",
       "      <td>15 minutes or less</td>\n",
       "      <td>bicycle</td>\n",
       "      <td>Yes - a car SUV truck or van</td>\n",
       "      <td>On scooter type e-bikes the pedals are unneces...</td>\n",
       "      <td>cycle</td>\n",
       "      <td>No</td>\n",
       "      <td>a conflict between cyclists and pedestrians a ...</td>\n",
       "      <td>Yes - more signage Yes - more enforcement (tic...</td>\n",
       "      <td>Motorized vehicles should generally not be all...</td>\n",
       "      <td>ride a commuter or cruiser style bicycle</td>\n",
       "      <td>Motorized vehicles should generally not be all...</td>\n",
       "      <td>increase signage increase enforcement</td>\n",
       "      <td>Update the definition of a personal mobility d...</td>\n",
       "    </tr>\n",
       "    <tr>\n",
       "      <th>4</th>\n",
       "      <td>2013-04-10 13:24</td>\n",
       "      <td>18 to 34</td>\n",
       "      <td>Male</td>\n",
       "      <td>Very good</td>\n",
       "      <td>College or trade school diploma</td>\n",
       "      <td>$40K to $59K</td>\n",
       "      <td>Self Employed</td>\n",
       "      <td>Central Toronto York or East York</td>\n",
       "      <td>5 - 10 km</td>\n",
       "      <td>15 minutes or less</td>\n",
       "      <td>bicycle</td>\n",
       "      <td>Yes - a car SUV truck or van</td>\n",
       "      <td>Most scooter type e-bikes are wider than a bic...</td>\n",
       "      <td>cycle I very rarely use any of Toronto's Multi...</td>\n",
       "      <td>No</td>\n",
       "      <td>I am not aware of any conflicts on the trails</td>\n",
       "      <td>No - the trails are fine as they are</td>\n",
       "      <td>Motorized vehicles should generally not be all...</td>\n",
       "      <td>ride a road bicycle or a fixie</td>\n",
       "      <td>Motorized vehicles should generally not be all...</td>\n",
       "      <td>maintain the existing programs for signage edu...</td>\n",
       "      <td>Update the definition of a personal mobility d...</td>\n",
       "    </tr>\n",
       "  </tbody>\n",
       "</table>\n",
       "</div>"
      ],
      "text/plain": [
       "          timestamp       age   sex     health  \\\n",
       "0  2013-04-10 12:10  35 to 49  Male       Good   \n",
       "1  2013-04-10 12:30  18 to 34  Male  Excellent   \n",
       "2  2013-04-10 12:33  50 to 64  Male       Good   \n",
       "3  2013-04-10 12:52  50 to 64  Male       Good   \n",
       "4  2013-04-10 13:24  18 to 34  Male  Very good   \n",
       "\n",
       "                         education        income     employment  \\\n",
       "0                    Post graduate        $100K+  Self Employed   \n",
       "1                University degree  $40K to $59K      Full Time   \n",
       "2                University degree  $40K to $59K  Self Employed   \n",
       "3     4 years university no degree  $80K to $99K  Self Employed   \n",
       "4  College or trade school diploma  $40K to $59K  Self Employed   \n",
       "\n",
       "                            district daily_travel_distance  \\\n",
       "0  Central Toronto York or East York            Under 2 km   \n",
       "1  Central Toronto York or East York            10 - 20 km   \n",
       "2  Central Toronto York or East York            10 - 20 km   \n",
       "3  Central Toronto York or East York            Under 2 km   \n",
       "4  Central Toronto York or East York             5 - 10 km   \n",
       "\n",
       "         commute_time                                     transportation  \\\n",
       "0  15 minutes or less                                scooter type e-bike   \n",
       "1     30 - 44 minutes                                scooter type e-bike   \n",
       "2  15 minutes or less  private motor vehicle (car truck SUV van motor...   \n",
       "3  15 minutes or less                                            bicycle   \n",
       "4  15 minutes or less                                            bicycle   \n",
       "\n",
       "                       vehicles  \\\n",
       "0  Yes - a scooter style e-bike   \n",
       "1  Yes - a scooter style e-bike   \n",
       "2  Yes - a car SUV truck or van   \n",
       "3  Yes - a car SUV truck or van   \n",
       "4  Yes - a car SUV truck or van   \n",
       "\n",
       "                                          statements  \\\n",
       "0  On scooter type e-bikes the pedals are unneces...   \n",
       "1  On scooter type e-bikes the pedals are unneces...   \n",
       "2  Most scooter type e-bikes are wider than a bic...   \n",
       "3  On scooter type e-bikes the pedals are unneces...   \n",
       "4  Most scooter type e-bikes are wider than a bic...   \n",
       "\n",
       "                                      trail_activity speed_limit_aware  \\\n",
       "0                     drive a motor propelled e-bike                No   \n",
       "1  I very rarely use any of Toronto's Multi-Use P...                No   \n",
       "2  cycle I very rarely use any of Toronto's Multi...                No   \n",
       "3                                              cycle                No   \n",
       "4  cycle I very rarely use any of Toronto's Multi...                No   \n",
       "\n",
       "                                            conflict  \\\n",
       "0  pedestrians and/or runners a conflict relating...   \n",
       "1      I am not aware of any conflicts on the trails   \n",
       "2      I am not aware of any conflicts on the trails   \n",
       "3  a conflict between cyclists and pedestrians a ...   \n",
       "4      I am not aware of any conflicts on the trails   \n",
       "\n",
       "                              speeding_demand_action  \\\n",
       "0               No - the trails are fine as they are   \n",
       "1               No - the trails are fine as they are   \n",
       "2  Yes - more signage Yes - more enforcement (tic...   \n",
       "3  Yes - more signage Yes - more enforcement (tic...   \n",
       "4               No - the trails are fine as they are   \n",
       "\n",
       "                                 ebike_multiuse_path  \\\n",
       "0  The bylaw should be modified to allow any kind...   \n",
       "1     No changes are necessary to the existing bylaw   \n",
       "2     No changes are necessary to the existing bylaw   \n",
       "3  Motorized vehicles should generally not be all...   \n",
       "4  Motorized vehicles should generally not be all...   \n",
       "\n",
       "                                        bicycle_lane  \\\n",
       "0  drive a scooter type e-bike propelled by an el...   \n",
       "1  drive a scooter type e-bike propelled by an el...   \n",
       "2                     ride a road bicycle or a fixie   \n",
       "3           ride a commuter or cruiser style bicycle   \n",
       "4                     ride a road bicycle or a fixie   \n",
       "\n",
       "                                  ebike_bicycle_lane  \\\n",
       "0  The bylaw should be modified to allow e-bikes ...   \n",
       "1  The bylaw should be modified to allow e-bikes ...   \n",
       "2     No changes are necessary to the existing bylaw   \n",
       "3  Motorized vehicles should generally not be all...   \n",
       "4  Motorized vehicles should generally not be all...   \n",
       "\n",
       "                                            sidewalk  \\\n",
       "0  be tolerant of bikes and e-bikes on the walksi...   \n",
       "1  maintain the existing programs for signage edu...   \n",
       "2  increase signage increase enforcement increase...   \n",
       "3              increase signage increase enforcement   \n",
       "4  maintain the existing programs for signage edu...   \n",
       "\n",
       "                                    mobility_devices  \n",
       "0              Institute a speed limit for sidewalks  \n",
       "1                                         Do nothing  \n",
       "2                  only wheelchairs at walking speed  \n",
       "3  Update the definition of a personal mobility d...  \n",
       "4  Update the definition of a personal mobility d...  "
      ]
     },
     "execution_count": 139,
     "metadata": {},
     "output_type": "execute_result"
    }
   ],
   "source": [
    "data.head()"
   ]
  },
  {
   "cell_type": "markdown",
   "metadata": {},
   "source": [
    "**timestamp** column can be dropped since they should not influence whether someone owns private motorized vehicles"
   ]
  },
  {
   "cell_type": "code",
   "execution_count": 140,
   "metadata": {},
   "outputs": [],
   "source": [
    "data = data.drop(['timestamp'], axis=1)"
   ]
  },
  {
   "cell_type": "markdown",
   "metadata": {},
   "source": [
    "## Label column: Vehicles column"
   ]
  },
  {
   "cell_type": "code",
   "execution_count": 141,
   "metadata": {},
   "outputs": [
    {
     "data": {
      "text/plain": [
       "Yes - a car SUV truck or van                                                                                                                                         1146\n",
       "No - I do not have access to a private motorized vehicle                                                                                                              522\n",
       "Yes a motorcycle                                                                                                                                                      162\n",
       "Yes - a pedal assist type e-bike                                                                                                                                       99\n",
       "Yes - a scooter style e-bike                                                                                                                                           85\n",
       "Yes - a car SUV truck or van Yes a motorcycle                                                                                                                          25\n",
       "Yes - a car SUV truck or van Yes - a scooter style e-bike                                                                                                              22\n",
       "Yes - a car SUV truck or van Yes - a pedal assist type e-bike                                                                                                          20\n",
       "Yes a limited speed motorcycle (eg gas powered vespa)                                                                                                                  17\n",
       "Autoshare                                                                                                                                                               9\n",
       "car share                                                                                                                                                               4\n",
       "Yes - a gas moped                                                                                                                                                       4\n",
       "Yes - a car SUV truck or van Yes - a scooter style e-bike Yes - a pedal assist type e-bike                                                                              3\n",
       "car and motorcycle                                                                                                                                                      3\n",
       "Yes - a car SUV truck or van Yes a limited speed motorcycle (eg gas powered vespa)                                                                                      2\n",
       "SUV and motorcycle                                                                                                                                                      2\n",
       "Car and motorcycle                                                                                                                                                      2\n",
       "car rental                                                                                                                                                              2\n",
       "Yes - a car SUV truck or van No - I do not have access to a private motorized vehicle                                                                                   2\n",
       "zipcar                                                                                                                                                                  2\n",
       "Yes - a car SUV truck or van Yes a motorcycle Yes - a scooter style e-bike Yes - a pedal assist type e-bike                                                             2\n",
       "car & motorcycle                                                                                                                                                        2\n",
       "Yes - a truck motorcycle and pedal assist e-bike                                                                                                                        1\n",
       "Car motorcycle                                                                                                                                                          1\n",
       "Yes - a car SUV truck or van Yes a motorcycle Yes a limited speed motorcycle (eg gas powered vespa) Yes - a pedal assist type e-bike                                    1\n",
       "Car2Go membership                                                                                                                                                       1\n",
       "yes - car and motorcycle                                                                                                                                                1\n",
       "this Q is set up to only allow one answer - we have a car m/c 2 gas-powered scooters (Vespa 200cc not LSM)                                                              1\n",
       "A car and a motorcycle but your survey is flawed and wont let me select both options                                                                                    1\n",
       "both truck and many motorcycles and motorscooters all gas                                                                                                               1\n",
       "                                                                                                                                                                     ... \n",
       "rent/share cars as needed                                                                                                                                               1\n",
       "Car and Vespa                                                                                                                                                           1\n",
       "5000W custom high power electric bicycle (non-scooter)                                                                                                                  1\n",
       "SUV Velomobile pedal assist ebike                                                                                                                                       1\n",
       "Yes - a car SUV truck or van Yes a motorcycle Yes a limited speed motorcycle (eg gas powered vespa) Yes - a scooter style e-bike Yes - a pedal assist type e-bike       1\n",
       "Car van motorcycle bike                                                                                                                                                 1\n",
       "membership in car-sharing service which we have not used to date                                                                                                        1\n",
       "a car motorcycle gas powered vespa-not limited speed survet wont let me choose all                                                                                      1\n",
       "car and pedal assist bike                                                                                                                                               1\n",
       "Yes - a car SUV truck or van Yes a motorcycle Yes - a gas moped                                                                                                         1\n",
       "bike                                                                                                                                                                    1\n",
       "No - I do not own a private motorized vehicle                                                                                                                           1\n",
       "A car and a scooter style ebike - this only allowed me one selection                                                                                                    1\n",
       "SUV and motorcycle only lets me choose one                                                                                                                              1\n",
       "car and limited speed motorcycle                                                                                                                                        1\n",
       "Car share                                                                                                                                                               1\n",
       "I can borrow a car from time to time                                                                                                                                    1\n",
       "car and motorcycle (survey only allows single value selection)                                                                                                          1\n",
       "considering an e-bike                                                                                                                                                   1\n",
       "car motorcycle limited speed motorcycle                                                                                                                                 1\n",
       "Yes - a car SUV truck or van Electric scooter -sidewalk use only                                                                                                        1\n",
       "Yes - a car SUV truck or van Yes - a scooter style e-bike Please ebikes are not motorized vehicles they are power-assisted bicycles                                     1\n",
       "2 Cars 2 motorcycles and 1 scooter                                                                                                                                      1\n",
       "Menu does not allow multiple selections despite the title Car and motorcycle                                                                                            1\n",
       "I can't choose all that apply  Car e-bike and pedal bike                                                                                                                1\n",
       "Car and pedal assist e-bike (the form doesn't allow multiple options)                                                                                                   1\n",
       "car sharing                                                                                                                                                             1\n",
       "The author of this survey is a fuk'g idiot how do i answer if i have more than one of these?                                                                            1\n",
       "Yes - a car SUV truck or van Yes a motorcycle Yes a limited speed motorcycle (eg gas powered vespa)                                                                     1\n",
       "the survey is only letting me click one but i have a scooter-style ebike as well                                                                                        1\n",
       "Name: vehicles, Length: 123, dtype: int64"
      ]
     },
     "execution_count": 141,
     "metadata": {},
     "output_type": "execute_result"
    }
   ],
   "source": [
    "data['vehicles'].value_counts()"
   ]
  },
  {
   "cell_type": "markdown",
   "metadata": {},
   "source": [
    "We will convert the **vehicles** column to a binary column. Any value that contains the substring \"No - I do not have access to a private motorized vehicle\" will be a no, and any other value is a yes."
   ]
  },
  {
   "cell_type": "code",
   "execution_count": 142,
   "metadata": {},
   "outputs": [],
   "source": [
    "data['vehicles'] = (~data['vehicles'].str.contains('No - I do not have access to a private motorized vehicle')).astype(int)"
   ]
  },
  {
   "cell_type": "code",
   "execution_count": 143,
   "metadata": {},
   "outputs": [
    {
     "data": {
      "text/plain": [
       "1    1712\n",
       "0     526\n",
       "Name: vehicles, dtype: int64"
      ]
     },
     "execution_count": 143,
     "metadata": {},
     "output_type": "execute_result"
    }
   ],
   "source": [
    "data['vehicles'].value_counts()"
   ]
  },
  {
   "cell_type": "markdown",
   "metadata": {},
   "source": [
    "## age"
   ]
  },
  {
   "cell_type": "markdown",
   "metadata": {},
   "source": [
    "Let's us look at the effect of age on whether someone owns a vehicle or not."
   ]
  },
  {
   "cell_type": "code",
   "execution_count": 144,
   "metadata": {},
   "outputs": [
    {
     "data": {
      "image/png": "[encoded data removed]",
      "text/plain": [
       "<Figure size 864x432 with 1 Axes>"
      ]
     },
     "metadata": {},
     "output_type": "display_data"
    }
   ],
   "source": [
    "data.dropna(subset=['age'], inplace=True)\n",
    "plt.figure(figsize = (12, 6))\n",
    "ax = sns.countplot(x='age', hue='vehicles', data=data, order=sorted(data['age'].value_counts().keys()))"
   ]
  },
  {
   "cell_type": "markdown",
   "metadata": {},
   "source": [
    "It seems young adults (18 - 34) are less likely to own vehicles."
   ]
  },
  {
   "cell_type": "markdown",
   "metadata": {},
   "source": [
    "##  sex"
   ]
  },
  {
   "cell_type": "code",
   "execution_count": 145,
   "metadata": {},
   "outputs": [
    {
     "data": {
      "image/png": "[encoded data removed]",
      "text/plain": [
       "<Figure size 864x432 with 1 Axes>"
      ]
     },
     "metadata": {},
     "output_type": "display_data"
    }
   ],
   "source": [
    "data['sex'] = data['sex'].map(lambda s: s if s in ('Male', 'Female') else 'Other')\n",
    "plt.figure(figsize = (12, 6))\n",
    "ax = sns.countplot(x='sex', hue='vehicles', data=data)"
   ]
  },
  {
   "cell_type": "markdown",
   "metadata": {},
   "source": [
    "Seems females are more likely to not own vehicles."
   ]
  },
  {
   "cell_type": "markdown",
   "metadata": {},
   "source": [
    "## health"
   ]
  },
  {
   "cell_type": "code",
   "execution_count": 146,
   "metadata": {},
   "outputs": [
    {
     "data": {
      "text/plain": [
       "Very good                                    890\n",
       "Good                                         667\n",
       "Excellent                                    411\n",
       "Fairly good                                  210\n",
       "Poor                                          41\n",
       "NaN                                            8\n",
       "Disabled                                       1\n",
       "Back Injury                                    1\n",
       "Obese diabetic but trying to be healthy        1\n",
       "healing fractured heel                         1\n",
       "healthy but with arthritis mobilty issues      1\n",
       "In poor shape but active & improving           1\n",
       "need knee replacement                          1\n",
       "Name: health, dtype: int64"
      ]
     },
     "execution_count": 146,
     "metadata": {},
     "output_type": "execute_result"
    }
   ],
   "source": [
    "data['health'].value_counts(dropna=False)"
   ]
  },
  {
   "cell_type": "markdown",
   "metadata": {},
   "source": [
    "We have 5 values we want to use: poor, fairly good, good, very good, excellent. If NaN, we use the middle value good instead. The other categories that are not very good, good, excellent, fairly good, or poor seem to be poor, so we'll convert those values to poor. We'll also assign a graded numerical value to indicate various levels of health rather than treating this as categorical."
   ]
  },
  {
   "cell_type": "code",
   "execution_count": 147,
   "metadata": {},
   "outputs": [],
   "source": [
    "data['health'] = data['health'].map(lambda h: h if isinstance(h, str) else 'Good')"
   ]
  },
  {
   "cell_type": "code",
   "execution_count": 148,
   "metadata": {},
   "outputs": [],
   "source": [
    "data['health'] = data['health'].map(lambda h: h if h in ('Very good', 'Good', 'Excellent', 'Fairly good', 'Poor') else 'Poor')"
   ]
  },
  {
   "cell_type": "code",
   "execution_count": 149,
   "metadata": {},
   "outputs": [
    {
     "data": {
      "image/png": "[encoded data removed]",
      "text/plain": [
       "<Figure size 864x432 with 1 Axes>"
      ]
     },
     "metadata": {},
     "output_type": "display_data"
    }
   ],
   "source": [
    "plt.figure(figsize = (12, 6))\n",
    "ax = sns.countplot(x='health', hue='vehicles', data=data, order=['Poor', 'Fairly good', 'Good', 'Very good', 'Excellent'])"
   ]
  },
  {
   "cell_type": "code",
   "execution_count": 150,
   "metadata": {},
   "outputs": [],
   "source": [
    "data['health'] = data['health'].map({'Poor': 1, 'Fairly good': 2, 'Good': 3, 'Very good': 4, 'Excellent': 5})"
   ]
  },
  {
   "cell_type": "markdown",
   "metadata": {},
   "source": [
    "## education"
   ]
  },
  {
   "cell_type": "code",
   "execution_count": 151,
   "metadata": {},
   "outputs": [
    {
     "data": {
      "text/plain": [
       "University degree                                    895\n",
       "Post graduate                                        591\n",
       "College or trade school diploma                      521\n",
       "High school diploma                                  192\n",
       "NaN                                                   14\n",
       "Some university                                        2\n",
       "University Student                                     1\n",
       "M D                                                    1\n",
       "Some University                                        1\n",
       "some university                                        1\n",
       "working towards OSSD                                   1\n",
       "Professional degree                                    1\n",
       "4 years university no degree                           1\n",
       "college degree (not university and not a diploma)      1\n",
       "some uni                                               1\n",
       "in HS                                                  1\n",
       "High school Student                                    1\n",
       "Law School                                             1\n",
       "university                                             1\n",
       "Professional Certifications                            1\n",
       "Grade 8                                                1\n",
       "still in school                                        1\n",
       "Graduate                                               1\n",
       "Grade 9                                                1\n",
       "PhD                                                    1\n",
       "Name: education, dtype: int64"
      ]
     },
     "execution_count": 151,
     "metadata": {},
     "output_type": "execute_result"
    }
   ],
   "source": [
    "data['education'].value_counts(dropna=False)"
   ]
  },
  {
   "cell_type": "code",
   "execution_count": 152,
   "metadata": {},
   "outputs": [],
   "source": [
    "def clean_education(s):\n",
    "    if not isinstance(s, str):\n",
    "        return np.nan\n",
    "    s = s.lower()\n",
    "    if 'university' in s:\n",
    "        return 'university'\n",
    "    \n",
    "    if 'graduate' in s or 'm d' in s or 'phd' in s or 'law' in s:\n",
    "        return 'graduate'\n",
    "\n",
    "    if 'college or trade school diploma' in s or 'professional' in s:\n",
    "        return 'trade'\n",
    "    \n",
    "    if 'high school diploma' in s or 'in hs' in s or 'ossd' in s or 'grade' in s:\n",
    "        return 'high_school'\n",
    "\n",
    "data['education'] = data['education'].map(clean_education)"
   ]
  },
  {
   "cell_type": "markdown",
   "metadata": {},
   "source": [
    "Look at the NaN values"
   ]
  },
  {
   "cell_type": "code",
   "execution_count": 153,
   "metadata": {},
   "outputs": [
    {
     "data": {
      "text/html": [
       "<div>\n",
       "<style scoped>\n",
       "    .dataframe tbody tr th:only-of-type {\n",
       "        vertical-align: middle;\n",
       "    }\n",
       "\n",
       "    .dataframe tbody tr th {\n",
       "        vertical-align: top;\n",
       "    }\n",
       "\n",
       "    .dataframe thead th {\n",
       "        text-align: right;\n",
       "    }\n",
       "</style>\n",
       "<table border=\"1\" class=\"dataframe\">\n",
       "  <thead>\n",
       "    <tr style=\"text-align: right;\">\n",
       "      <th></th>\n",
       "      <th>age</th>\n",
       "      <th>sex</th>\n",
       "      <th>health</th>\n",
       "      <th>education</th>\n",
       "      <th>income</th>\n",
       "      <th>employment</th>\n",
       "      <th>district</th>\n",
       "      <th>daily_travel_distance</th>\n",
       "      <th>commute_time</th>\n",
       "      <th>transportation</th>\n",
       "      <th>vehicles</th>\n",
       "      <th>statements</th>\n",
       "      <th>trail_activity</th>\n",
       "      <th>speed_limit_aware</th>\n",
       "      <th>conflict</th>\n",
       "      <th>speeding_demand_action</th>\n",
       "      <th>ebike_multiuse_path</th>\n",
       "      <th>bicycle_lane</th>\n",
       "      <th>ebike_bicycle_lane</th>\n",
       "      <th>sidewalk</th>\n",
       "      <th>mobility_devices</th>\n",
       "    </tr>\n",
       "  </thead>\n",
       "  <tbody>\n",
       "    <tr>\n",
       "      <th>232</th>\n",
       "      <td>35 to 49</td>\n",
       "      <td>Male</td>\n",
       "      <td>2</td>\n",
       "      <td>NaN</td>\n",
       "      <td>$100K+</td>\n",
       "      <td>Full Time</td>\n",
       "      <td>Central Toronto York or East York</td>\n",
       "      <td>Over 35 km</td>\n",
       "      <td>30 - 44 minutes</td>\n",
       "      <td>private motor vehicle (car truck SUV van motor...</td>\n",
       "      <td>1</td>\n",
       "      <td>scooter style e-bikes are different than pedal...</td>\n",
       "      <td>walk with a stroller young child or pet</td>\n",
       "      <td>No</td>\n",
       "      <td>a conflict between two cyclists a conflict bet...</td>\n",
       "      <td>Yes - more signage</td>\n",
       "      <td>The bylaw should be modified to allow the 'ped...</td>\n",
       "      <td>ride a commuter or cruiser style bicycle</td>\n",
       "      <td>The bylaw should be modified to allow all kind...</td>\n",
       "      <td>increase signage increase enforcement increase...</td>\n",
       "      <td>Update the definition of a personal mobility d...</td>\n",
       "    </tr>\n",
       "    <tr>\n",
       "      <th>245</th>\n",
       "      <td>35 to 49</td>\n",
       "      <td>Male</td>\n",
       "      <td>3</td>\n",
       "      <td>NaN</td>\n",
       "      <td>NaN</td>\n",
       "      <td>Full Time</td>\n",
       "      <td>Central Toronto York or East York</td>\n",
       "      <td>20 -35 km</td>\n",
       "      <td>30 - 44 minutes</td>\n",
       "      <td>bicycle</td>\n",
       "      <td>1</td>\n",
       "      <td>scooter style e-bikes are different than pedal...</td>\n",
       "      <td>cycle</td>\n",
       "      <td>No</td>\n",
       "      <td>a conflict relating to a dog(s)</td>\n",
       "      <td>No - the trails are fine as they are</td>\n",
       "      <td>The bylaw should be modified to allow the 'ped...</td>\n",
       "      <td>ride a commuter or cruiser style bicycle</td>\n",
       "      <td>The bylaw should be modified to allow 'pedal a...</td>\n",
       "      <td>maintain the existing programs for signage edu...</td>\n",
       "      <td>Institute a speed limit for sidewalks</td>\n",
       "    </tr>\n",
       "    <tr>\n",
       "      <th>491</th>\n",
       "      <td>35 to 49</td>\n",
       "      <td>Male</td>\n",
       "      <td>4</td>\n",
       "      <td>NaN</td>\n",
       "      <td>$80K to $99K</td>\n",
       "      <td>Full Time</td>\n",
       "      <td>Central Toronto York or East York</td>\n",
       "      <td>Over 35 km</td>\n",
       "      <td>over 1 hour each way</td>\n",
       "      <td>private motor vehicle (car truck SUV van motor...</td>\n",
       "      <td>1</td>\n",
       "      <td>On scooter type e-bikes the pedals are unneces...</td>\n",
       "      <td>walk with a stroller young child or pet</td>\n",
       "      <td>No</td>\n",
       "      <td>a conflict between cyclists and pedestrians a ...</td>\n",
       "      <td>Yes - more enforcement (ticketing)</td>\n",
       "      <td>No changes are necessary to the existing bylaw</td>\n",
       "      <td>ride a mountain downhill or BMX bicycle</td>\n",
       "      <td>No changes are necessary to the existing bylaw</td>\n",
       "      <td>increase enforcement</td>\n",
       "      <td>Update the definition of a personal mobility d...</td>\n",
       "    </tr>\n",
       "    <tr>\n",
       "      <th>805</th>\n",
       "      <td>35 to 49</td>\n",
       "      <td>Other</td>\n",
       "      <td>3</td>\n",
       "      <td>NaN</td>\n",
       "      <td>Under $20K</td>\n",
       "      <td>Self Employed</td>\n",
       "      <td>Central Toronto York or East York</td>\n",
       "      <td>Over 35 km</td>\n",
       "      <td>15 minutes or less</td>\n",
       "      <td>private motor vehicle (car truck SUV van motor...</td>\n",
       "      <td>1</td>\n",
       "      <td>scooter style e-bikes are different than pedal...</td>\n",
       "      <td>walk walk with a stroller young child or pet r...</td>\n",
       "      <td>Yes</td>\n",
       "      <td>pedestrians and/or runners a conflict relating...</td>\n",
       "      <td>No - the trails are fine as they are</td>\n",
       "      <td>No changes are necessary to the existing bylaw</td>\n",
       "      <td>ride a road bicycle or a fixie</td>\n",
       "      <td>No changes are necessary to the existing bylaw</td>\n",
       "      <td>increase enforcement</td>\n",
       "      <td>Update the definition of a personal mobility d...</td>\n",
       "    </tr>\n",
       "    <tr>\n",
       "      <th>877</th>\n",
       "      <td>35 to 49</td>\n",
       "      <td>Female</td>\n",
       "      <td>4</td>\n",
       "      <td>NaN</td>\n",
       "      <td>NaN</td>\n",
       "      <td>Full Time</td>\n",
       "      <td>Central Toronto York or East York</td>\n",
       "      <td>5 - 10 km</td>\n",
       "      <td>16 - 29 minutes</td>\n",
       "      <td>bicycle</td>\n",
       "      <td>0</td>\n",
       "      <td>E-bikes should require a license</td>\n",
       "      <td>cycle</td>\n",
       "      <td>Yes</td>\n",
       "      <td>pedestrians and/or runners a conflict relating...</td>\n",
       "      <td>No - the trails are fine as they are</td>\n",
       "      <td>No changes are necessary to the existing bylaw</td>\n",
       "      <td>ride a road bicycle or a fixie</td>\n",
       "      <td>E-bikes should NOT be allowed in bike lanes Le...</td>\n",
       "      <td>increase enforcement</td>\n",
       "      <td>Don't Know / Rather Not Answer</td>\n",
       "    </tr>\n",
       "    <tr>\n",
       "      <th>887</th>\n",
       "      <td>18 to 34</td>\n",
       "      <td>Male</td>\n",
       "      <td>4</td>\n",
       "      <td>NaN</td>\n",
       "      <td>NaN</td>\n",
       "      <td>Self Employed</td>\n",
       "      <td>Central Toronto York or East York</td>\n",
       "      <td>Under 2 km</td>\n",
       "      <td>15 minutes or less</td>\n",
       "      <td>walking</td>\n",
       "      <td>0</td>\n",
       "      <td>scooter style e-bikes are different than pedal...</td>\n",
       "      <td>walk cycle</td>\n",
       "      <td>Yes</td>\n",
       "      <td>pedestrians and/or runners a conflict relating...</td>\n",
       "      <td>Yes - more signage Yes - more educational prog...</td>\n",
       "      <td>No changes are necessary to the existing bylaw</td>\n",
       "      <td>ride a road bicycle or a fixie</td>\n",
       "      <td>No changes are necessary to the existing bylaw</td>\n",
       "      <td>increase enforcement increase education</td>\n",
       "      <td>Update the definition of a personal mobility d...</td>\n",
       "    </tr>\n",
       "    <tr>\n",
       "      <th>1058</th>\n",
       "      <td>50 to 64</td>\n",
       "      <td>Female</td>\n",
       "      <td>2</td>\n",
       "      <td>NaN</td>\n",
       "      <td>$100K+</td>\n",
       "      <td>Full Time</td>\n",
       "      <td>Central Toronto York or East York</td>\n",
       "      <td>20 -35 km</td>\n",
       "      <td>16 - 29 minutes</td>\n",
       "      <td>scooter type e-bike</td>\n",
       "      <td>1</td>\n",
       "      <td>On scooter type e-bikes the pedals are unneces...</td>\n",
       "      <td>walk</td>\n",
       "      <td>Yes</td>\n",
       "      <td>a conflict relating to a dog(s) a conflict bet...</td>\n",
       "      <td>Yes - more signage Yes - more enforcement (tic...</td>\n",
       "      <td>The bylaw should be modified to allow any kind...</td>\n",
       "      <td>drive a scooter type e-bike propelled by an el...</td>\n",
       "      <td>The bylaw should be modified to allow e-bikes ...</td>\n",
       "      <td>increase enforcement</td>\n",
       "      <td>Update the definition of a personal mobility d...</td>\n",
       "    </tr>\n",
       "    <tr>\n",
       "      <th>1197</th>\n",
       "      <td>50 to 64</td>\n",
       "      <td>Male</td>\n",
       "      <td>1</td>\n",
       "      <td>NaN</td>\n",
       "      <td>NaN</td>\n",
       "      <td>Self Employed</td>\n",
       "      <td>Central Toronto York or East York</td>\n",
       "      <td>10 - 20 km</td>\n",
       "      <td>16 - 29 minutes</td>\n",
       "      <td>private motor vehicle (car truck SUV van motor...</td>\n",
       "      <td>1</td>\n",
       "      <td>Most scooter type e-bikes are wider than a bic...</td>\n",
       "      <td>drive a motor propelled e-bike</td>\n",
       "      <td>Yes</td>\n",
       "      <td>a conflict between e-biker and a cyclist</td>\n",
       "      <td>Yes - more signage</td>\n",
       "      <td>The bylaw should be modified to allow any kind...</td>\n",
       "      <td>drive a scooter type e-bike propelled by an el...</td>\n",
       "      <td>The bylaw should be modified to allow e-bikes ...</td>\n",
       "      <td>increase education</td>\n",
       "      <td>Institute a speed limit for sidewalks</td>\n",
       "    </tr>\n",
       "    <tr>\n",
       "      <th>1340</th>\n",
       "      <td>18 to 34</td>\n",
       "      <td>Male</td>\n",
       "      <td>3</td>\n",
       "      <td>NaN</td>\n",
       "      <td>$40K to $59K</td>\n",
       "      <td>Full Time</td>\n",
       "      <td>Central Toronto York or East York</td>\n",
       "      <td>5 - 10 km</td>\n",
       "      <td>16 - 29 minutes</td>\n",
       "      <td>transit</td>\n",
       "      <td>1</td>\n",
       "      <td>scooter style e-bikes are different than pedal...</td>\n",
       "      <td>walk run skate cycle</td>\n",
       "      <td>Yes</td>\n",
       "      <td>a conflict between an e-biker and a pedestrian...</td>\n",
       "      <td>Yes - more signage Yes - more enforcement (tic...</td>\n",
       "      <td>No changes are necessary to the existing bylaw</td>\n",
       "      <td>ride a commuter or cruiser style bicycle</td>\n",
       "      <td>Motorized vehicles should generally not be all...</td>\n",
       "      <td>increase signage increase enforcement increase...</td>\n",
       "      <td>Update the definition of a personal mobility d...</td>\n",
       "    </tr>\n",
       "    <tr>\n",
       "      <th>1376</th>\n",
       "      <td>50 to 64</td>\n",
       "      <td>Male</td>\n",
       "      <td>4</td>\n",
       "      <td>NaN</td>\n",
       "      <td>NaN</td>\n",
       "      <td>NaN</td>\n",
       "      <td>Central Toronto York or East York</td>\n",
       "      <td>10 - 20 km</td>\n",
       "      <td>16 - 29 minutes</td>\n",
       "      <td>private motor vehicle (car truck SUV van motor...</td>\n",
       "      <td>1</td>\n",
       "      <td>Most scooter type e-bikes are wider than a bic...</td>\n",
       "      <td>walk with a stroller young child or pet</td>\n",
       "      <td>Yes</td>\n",
       "      <td>I am not aware of any conflicts on the trails</td>\n",
       "      <td>Yes - more educational programs</td>\n",
       "      <td>The bylaw should be modified to allow the 'ped...</td>\n",
       "      <td>ride a mountain downhill or BMX bicycle</td>\n",
       "      <td>The bylaw should be modified to allow all kind...</td>\n",
       "      <td>increase enforcement</td>\n",
       "      <td>Update the definition of a personal mobility d...</td>\n",
       "    </tr>\n",
       "    <tr>\n",
       "      <th>1656</th>\n",
       "      <td>35 to 49</td>\n",
       "      <td>Other</td>\n",
       "      <td>3</td>\n",
       "      <td>NaN</td>\n",
       "      <td>$100K+</td>\n",
       "      <td>Full Time</td>\n",
       "      <td>Central Toronto York or East York</td>\n",
       "      <td>10 - 20 km</td>\n",
       "      <td>30 - 44 minutes</td>\n",
       "      <td>scooter type e-bike</td>\n",
       "      <td>1</td>\n",
       "      <td>E-bikes are a green transportation option whic...</td>\n",
       "      <td>walk with a stroller young child or pet</td>\n",
       "      <td>Yes</td>\n",
       "      <td>I am not aware of any conflicts on the trails</td>\n",
       "      <td>Yes - more educational programs</td>\n",
       "      <td>The bylaw should be modified to allow the 'ped...</td>\n",
       "      <td>use bicycle lanes only to avoid slowing down c...</td>\n",
       "      <td>The bylaw should be modified to allow e-bikes ...</td>\n",
       "      <td>increase education</td>\n",
       "      <td>Update the definition of a personal mobility d...</td>\n",
       "    </tr>\n",
       "    <tr>\n",
       "      <th>1841</th>\n",
       "      <td>65 years or more</td>\n",
       "      <td>Female</td>\n",
       "      <td>4</td>\n",
       "      <td>NaN</td>\n",
       "      <td>NaN</td>\n",
       "      <td>Retired</td>\n",
       "      <td>Central Toronto York or East York</td>\n",
       "      <td>Under 2 km</td>\n",
       "      <td>I do not commute</td>\n",
       "      <td>walking</td>\n",
       "      <td>1</td>\n",
       "      <td>scooter style e-bikes are different than pedal...</td>\n",
       "      <td>walk</td>\n",
       "      <td>Yes</td>\n",
       "      <td>I am not aware of any conflicts on the trails</td>\n",
       "      <td>Yes - more enforcement (ticketing)</td>\n",
       "      <td>Motorized vehicles should generally not be all...</td>\n",
       "      <td>ride a commuter or cruiser style bicycle</td>\n",
       "      <td>Motorized vehicles should generally not be all...</td>\n",
       "      <td>increase enforcement</td>\n",
       "      <td>Update the definition of a personal mobility d...</td>\n",
       "    </tr>\n",
       "    <tr>\n",
       "      <th>1958</th>\n",
       "      <td>17 or younger</td>\n",
       "      <td>Male</td>\n",
       "      <td>5</td>\n",
       "      <td>NaN</td>\n",
       "      <td>$40K to $59K</td>\n",
       "      <td>Part Time</td>\n",
       "      <td>North York</td>\n",
       "      <td>10 - 20 km</td>\n",
       "      <td>15 minutes or less</td>\n",
       "      <td>scooter type e-bike</td>\n",
       "      <td>1</td>\n",
       "      <td>On scooter type e-bikes the pedals are unneces...</td>\n",
       "      <td>drive a motor propelled e-bike</td>\n",
       "      <td>No</td>\n",
       "      <td>I am not aware of any conflicts on the trails</td>\n",
       "      <td>Yes - more signage</td>\n",
       "      <td>The bylaw should be modified to allow any kind...</td>\n",
       "      <td>drive a scooter type e-bike propelled by an el...</td>\n",
       "      <td>The bylaw should be modified to allow e-bikes ...</td>\n",
       "      <td>maintain the existing programs for signage edu...</td>\n",
       "      <td>Institute a speed limit for sidewalks</td>\n",
       "    </tr>\n",
       "    <tr>\n",
       "      <th>1991</th>\n",
       "      <td>35 to 49</td>\n",
       "      <td>Male</td>\n",
       "      <td>4</td>\n",
       "      <td>NaN</td>\n",
       "      <td>NaN</td>\n",
       "      <td>NaN</td>\n",
       "      <td>Central Toronto York or East York</td>\n",
       "      <td>5 - 10 km</td>\n",
       "      <td>30 - 44 minutes</td>\n",
       "      <td>transit</td>\n",
       "      <td>1</td>\n",
       "      <td>scooter style e-bikes are different than pedal...</td>\n",
       "      <td>walk cycle</td>\n",
       "      <td>No</td>\n",
       "      <td>pedestrians and/or runners a conflict relating...</td>\n",
       "      <td>Yes - more signage Yes - more enforcement (tic...</td>\n",
       "      <td>No changes are necessary to the existing bylaw</td>\n",
       "      <td>ride a road bicycle or a fixie</td>\n",
       "      <td>No changes are necessary to the existing bylaw</td>\n",
       "      <td>increase signage increase enforcement increase...</td>\n",
       "      <td>Update the definition of a personal mobility d...</td>\n",
       "    </tr>\n",
       "    <tr>\n",
       "      <th>2048</th>\n",
       "      <td>35 to 49</td>\n",
       "      <td>Female</td>\n",
       "      <td>5</td>\n",
       "      <td>None</td>\n",
       "      <td>$100K+</td>\n",
       "      <td>Full Time</td>\n",
       "      <td>Etobicoke</td>\n",
       "      <td>Over 35 km</td>\n",
       "      <td>45 minutes - 1 hour</td>\n",
       "      <td>transit</td>\n",
       "      <td>1</td>\n",
       "      <td>Most scooter type e-bikes are wider than a bic...</td>\n",
       "      <td>cycle</td>\n",
       "      <td>No</td>\n",
       "      <td>I am not aware of any conflicts on the trails</td>\n",
       "      <td>No - the trails are fine as they are</td>\n",
       "      <td>The bylaw should be modified to allow the 'ped...</td>\n",
       "      <td>ride a mountain downhill or BMX bicycle</td>\n",
       "      <td>The bylaw should be modified to allow all kind...</td>\n",
       "      <td>make the bike lanes safer If the road feels da...</td>\n",
       "      <td>Do nothing</td>\n",
       "    </tr>\n",
       "    <tr>\n",
       "      <th>2188</th>\n",
       "      <td>17 or younger</td>\n",
       "      <td>Male</td>\n",
       "      <td>4</td>\n",
       "      <td>None</td>\n",
       "      <td>$80K to $99K</td>\n",
       "      <td>Student</td>\n",
       "      <td>Etobicoke</td>\n",
       "      <td>10 - 20 km</td>\n",
       "      <td>30 - 44 minutes</td>\n",
       "      <td>bicycle</td>\n",
       "      <td>1</td>\n",
       "      <td>Most scooter type e-bikes are wider than a bic...</td>\n",
       "      <td>walk cycle</td>\n",
       "      <td>Yes</td>\n",
       "      <td>a conflict relating to a dog(s) a conflict bet...</td>\n",
       "      <td>Yes - more enforcement (ticketing) Yes - more ...</td>\n",
       "      <td>Motorized vehicles should generally not be all...</td>\n",
       "      <td>ride a commuter or cruiser style bicycle</td>\n",
       "      <td>The bylaw should be modified to allow 'pedal a...</td>\n",
       "      <td>increase education</td>\n",
       "      <td>Update the definition of a personal mobility d...</td>\n",
       "    </tr>\n",
       "    <tr>\n",
       "      <th>2221</th>\n",
       "      <td>17 or younger</td>\n",
       "      <td>Male</td>\n",
       "      <td>5</td>\n",
       "      <td>None</td>\n",
       "      <td>$80K to $99K</td>\n",
       "      <td>Student</td>\n",
       "      <td>Central Toronto York or East York</td>\n",
       "      <td>Under 2 km</td>\n",
       "      <td>15 minutes or less</td>\n",
       "      <td>walking</td>\n",
       "      <td>1</td>\n",
       "      <td>Most scooter type e-bikes are wider than a bic...</td>\n",
       "      <td>walk cycle</td>\n",
       "      <td>No</td>\n",
       "      <td>a conflict relating to a dog(s) a conflict bet...</td>\n",
       "      <td>Yes - more signage Yes - more enforcement (tic...</td>\n",
       "      <td>No changes are necessary to the existing bylaw</td>\n",
       "      <td>my bicycle is attached to my mom's</td>\n",
       "      <td>No changes are necessary to the existing bylaw</td>\n",
       "      <td>increase enforcement increase education</td>\n",
       "      <td>Update the definition of a personal mobility d...</td>\n",
       "    </tr>\n",
       "  </tbody>\n",
       "</table>\n",
       "</div>"
      ],
      "text/plain": [
       "                   age     sex  health education        income     employment  \\\n",
       "232           35 to 49    Male       2       NaN        $100K+      Full Time   \n",
       "245           35 to 49    Male       3       NaN           NaN      Full Time   \n",
       "491           35 to 49    Male       4       NaN  $80K to $99K      Full Time   \n",
       "805           35 to 49   Other       3       NaN    Under $20K  Self Employed   \n",
       "877           35 to 49  Female       4       NaN           NaN      Full Time   \n",
       "887           18 to 34    Male       4       NaN           NaN  Self Employed   \n",
       "1058          50 to 64  Female       2       NaN        $100K+      Full Time   \n",
       "1197          50 to 64    Male       1       NaN           NaN  Self Employed   \n",
       "1340          18 to 34    Male       3       NaN  $40K to $59K      Full Time   \n",
       "1376          50 to 64    Male       4       NaN           NaN            NaN   \n",
       "1656          35 to 49   Other       3       NaN        $100K+      Full Time   \n",
       "1841  65 years or more  Female       4       NaN           NaN        Retired   \n",
       "1958     17 or younger    Male       5       NaN  $40K to $59K      Part Time   \n",
       "1991          35 to 49    Male       4       NaN           NaN            NaN   \n",
       "2048          35 to 49  Female       5      None        $100K+      Full Time   \n",
       "2188     17 or younger    Male       4      None  $80K to $99K        Student   \n",
       "2221     17 or younger    Male       5      None  $80K to $99K        Student   \n",
       "\n",
       "                               district daily_travel_distance  \\\n",
       "232   Central Toronto York or East York            Over 35 km   \n",
       "245   Central Toronto York or East York             20 -35 km   \n",
       "491   Central Toronto York or East York            Over 35 km   \n",
       "805   Central Toronto York or East York            Over 35 km   \n",
       "877   Central Toronto York or East York             5 - 10 km   \n",
       "887   Central Toronto York or East York            Under 2 km   \n",
       "1058  Central Toronto York or East York             20 -35 km   \n",
       "1197  Central Toronto York or East York            10 - 20 km   \n",
       "1340  Central Toronto York or East York             5 - 10 km   \n",
       "1376  Central Toronto York or East York            10 - 20 km   \n",
       "1656  Central Toronto York or East York            10 - 20 km   \n",
       "1841  Central Toronto York or East York            Under 2 km   \n",
       "1958                         North York            10 - 20 km   \n",
       "1991  Central Toronto York or East York             5 - 10 km   \n",
       "2048                          Etobicoke            Over 35 km   \n",
       "2188                          Etobicoke            10 - 20 km   \n",
       "2221  Central Toronto York or East York            Under 2 km   \n",
       "\n",
       "              commute_time                                     transportation  \\\n",
       "232        30 - 44 minutes  private motor vehicle (car truck SUV van motor...   \n",
       "245        30 - 44 minutes                                            bicycle   \n",
       "491   over 1 hour each way  private motor vehicle (car truck SUV van motor...   \n",
       "805     15 minutes or less  private motor vehicle (car truck SUV van motor...   \n",
       "877        16 - 29 minutes                                            bicycle   \n",
       "887     15 minutes or less                                            walking   \n",
       "1058       16 - 29 minutes                                scooter type e-bike   \n",
       "1197       16 - 29 minutes  private motor vehicle (car truck SUV van motor...   \n",
       "1340       16 - 29 minutes                                            transit   \n",
       "1376       16 - 29 minutes  private motor vehicle (car truck SUV van motor...   \n",
       "1656       30 - 44 minutes                                scooter type e-bike   \n",
       "1841      I do not commute                                            walking   \n",
       "1958    15 minutes or less                                scooter type e-bike   \n",
       "1991       30 - 44 minutes                                            transit   \n",
       "2048   45 minutes - 1 hour                                            transit   \n",
       "2188       30 - 44 minutes                                            bicycle   \n",
       "2221    15 minutes or less                                            walking   \n",
       "\n",
       "      vehicles                                         statements  \\\n",
       "232          1  scooter style e-bikes are different than pedal...   \n",
       "245          1  scooter style e-bikes are different than pedal...   \n",
       "491          1  On scooter type e-bikes the pedals are unneces...   \n",
       "805          1  scooter style e-bikes are different than pedal...   \n",
       "877          0                   E-bikes should require a license   \n",
       "887          0  scooter style e-bikes are different than pedal...   \n",
       "1058         1  On scooter type e-bikes the pedals are unneces...   \n",
       "1197         1  Most scooter type e-bikes are wider than a bic...   \n",
       "1340         1  scooter style e-bikes are different than pedal...   \n",
       "1376         1  Most scooter type e-bikes are wider than a bic...   \n",
       "1656         1  E-bikes are a green transportation option whic...   \n",
       "1841         1  scooter style e-bikes are different than pedal...   \n",
       "1958         1  On scooter type e-bikes the pedals are unneces...   \n",
       "1991         1  scooter style e-bikes are different than pedal...   \n",
       "2048         1  Most scooter type e-bikes are wider than a bic...   \n",
       "2188         1  Most scooter type e-bikes are wider than a bic...   \n",
       "2221         1  Most scooter type e-bikes are wider than a bic...   \n",
       "\n",
       "                                         trail_activity speed_limit_aware  \\\n",
       "232             walk with a stroller young child or pet                No   \n",
       "245                                               cycle                No   \n",
       "491             walk with a stroller young child or pet                No   \n",
       "805   walk walk with a stroller young child or pet r...               Yes   \n",
       "877                                               cycle               Yes   \n",
       "887                                          walk cycle               Yes   \n",
       "1058                                               walk               Yes   \n",
       "1197                     drive a motor propelled e-bike               Yes   \n",
       "1340                               walk run skate cycle               Yes   \n",
       "1376            walk with a stroller young child or pet               Yes   \n",
       "1656            walk with a stroller young child or pet               Yes   \n",
       "1841                                               walk               Yes   \n",
       "1958                     drive a motor propelled e-bike                No   \n",
       "1991                                         walk cycle                No   \n",
       "2048                                              cycle                No   \n",
       "2188                                         walk cycle               Yes   \n",
       "2221                                         walk cycle                No   \n",
       "\n",
       "                                               conflict  \\\n",
       "232   a conflict between two cyclists a conflict bet...   \n",
       "245                     a conflict relating to a dog(s)   \n",
       "491   a conflict between cyclists and pedestrians a ...   \n",
       "805   pedestrians and/or runners a conflict relating...   \n",
       "877   pedestrians and/or runners a conflict relating...   \n",
       "887   pedestrians and/or runners a conflict relating...   \n",
       "1058  a conflict relating to a dog(s) a conflict bet...   \n",
       "1197           a conflict between e-biker and a cyclist   \n",
       "1340  a conflict between an e-biker and a pedestrian...   \n",
       "1376      I am not aware of any conflicts on the trails   \n",
       "1656      I am not aware of any conflicts on the trails   \n",
       "1841      I am not aware of any conflicts on the trails   \n",
       "1958      I am not aware of any conflicts on the trails   \n",
       "1991  pedestrians and/or runners a conflict relating...   \n",
       "2048      I am not aware of any conflicts on the trails   \n",
       "2188  a conflict relating to a dog(s) a conflict bet...   \n",
       "2221  a conflict relating to a dog(s) a conflict bet...   \n",
       "\n",
       "                                 speeding_demand_action  \\\n",
       "232                                  Yes - more signage   \n",
       "245                No - the trails are fine as they are   \n",
       "491                  Yes - more enforcement (ticketing)   \n",
       "805                No - the trails are fine as they are   \n",
       "877                No - the trails are fine as they are   \n",
       "887   Yes - more signage Yes - more educational prog...   \n",
       "1058  Yes - more signage Yes - more enforcement (tic...   \n",
       "1197                                 Yes - more signage   \n",
       "1340  Yes - more signage Yes - more enforcement (tic...   \n",
       "1376                    Yes - more educational programs   \n",
       "1656                    Yes - more educational programs   \n",
       "1841                 Yes - more enforcement (ticketing)   \n",
       "1958                                 Yes - more signage   \n",
       "1991  Yes - more signage Yes - more enforcement (tic...   \n",
       "2048               No - the trails are fine as they are   \n",
       "2188  Yes - more enforcement (ticketing) Yes - more ...   \n",
       "2221  Yes - more signage Yes - more enforcement (tic...   \n",
       "\n",
       "                                    ebike_multiuse_path  \\\n",
       "232   The bylaw should be modified to allow the 'ped...   \n",
       "245   The bylaw should be modified to allow the 'ped...   \n",
       "491      No changes are necessary to the existing bylaw   \n",
       "805      No changes are necessary to the existing bylaw   \n",
       "877      No changes are necessary to the existing bylaw   \n",
       "887      No changes are necessary to the existing bylaw   \n",
       "1058  The bylaw should be modified to allow any kind...   \n",
       "1197  The bylaw should be modified to allow any kind...   \n",
       "1340     No changes are necessary to the existing bylaw   \n",
       "1376  The bylaw should be modified to allow the 'ped...   \n",
       "1656  The bylaw should be modified to allow the 'ped...   \n",
       "1841  Motorized vehicles should generally not be all...   \n",
       "1958  The bylaw should be modified to allow any kind...   \n",
       "1991     No changes are necessary to the existing bylaw   \n",
       "2048  The bylaw should be modified to allow the 'ped...   \n",
       "2188  Motorized vehicles should generally not be all...   \n",
       "2221     No changes are necessary to the existing bylaw   \n",
       "\n",
       "                                           bicycle_lane  \\\n",
       "232            ride a commuter or cruiser style bicycle   \n",
       "245            ride a commuter or cruiser style bicycle   \n",
       "491             ride a mountain downhill or BMX bicycle   \n",
       "805                      ride a road bicycle or a fixie   \n",
       "877                      ride a road bicycle or a fixie   \n",
       "887                      ride a road bicycle or a fixie   \n",
       "1058  drive a scooter type e-bike propelled by an el...   \n",
       "1197  drive a scooter type e-bike propelled by an el...   \n",
       "1340           ride a commuter or cruiser style bicycle   \n",
       "1376            ride a mountain downhill or BMX bicycle   \n",
       "1656  use bicycle lanes only to avoid slowing down c...   \n",
       "1841           ride a commuter or cruiser style bicycle   \n",
       "1958  drive a scooter type e-bike propelled by an el...   \n",
       "1991                     ride a road bicycle or a fixie   \n",
       "2048            ride a mountain downhill or BMX bicycle   \n",
       "2188           ride a commuter or cruiser style bicycle   \n",
       "2221                 my bicycle is attached to my mom's   \n",
       "\n",
       "                                     ebike_bicycle_lane  \\\n",
       "232   The bylaw should be modified to allow all kind...   \n",
       "245   The bylaw should be modified to allow 'pedal a...   \n",
       "491      No changes are necessary to the existing bylaw   \n",
       "805      No changes are necessary to the existing bylaw   \n",
       "877   E-bikes should NOT be allowed in bike lanes Le...   \n",
       "887      No changes are necessary to the existing bylaw   \n",
       "1058  The bylaw should be modified to allow e-bikes ...   \n",
       "1197  The bylaw should be modified to allow e-bikes ...   \n",
       "1340  Motorized vehicles should generally not be all...   \n",
       "1376  The bylaw should be modified to allow all kind...   \n",
       "1656  The bylaw should be modified to allow e-bikes ...   \n",
       "1841  Motorized vehicles should generally not be all...   \n",
       "1958  The bylaw should be modified to allow e-bikes ...   \n",
       "1991     No changes are necessary to the existing bylaw   \n",
       "2048  The bylaw should be modified to allow all kind...   \n",
       "2188  The bylaw should be modified to allow 'pedal a...   \n",
       "2221     No changes are necessary to the existing bylaw   \n",
       "\n",
       "                                               sidewalk  \\\n",
       "232   increase signage increase enforcement increase...   \n",
       "245   maintain the existing programs for signage edu...   \n",
       "491                                increase enforcement   \n",
       "805                                increase enforcement   \n",
       "877                                increase enforcement   \n",
       "887             increase enforcement increase education   \n",
       "1058                               increase enforcement   \n",
       "1197                                 increase education   \n",
       "1340  increase signage increase enforcement increase...   \n",
       "1376                               increase enforcement   \n",
       "1656                                 increase education   \n",
       "1841                               increase enforcement   \n",
       "1958  maintain the existing programs for signage edu...   \n",
       "1991  increase signage increase enforcement increase...   \n",
       "2048  make the bike lanes safer If the road feels da...   \n",
       "2188                                 increase education   \n",
       "2221            increase enforcement increase education   \n",
       "\n",
       "                                       mobility_devices  \n",
       "232   Update the definition of a personal mobility d...  \n",
       "245               Institute a speed limit for sidewalks  \n",
       "491   Update the definition of a personal mobility d...  \n",
       "805   Update the definition of a personal mobility d...  \n",
       "877                      Don't Know / Rather Not Answer  \n",
       "887   Update the definition of a personal mobility d...  \n",
       "1058  Update the definition of a personal mobility d...  \n",
       "1197              Institute a speed limit for sidewalks  \n",
       "1340  Update the definition of a personal mobility d...  \n",
       "1376  Update the definition of a personal mobility d...  \n",
       "1656  Update the definition of a personal mobility d...  \n",
       "1841  Update the definition of a personal mobility d...  \n",
       "1958              Institute a speed limit for sidewalks  \n",
       "1991  Update the definition of a personal mobility d...  \n",
       "2048                                         Do nothing  \n",
       "2188  Update the definition of a personal mobility d...  \n",
       "2221  Update the definition of a personal mobility d...  "
      ]
     },
     "execution_count": 153,
     "metadata": {},
     "output_type": "execute_result"
    }
   ],
   "source": [
    "data[pd.isnull(data['education'])]"
   ]
  },
  {
   "cell_type": "markdown",
   "metadata": {},
   "source": [
    "It is quite hard to infer education if both education and income columns are NaNs. We should drop these rows."
   ]
  },
  {
   "cell_type": "code",
   "execution_count": 154,
   "metadata": {},
   "outputs": [],
   "source": [
    "data.dropna(how='all', subset=['education', 'income'], inplace=True)"
   ]
  },
  {
   "cell_type": "code",
   "execution_count": 155,
   "metadata": {},
   "outputs": [],
   "source": [
    "def clean_education_nan(row):\n",
    "    if isinstance(row.education, str):\n",
    "        return row.education\n",
    "    \n",
    "    if '17 or younger' in row.age or 'Under $20K' in row.income:\n",
    "        return 'high_school'\n",
    "    \n",
    "    return 'university'\n",
    "\n",
    "data['education'] = data.apply(clean_education_nan, axis=1)"
   ]
  },
  {
   "cell_type": "code",
   "execution_count": 156,
   "metadata": {},
   "outputs": [
    {
     "data": {
      "image/png": "[encoded data removed]",
      "text/plain": [
       "<Figure size 864x432 with 1 Axes>"
      ]
     },
     "metadata": {},
     "output_type": "display_data"
    }
   ],
   "source": [
    "plt.figure(figsize = (12, 6))\n",
    "ax = sns.countplot(x='education', hue='vehicles', data=data)"
   ]
  },
  {
   "cell_type": "code",
   "execution_count": 157,
   "metadata": {},
   "outputs": [],
   "source": [
    "data['education'] = data['education'].map({'high_school': 1, 'trade': 2, 'university': 3, 'graduate': 4})"
   ]
  },
  {
   "cell_type": "markdown",
   "metadata": {},
   "source": [
    "## income"
   ]
  },
  {
   "cell_type": "code",
   "execution_count": 158,
   "metadata": {},
   "outputs": [
    {
     "data": {
      "text/plain": [
       "$100K+          831\n",
       "$60K to $79K    372\n",
       "$80K to $99K    335\n",
       "$40K to $59K    298\n",
       "$20K to $39K    235\n",
       "Under $20K      107\n",
       "NaN              49\n",
       "Name: income, dtype: int64"
      ]
     },
     "execution_count": 158,
     "metadata": {},
     "output_type": "execute_result"
    }
   ],
   "source": [
    "data['income'].value_counts(dropna=False)"
   ]
  },
  {
   "cell_type": "code",
   "execution_count": 159,
   "metadata": {},
   "outputs": [],
   "source": [
    "data['income'] = data['income'].map({'Under $20K': 1, '$20K to $39K': 2, '$40K to $59K': 3, '$60K to $79K': 4, '$80K to $99K': 5, '$100K+': 6})"
   ]
  },
  {
   "cell_type": "markdown",
   "metadata": {},
   "source": [
    "For NaNs, we estimate the income based on education level."
   ]
  },
  {
   "cell_type": "code",
   "execution_count": 160,
   "metadata": {},
   "outputs": [
    {
     "name": "stdout",
     "output_type": "stream",
     "text": [
      "Education level: 1\n",
      "4.0\n",
      "Education level: 2\n",
      "4.0\n",
      "Education level: 3\n",
      "5.0\n",
      "Education level: 4\n",
      "6.0\n"
     ]
    }
   ],
   "source": [
    "for l in range(1, 5):\n",
    "    print(f'Education level: {l}')\n",
    "    print(data[data['education'] == l]['income'].median())"
   ]
  },
  {
   "cell_type": "code",
   "execution_count": 161,
   "metadata": {},
   "outputs": [],
   "source": [
    "def clean_income_nan(row):\n",
    "    if not np.isnan(row.income):\n",
    "        return row.income\n",
    "    \n",
    "    if row.education in (1.0, 2.0):\n",
    "        return 4\n",
    "    \n",
    "    if row.education == 3.0:\n",
    "        return 5\n",
    "    \n",
    "    if row.education == 4.0:\n",
    "        return 6\n",
    "\n",
    "data['income'] = data.apply(clean_income_nan, axis=1)"
   ]
  },
  {
   "cell_type": "markdown",
   "metadata": {},
   "source": [
    "## employment"
   ]
  },
  {
   "cell_type": "code",
   "execution_count": 162,
   "metadata": {},
   "outputs": [
    {
     "data": {
      "text/plain": [
       "Full Time                                                                                                                            1403\n",
       "Self Employed                                                                                                                         359\n",
       "Retired                                                                                                                               135\n",
       "Part Time                                                                                                                             121\n",
       "Student                                                                                                                               118\n",
       "Unemployed                                                                                                                             37\n",
       "Home Maker                                                                                                                             17\n",
       "NaN                                                                                                                                     9\n",
       "ODSP                                                                                                                                    2\n",
       "disabled                                                                                                                                2\n",
       "semi-retired self-employed                                                                                                              1\n",
       "Full time job 3 days a week own startup rest of time                                                                                    1\n",
       "full time casual                                                                                                                        1\n",
       "Free-lance and home maker                                                                                                               1\n",
       "Seasonal Full-Time                                                                                                                      1\n",
       "Extreme full-time                                                                                                                       1\n",
       "none of your business                                                                                                                   1\n",
       "FT Contract                                                                                                                             1\n",
       "Student/internship                                                                                                                      1\n",
       "DISSABLE                                                                                                                                1\n",
       "Freelance Artist                                                                                                                        1\n",
       "part time while I write                                                                                                                 1\n",
       "Contract                                                                                                                                1\n",
       "Disability pension                                                                                                                      1\n",
       "Freelance Contractor                                                                                                                    1\n",
       "ltip disability                                                                                                                         1\n",
       "occasional teacher                                                                                                                      1\n",
       "full time work and student                                                                                                              1\n",
       "Free Lance                                                                                                                              1\n",
       "Doctoral Student                                                                                                                        1\n",
       "DISABLED                                                                                                                                1\n",
       "I don't understand the rationale for these demographic questions and I'm not sure the privacy statements meets CIMS requirements        1\n",
       "arts worker - partial full time                                                                                                         1\n",
       "contract                                                                                                                                1\n",
       "Name: employment, dtype: int64"
      ]
     },
     "execution_count": 162,
     "metadata": {},
     "output_type": "execute_result"
    }
   ],
   "source": [
    "data['employment'].value_counts(dropna=False)"
   ]
  },
  {
   "cell_type": "code",
   "execution_count": 163,
   "metadata": {},
   "outputs": [],
   "source": [
    "def clean_employment(e):\n",
    "    if not isinstance(e, str):\n",
    "        return 'other'\n",
    "    \n",
    "    e = e.lower()\n",
    "    \n",
    "    if 'full' in e:\n",
    "        return 'full_time'\n",
    "    \n",
    "    if 'self' in e:\n",
    "        return 'self_employed'\n",
    "    \n",
    "    if 'retired' in e:\n",
    "        return 'retired'\n",
    "    \n",
    "    if 'part' in e or 'contract' in e or 'free' in e:\n",
    "        return 'part_time'\n",
    "    \n",
    "    if 'student' in e:\n",
    "        return 'student'\n",
    "    \n",
    "    if 'unemployed' in e:\n",
    "        return 'unemployed'\n",
    "    \n",
    "    if 'dis' in e or 'odsp' in e:\n",
    "        return 'disabled'\n",
    "    \n",
    "    if 'home' in e:\n",
    "        return 'home'\n",
    "    \n",
    "    return 'other'\n",
    "\n",
    "data['employment'] = data['employment'].map(clean_employment)"
   ]
  },
  {
   "cell_type": "markdown",
   "metadata": {},
   "source": [
    "## district"
   ]
  },
  {
   "cell_type": "code",
   "execution_count": 164,
   "metadata": {},
   "outputs": [
    {
     "data": {
      "text/plain": [
       "Central Toronto York or East York                                                1624\n",
       "Etobicoke                                                                         236\n",
       "North York                                                                        129\n",
       "Scarborough                                                                       120\n",
       "Mississauga                                                                        24\n",
       "Brampton                                                                            9\n",
       "Pickering                                                                           4\n",
       "Waterloo                                                                            4\n",
       "Oakville                                                                            3\n",
       "Guelph                                                                              3\n",
       "Richmond Hill                                                                       3\n",
       "oshawa                                                                              3\n",
       "ottawa                                                                              2\n",
       "Markham                                                                             2\n",
       "Ottawa                                                                              2\n",
       "Bulington                                                                           2\n",
       "Hamilton                                                                            2\n",
       "markham                                                                             2\n",
       "Vaughan                                                                             2\n",
       "mississauga                                                                         2\n",
       "GTA                                                                                 2\n",
       "Beach                                                                               1\n",
       "South Africa                                                                        1\n",
       "YORK REGION                                                                         1\n",
       "oakville                                                                            1\n",
       "York Region                                                                         1\n",
       "hamilton                                                                            1\n",
       "Bangkok                                                                             1\n",
       "Victoria BC                                                                         1\n",
       "Leslieville                                                                         1\n",
       "                                                                                 ... \n",
       "High Park                                                                           1\n",
       "i live in hamilton partner lives in north york                                      1\n",
       "Milton                                                                              1\n",
       "Paris Ontario                                                                       1\n",
       "other                                                                               1\n",
       "Peterborough County                                                                 1\n",
       "west end                                                                            1\n",
       "whitby                                                                              1\n",
       "Woodbridge                                                                          1\n",
       "Richmomd Hill                                                                       1\n",
       "Bloor West Village                                                                  1\n",
       "Durham                                                                              1\n",
       "never north of bloor downtown                                                       1\n",
       "Barrie                                                                              1\n",
       "St Catharines                                                                       1\n",
       "KW                                                                                  1\n",
       "not sharing                                                                         1\n",
       "mississauga east                                                                    1\n",
       "Beaches                                                                             1\n",
       "Guelph                                                                              1\n",
       "Kingston                                                                            1\n",
       "I used to live in central Toronto still visit for extended periods regularly        1\n",
       "beaches                                                                             1\n",
       "Burlington                                                                          1\n",
       "Ajax                                                                                1\n",
       "Halton                                                                              1\n",
       "Work in TO                                                                          1\n",
       "cambridge                                                                           1\n",
       "Whitby                                                                              1\n",
       "City of Orillia                                                                     1\n",
       "Name: district, Length: 68, dtype: int64"
      ]
     },
     "execution_count": 164,
     "metadata": {},
     "output_type": "execute_result"
    }
   ],
   "source": [
    "data['district'].value_counts()"
   ]
  },
  {
   "cell_type": "code",
   "execution_count": 165,
   "metadata": {},
   "outputs": [],
   "source": [
    "data['district'] = data['district'].map(lambda d: d if d in ('Central Toronto York or East York', 'Etobicoke', 'North York', 'Scarborough', 'Mississauga', 'Other') else 'Other District')"
   ]
  },
  {
   "cell_type": "markdown",
   "metadata": {},
   "source": [
    "## daily_travel_distance and commute_time"
   ]
  },
  {
   "cell_type": "markdown",
   "metadata": {},
   "source": [
    "Intuitively these should be important for deciding whether someone owns motorized vehicle."
   ]
  },
  {
   "cell_type": "code",
   "execution_count": 166,
   "metadata": {},
   "outputs": [
    {
     "data": {
      "text/plain": [
       "5 - 10 km     845\n",
       "10 - 20 km    650\n",
       "Over 35 km    293\n",
       "20 -35 km     245\n",
       "Under 2 km    194\n",
       "Name: daily_travel_distance, dtype: int64"
      ]
     },
     "execution_count": 166,
     "metadata": {},
     "output_type": "execute_result"
    }
   ],
   "source": [
    "data['daily_travel_distance'].value_counts()"
   ]
  },
  {
   "cell_type": "code",
   "execution_count": 167,
   "metadata": {},
   "outputs": [
    {
     "data": {
      "image/png": "[encoded data removed]",
      "text/plain": [
       "<Figure size 864x432 with 1 Axes>"
      ]
     },
     "metadata": {},
     "output_type": "display_data"
    }
   ],
   "source": [
    "plt.figure(figsize = (12, 6))\n",
    "ax = sns.countplot(x='daily_travel_distance', hue='vehicles', data=data)"
   ]
  },
  {
   "cell_type": "markdown",
   "metadata": {},
   "source": [
    "As expected, long travel distance (>20 km) seems to have more people having vehicles."
   ]
  },
  {
   "cell_type": "code",
   "execution_count": 168,
   "metadata": {},
   "outputs": [],
   "source": [
    "data['daily_travel_distance'] = data['daily_travel_distance'].map({'Under 2 km': 1, '5 - 10 km': 2, '10 - 20 km': 3, '20 -35 km': 4, 'Over 35 km': 5})"
   ]
  },
  {
   "cell_type": "code",
   "execution_count": 169,
   "metadata": {},
   "outputs": [
    {
     "data": {
      "text/plain": [
       "16 - 29 minutes         776\n",
       "30 - 44 minutes         563\n",
       "15 minutes or less      374\n",
       "45 minutes - 1 hour     246\n",
       "I do not commute        166\n",
       "over 1 hour each way    102\n",
       "Name: commute_time, dtype: int64"
      ]
     },
     "execution_count": 169,
     "metadata": {},
     "output_type": "execute_result"
    }
   ],
   "source": [
    "data['commute_time'].value_counts()"
   ]
  },
  {
   "cell_type": "code",
   "execution_count": 170,
   "metadata": {},
   "outputs": [
    {
     "data": {
      "image/png": "[encoded data removed]",
      "text/plain": [
       "<Figure size 864x432 with 1 Axes>"
      ]
     },
     "metadata": {},
     "output_type": "display_data"
    }
   ],
   "source": [
    "plt.figure(figsize = (12, 6))\n",
    "ax = sns.countplot(x='commute_time', hue='vehicles', data=data)"
   ]
  },
  {
   "cell_type": "code",
   "execution_count": 171,
   "metadata": {},
   "outputs": [],
   "source": [
    "data['commute_time'] = data['commute_time'].map({'I do not commute': 1, '15 minutes or less': 2, '16 - 29 minutes': 3, '30 - 44 minutes': 4, '45 minutes - 1 hour': 5, 'over 1 hour each way': 6})"
   ]
  },
  {
   "cell_type": "markdown",
   "metadata": {},
   "source": [
    "## transportation"
   ]
  },
  {
   "cell_type": "code",
   "execution_count": 172,
   "metadata": {},
   "outputs": [
    {
     "data": {
      "text/plain": [
       "bicycle                                                                                       775\n",
       "private motor vehicle (car truck SUV van motorcycle gas limited speed motorcycle or moped)    627\n",
       "transit                                                                                       363\n",
       "walking                                                                                       245\n",
       "scooter type e-bike                                                                           104\n",
       "pedal assist type e-bike                                                                       86\n",
       "personal mobility device (electric wheelchair)                                                  2\n",
       "Car in winter bicycle in summer                                                                 1\n",
       "taxi                                                                                            1\n",
       "5000W custom high power electric bicycle (non-scooter)                                          1\n",
       "transit or bicycle (weather dependent)                                                          1\n",
       "transit & bicycle                                                                               1\n",
       "Motorcycle                                                                                      1\n",
       "pedal assisted scooter type e-bike                                                              1\n",
       "electric assist bicycle                                                                         1\n",
       "rollerblades                                                                                    1\n",
       "transit in winter otherwise e-bike                                                              1\n",
       "Winter TTC Other seasons Bike                                                                   1\n",
       "bike in good weather                                                                            1\n",
       "running                                                                                         1\n",
       "all                                                                                             1\n",
       "depends on the season three seasons bike one transit                                            1\n",
       "Motor scooter                                                                                   1\n",
       "skateboard/longboard                                                                            1\n",
       "CONDO SHUTTLE BUS                                                                               1\n",
       "Hybrid Car                                                                                      1\n",
       "bike in summer transit in winter                                                                1\n",
       "combination of transit and walking                                                              1\n",
       "Motorcycle depends on weather                                                                   1\n",
       "I cover Ontario for work so Car but in TO- TTC and Bike are easier options                      1\n",
       "Cycling/transit highly seasonal 50:50                                                           1\n",
       "depends on season Transit in winter e-bike in summer                                            1\n",
       "Name: transportation, dtype: int64"
      ]
     },
     "execution_count": 172,
     "metadata": {},
     "output_type": "execute_result"
    }
   ],
   "source": [
    "data['transportation'].value_counts()"
   ]
  },
  {
   "cell_type": "code",
   "execution_count": 173,
   "metadata": {},
   "outputs": [],
   "source": [
    "def clean_transit(t):\n",
    "    t = t.lower()\n",
    "    \n",
    "    if 'bicycle' in t:\n",
    "        return 'bicycle'\n",
    "    \n",
    "    if 'private motor vehicle' in t or 'motorcycle' in t or 'car' in t:\n",
    "        return 'private_motor'\n",
    "    \n",
    "    if t.startswith('transit') or 'shuttle' in t:\n",
    "        return 'transit'\n",
    "    \n",
    "    if 'walking' in t or 'running' in t:\n",
    "        return 'walking'\n",
    "    \n",
    "    if 'scooter type e-bike' in t or 'motor scooter' in t:\n",
    "        return 'scooter'\n",
    "    \n",
    "    if 'pedal assist type e-bike' in t or 'e-bike' in t:\n",
    "        return 'pedal'\n",
    "    \n",
    "    if 'personal mobility device' in t:\n",
    "        return 'personal_mobility'\n",
    "    \n",
    "    if 'bike' in t or 'cycling' in t or 'roller' in t or 'skate' in t:\n",
    "        return 'bicycle'\n",
    "    \n",
    "    return 'private_motor'\n",
    "\n",
    "data['transportation'] = data['transportation'].map(clean_transit)"
   ]
  },
  {
   "cell_type": "markdown",
   "metadata": {},
   "source": [
    "## statements"
   ]
  },
  {
   "cell_type": "code",
   "execution_count": 174,
   "metadata": {},
   "outputs": [],
   "source": [
    "statements = [\n",
    "    'scooter style e-bikes are different than pedal assisted bicycle type e-bikes and should not be considered as one vehicle category',\n",
    "    'On scooter type e-bikes the pedals are unnecessary and should not be required',\n",
    "    'E-bikes are a green transportation option which should be encouraged',\n",
    "    'Most scooter type e-bikes are wider than a bicycle',\n",
    "    'Most scooter type e-bikes weigh more than an average bicycle',\n",
    "    'Most e-bikes are able to travel further distances than an average cyclist of average fitness',\n",
    "    'Most e-bikes are able to sustain higher average speeds than an average cyclist of average fitness',\n",
    "    'Most e-bikes are able to accelerate more quickly than an average cyclist of average fitness',\n",
    "    'E-bikes should require a license',\n",
    "    'E-bikes should be required to have insurance',\n",
    "    'E-bikes should be allowed to carry a passenger'\n",
    "]\n",
    "\n",
    "def clean_statements(row):\n",
    "    for i, statement in enumerate(statements):\n",
    "        row[f's{i}'] = int(statement in row.statements)\n",
    "    return row\n",
    "\n",
    "data = data.apply(clean_statements, axis=1).drop(['statements'], axis=1)"
   ]
  },
  {
   "cell_type": "markdown",
   "metadata": {},
   "source": [
    "## trail_activity"
   ]
  },
  {
   "cell_type": "code",
   "execution_count": 175,
   "metadata": {},
   "outputs": [
    {
     "data": {
      "text/plain": [
       "cycle                                                                                                                                    736\n",
       "walk cycle                                                                                                                               280\n",
       "walk                                                                                                                                     265\n",
       "I very rarely use any of Toronto's Multi-Use Paths                                                                                       196\n",
       "walk run cycle                                                                                                                            93\n",
       "pedal a pedal assist type e-bike                                                                                                          67\n",
       "walk with a stroller young child or pet                                                                                                   66\n",
       "run                                                                                                                                       54\n",
       "run cycle                                                                                                                                 53\n",
       "walk walk with a stroller young child or pet cycle                                                                                        43\n",
       "walk run                                                                                                                                  32\n",
       "drive a motor propelled e-bike                                                                                                            26\n",
       "walk I very rarely use any of Toronto's Multi-Use Paths                                                                                   23\n",
       "walk run skate cycle                                                                                                                      21\n",
       "walk walk with a stroller young child or pet                                                                                              21\n",
       "walk walk with a stroller young child or pet run cycle                                                                                    20\n",
       "skate cycle                                                                                                                               15\n",
       "walk cycle I very rarely use any of Toronto's Multi-Use Paths                                                                             14\n",
       "walk with a stroller young child or pet cycle                                                                                             13\n",
       "cycle pedal a pedal assist type e-bike                                                                                                    13\n",
       "walk walk with a stroller young child or pet run skate cycle                                                                              12\n",
       "walk pedal a pedal assist type e-bike                                                                                                     11\n",
       "cycle I very rarely use any of Toronto's Multi-Use Paths                                                                                  11\n",
       "walk walk with a stroller young child or pet run                                                                                          11\n",
       "walk cycle pedal a pedal assist type e-bike                                                                                                9\n",
       "skate                                                                                                                                      8\n",
       "walk skate cycle                                                                                                                           8\n",
       "walk with a stroller young child or pet run cycle                                                                                          7\n",
       "walk skate                                                                                                                                 7\n",
       "run skate cycle                                                                                                                            6\n",
       "                                                                                                                                        ... \n",
       "walk walk with a stroller young child or pet run skate cycle pedal a pedal assist type e-bike drive a motor propelled e-bike               1\n",
       "walk run cycle drive a motor propelled e-bike                                                                                              1\n",
       "E-bikes are banned I do not use paths or trails                                                                                            1\n",
       "walk drive a motor propelled e-bike I very rarely use any of Toronto's Multi-Use Paths                                                     1\n",
       "e-scooter                                                                                                                                  1\n",
       "walk walk with a stroller young child or pet pedal a pedal assist type e-bike I very rarely use any of Toronto's Multi-Use Paths           1\n",
       "walk cycle skateboard                                                                                                                      1\n",
       "Regular bicycle                                                                                                                            1\n",
       "walk walk with a stroller young child or pet pedal a pedal assist type e-bike drive a motor propelled e-bike                               1\n",
       "walk cycle pedal a pedal assist type e-bike I very rarely use any of Toronto's Multi-Use Paths                                             1\n",
       "I equally bike and walk with young child                                                                                                   1\n",
       "pedal a pedal assist type e-bike When visiting TA                                                                                          1\n",
       "walk walk with a stroller young child or pet run cycle I very rarely use any of Toronto's Multi-Use Paths                                  1\n",
       "cycle pedal a pedal assist type e-bike drive a motor propelled e-bike Ottawa paths are 20 km/h and open for e-bikes but not scooters       1\n",
       "walk pedal a pedal assist type e-bike drive a motor propelled e-bike                                                                       1\n",
       "I do not use any of Toronto's Multi-Use Paths                                                                                              1\n",
       "run I very rarely use any of Toronto's Multi-Use Paths                                                                                     1\n",
       "walk with a stroller young child or pet skate cycle                                                                                        1\n",
       "ride a normal bike                                                                                                                         1\n",
       "walk run cycle drive a motor propelled e-bike 5000W custom high power electric bicycle (non-scooter)                                       1\n",
       "walk pedal a pedal assist type e-bike I very rarely use any of Toronto's Multi-Use Paths                                                   1\n",
       "drive a motor propelled e-bike I very rarely use any of Toronto's Multi-Use Paths                                                          1\n",
       "walk walk with a stroller young child or pet skate drive a motor propelled e-bike I very rarely use any of Toronto's Multi-Use Paths       1\n",
       "walk with a stroller young child or pet skate drive a motor propelled e-bike                                                               1\n",
       "walk Should give examples: High Park nature trails? Path across Queen's Park? Not sure what you're referring to                            1\n",
       "cycle pedal a pedal assist type e-bike I very rarely use any of Toronto's Multi-Use Paths                                                  1\n",
       "walk run drive a motor propelled e-bike                                                                                                    1\n",
       "walk skate cycle Longboard Skateboard                                                                                                      1\n",
       "walk walk with a stroller young child or pet skate cycle pedal a pedal assist type e-bike                                                  1\n",
       "use a wheelchair or similar mobility device                                                                                                1\n",
       "Name: trail_activity, Length: 89, dtype: int64"
      ]
     },
     "execution_count": 175,
     "metadata": {},
     "output_type": "execute_result"
    }
   ],
   "source": [
    "data['trail_activity'].value_counts()"
   ]
  },
  {
   "cell_type": "code",
   "execution_count": 176,
   "metadata": {},
   "outputs": [],
   "source": [
    "activities = [\n",
    "    'cycle',\n",
    "    'walk',\n",
    "    'run',\n",
    "    'skate',\n",
    "    \"I very rarely use any of Toronto's Multi-Use Paths\",\n",
    "    'pedal a pedal assist type e-bike',\n",
    "    'walk with a stroller young child or pet',\n",
    "    'drive a motor propelled e-bike'\n",
    "]\n",
    "\n",
    "def clean_activities(row):\n",
    "    for i, activity in enumerate(activities):\n",
    "        row[f'a{i}'] = int(activity in row.trail_activity)\n",
    "    return row\n",
    "\n",
    "data = data.apply(clean_activities, axis=1).drop(['trail_activity'], axis=1)"
   ]
  },
  {
   "cell_type": "markdown",
   "metadata": {},
   "source": [
    "## speed_limit_aware"
   ]
  },
  {
   "cell_type": "code",
   "execution_count": 177,
   "metadata": {},
   "outputs": [],
   "source": [
    "data['speed_limit_aware'] = (data['speed_limit_aware'] == 'Yes').astype('int')"
   ]
  },
  {
   "cell_type": "markdown",
   "metadata": {},
   "source": [
    "## conflict"
   ]
  },
  {
   "cell_type": "code",
   "execution_count": 178,
   "metadata": {},
   "outputs": [
    {
     "data": {
      "text/plain": [
       "I am not aware of any conflicts on the trails                                                                                                                                                                                                                                                              843\n",
       "a conflict between cyclists and pedestrians                                                                                                                                                                                                                                                                138\n",
       "a conflict between an e-biker and a pedestrian a conflict between e-biker and a cyclist                                                                                                                                                                                                                     80\n",
       "a conflict relating to a dog(s)                                                                                                                                                                                                                                                                             79\n",
       "a conflict between e-biker and a cyclist                                                                                                                                                                                                                                                                    53\n",
       "a conflict relating to a dog(s) a conflict between cyclists and pedestrians                                                                                                                                                                                                                                 51\n",
       "pedestrians and/or runners a conflict relating to a dog(s) a conflict relating to an in-line skater a conflict between cyclists and pedestrians a conflict between two cyclists a conflict between an e-biker and a pedestrian a conflict between e-biker and a cyclist                                     33\n",
       "a conflict relating to a dog(s) a conflict between cyclists and pedestrians a conflict between an e-biker and a pedestrian a conflict between e-biker and a cyclist                                                                                                                                         31\n",
       "a conflict between an e-biker and a pedestrian                                                                                                                                                                                                                                                              31\n",
       "a conflict between cyclists and pedestrians a conflict between an e-biker and a pedestrian a conflict between e-biker and a cyclist                                                                                                                                                                         30\n",
       "a conflict relating to a dog(s) a conflict between an e-biker and a pedestrian a conflict between e-biker and a cyclist                                                                                                                                                                                     29\n",
       "a conflict between two cyclists                                                                                                                                                                                                                                                                             27\n",
       "a conflict between cyclists and pedestrians a conflict between an e-biker and a pedestrian                                                                                                                                                                                                                  24\n",
       "a conflict between an e-biker and a pedestrian a conflict between e-biker and a cyclist a conflict between two e-bikers                                                                                                                                                                                     23\n",
       "a conflict relating to an in-line skater a conflict between cyclists and pedestrians                                                                                                                                                                                                                        22\n",
       "a conflict relating to an in-line skater                                                                                                                                                                                                                                                                    21\n",
       "a conflict relating to a dog(s) a conflict relating to an in-line skater a conflict between cyclists and pedestrians                                                                                                                                                                                        20\n",
       "a conflict between cyclists and pedestrians a conflict between two cyclists                                                                                                                                                                                                                                 20\n",
       "a conflict between cyclists and pedestrians a conflict between e-biker and a cyclist                                                                                                                                                                                                                        18\n",
       "a conflict relating to a dog(s) a conflict between cyclists and pedestrians a conflict between an e-biker and a pedestrian                                                                                                                                                                                  18\n",
       "pedestrians and/or runners a conflict relating to a dog(s) a conflict relating to an in-line skater a conflict between cyclists and pedestrians a conflict between two cyclists                                                                                                                             18\n",
       "pedestrians and/or runners a conflict relating to a dog(s) a conflict relating to an in-line skater a conflict between cyclists and pedestrians                                                                                                                                                             16\n",
       "a conflict relating to a dog(s) a conflict between cyclists and pedestrians a conflict between e-biker and a cyclist                                                                                                                                                                                        16\n",
       "a conflict relating to a dog(s) a conflict relating to an in-line skater a conflict between cyclists and pedestrians a conflict between an e-biker and a pedestrian a conflict between e-biker and a cyclist                                                                                                16\n",
       "pedestrians and/or runners                                                                                                                                                                                                                                                                                  15\n",
       "a conflict relating to a dog(s) a conflict between cyclists and pedestrians a conflict between two cyclists                                                                                                                                                                                                 15\n",
       "pedestrians and/or runners a conflict relating to a dog(s) a conflict relating to an in-line skater a conflict between cyclists and pedestrians a conflict between two cyclists a conflict between an e-biker and a pedestrian a conflict between e-biker and a cyclist a conflict between two e-bikers     15\n",
       "a conflict between cyclists and pedestrians a conflict between two cyclists a conflict between an e-biker and a pedestrian a conflict between e-biker and a cyclist                                                                                                                                         14\n",
       "pedestrians and/or runners a conflict relating to a dog(s) a conflict relating to an in-line skater a conflict between cyclists and pedestrians a conflict between an e-biker and a pedestrian a conflict between e-biker and a cyclist                                                                     13\n",
       "a conflict relating to a dog(s) a conflict relating to an in-line skater                                                                                                                                                                                                                                    13\n",
       "                                                                                                                                                                                                                                                                                                          ... \n",
       "pedestrians and/or runners a conflict relating to an in-line skater a conflict between two cyclists                                                                                                                                                                                                          1\n",
       "a conflict relating to an in-line skater a conflict between an e-biker and a pedestrian a conflict between e-biker and a cyclist I am not aware of any conflicts on the trails                                                                                                                               1\n",
       "I am not aware of any conflicts on the trails verbal statements                                                                                                                                                                                                                                              1\n",
       "a conflict between an e-biker and a pedestrian Electric wheelchair and pedestrian                                                                                                                                                                                                                            1\n",
       "Some cyclists go faster than my ebike                                                                                                                                                                                                                                                                        1\n",
       "pedestrians and/or runners a conflict relating to an in-line skater a conflict between two cyclists a conflict between an e-biker and a pedestrian a conflict between e-biker and a cyclist                                                                                                                  1\n",
       "not outright conflict more like lack of consideration for others on the part of every type of user                                                                                                                                                                                                           1\n",
       "Not witnessed heard stories from others                                                                                                                                                                                                                                                                      1\n",
       "I am sure there are conflicts but I do not travel on these trails enough to have seen one                                                                                                                                                                                                                    1\n",
       "i have not witness but believe there are conflicts                                                                                                                                                                                                                                                           1\n",
       "a conflict relating to an in-line skater a conflict between cyclists and pedestrians a conflict between an e-biker and a pedestrian a conflict between e-biker and a cyclist a conflict between two e-bikers                                                                                                 1\n",
       "a conflict relating to a dog(s) I am not aware of any conflicts on the trails                                                                                                                                                                                                                                1\n",
       "I'm sure conflicts occur I have not witnessed any                                                                                                                                                                                                                                                            1\n",
       "a conflict relating to a dog(s) a conflict relating to an in-line skater a conflict between cyclists and pedestrians a conflict between two cyclists a conflict between an e-biker and a pedestrian a conflict between e-biker and a cyclist a conflict between two e-bikers                                 1\n",
       "I am aware but not witnessed pedestrian to bike collision                                                                                                                                                                                                                                                    1\n",
       "a conflict relating to a dog(s) cyclist vs bridge                                                                                                                                                                                                                                                            1\n",
       "I can understand that these conflicts can occur                                                                                                                                                                                                                                                              1\n",
       "pedestrians and/or runners a conflict relating to a dog(s) a conflict between e-biker and a cyclist                                                                                                                                                                                                          1\n",
       "haven't sen any                                                                                                                                                                                                                                                                                              1\n",
       "I've seen dogs in conflict                                                                                                                                                                                                                                                                                   1\n",
       "I am aware that conflicts occur but have never witnessed any                                                                                                                                                                                                                                                 1\n",
       "a conflict relating to a dog(s) a pedestrian and a person with an assisted mobility device (electric scooter)                                                                                                                                                                                                1\n",
       "none                                                                                                                                                                                                                                                                                                         1\n",
       "a conflict relating to a dog(s) a conflict relating to an in-line skater a conflict between cyclists and pedestrians a conflict between two cyclists a conflict between e-biker and a cyclist a conflict between two e-bikers                                                                                1\n",
       "have not seen any but have heard of some                                                                                                                                                                                                                                                                     1\n",
       "I do not use multi-use paths because the children dog walkers and speed limit make them unsuitalbe for cycling  So I have not witnessed any collisions                                                                                                                                                       1\n",
       "a conflict relating to a dog(s) Extendable dog leashes should be disallowed                                                                                                                                                                                                                                  1\n",
       "I am not aware of any conflicts on the trails Pedestrians wandering around on trails with no concept of lanes and taking up whole width with 3 or more people abreast                                                                                                                                        1\n",
       "only close calls                                                                                                                                                                                                                                                                                             1\n",
       "a conflict relating to an in-line skater a conflict between an e-biker and a pedestrian jogger and e-biker                                                                                                                                                                                                   1\n",
       "Name: conflict, Length: 219, dtype: int64"
      ]
     },
     "execution_count": 178,
     "metadata": {},
     "output_type": "execute_result"
    }
   ],
   "source": [
    "data['conflict'].value_counts()"
   ]
  },
  {
   "cell_type": "code",
   "execution_count": 179,
   "metadata": {},
   "outputs": [],
   "source": [
    "conflicts = [\n",
    "    'I am not aware of any conflicts on the trails',\n",
    "    'a conflict between cyclists and pedestrians',\n",
    "    'a conflict between an e-biker and a pedestrian',\n",
    "    'a conflict between e-biker and a cyclist',\n",
    "    'a conflict relating to a dog(s) a conflict between cyclists and pedestrians',\n",
    "    'a conflict between two cyclists',\n",
    "    'a conflict relating to an in-line skater'\n",
    "]\n",
    "\n",
    "def clean_conflicts(row):\n",
    "    for i, conflict in enumerate(conflicts):\n",
    "        row[f'c{i}'] = int(conflict in row.conflict)\n",
    "    return row\n",
    "\n",
    "data = data.apply(clean_conflicts, axis=1).drop(['conflict'], axis=1)"
   ]
  },
  {
   "cell_type": "markdown",
   "metadata": {},
   "source": [
    "## speeding_demand_action"
   ]
  },
  {
   "cell_type": "code",
   "execution_count": 180,
   "metadata": {},
   "outputs": [
    {
     "data": {
      "text/plain": [
       "No - the trails are fine as they are                                                                                                                                                                                                                                                                                                                                                                                                                                                                                             643\n",
       "Yes - more signage Yes - more enforcement (ticketing) Yes - more educational programs                                                                                                                                                                                                                                                                                                                                                                                                                                            355\n",
       "Yes - more enforcement (ticketing)                                                                                                                                                                                                                                                                                                                                                                                                                                                                                               274\n",
       "Yes - more signage                                                                                                                                                                                                                                                                                                                                                                                                                                                                                                               259\n",
       "Yes - more signage Yes - more educational programs                                                                                                                                                                                                                                                                                                                                                                                                                                                                               187\n",
       "Yes - more signage Yes - more enforcement (ticketing)                                                                                                                                                                                                                                                                                                                                                                                                                                                                            160\n",
       "Yes - more educational programs                                                                                                                                                                                                                                                                                                                                                                                                                                                                                                  117\n",
       "Yes - more enforcement (ticketing) Yes - more educational programs                                                                                                                                                                                                                                                                                                                                                                                                                                                                92\n",
       "Yes - more educational programs No - the trails are fine as they are                                                                                                                                                                                                                                                                                                                                                                                                                                                               8\n",
       "Yes - more signage No - the trails are fine as they are                                                                                                                                                                                                                                                                                                                                                                                                                                                                            5\n",
       "Yes - more enforcement (ticketing) No - the trails are fine as they are                                                                                                                                                                                                                                                                                                                                                                                                                                                            2\n",
       "Yes - more signage Yes - more educational programs No - the trails are fine as they are                                                                                                                                                                                                                                                                                                                                                                                                                                            2\n",
       "don't know                                                                                                                                                                                                                                                                                                                                                                                                                                                                                                                         2\n",
       "more should be done to get non person power off the trails  ebikes have no place in parks or trails  I have never seen someone peddle them - they really aren't even designed to be peddled!                                                                                                                                                                                                                                                                                                                                       1\n",
       "No just prevent E-bikes on them                                                                                                                                                                                                                                                                                                                                                                                                                                                                                                    1\n",
       "Havn't been on Toronto's trails                                                                                                                                                                                                                                                                                                                                                                                                                                                                                                    1\n",
       "ban e-bikes - few cyclists can get over 20km/h                                                                                                                                                                                                                                                                                                                                                                                                                                                                                     1\n",
       "As per the question below if scooter-type e-bikes are allowed on trails speed limit enforcement should be deployed to keep speeds at safe levels (20km/h or less?)                                                                                                                                                                                                                                                                                                                                                                 1\n",
       "walk lane run lane fast lane                                                                                                                                                                                                                                                                                                                                                                                                                                                                                                       1\n",
       "not sure                                                                                                                                                                                                                                                                                                                                                                                                                                                                                                                           1\n",
       "alongside the Beaches boardwalk direct pedestrians to use the boardwalk                                                                                                                                                                                                                                                                                                                                                                                                                                                            1\n",
       "I rarely use trails and am unfamiliar with any potential issues                                                                                                                                                                                                                                                                                                                                                                                                                                                                    1\n",
       "No - the trails are fine as they are i worry more about runners                                                                                                                                                                                                                                                                                                                                                                                                                                                                    1\n",
       "signage to encourage users to walk on the GRASS                                                                                                                                                                                                                                                                                                                                                                                                                                                                                    1\n",
       "Yes - more signage Yes - more educational programs Not all cyclists have speedometers therefore how are they supposed to know if they are exceeding the 20km/hr speed limit?                                                                                                                                                                                                                                                                                                                                                       1\n",
       "Yes - more signage Split trails where possible for fast vs slow movement                                                                                                                                                                                                                                                                                                                                                                                                                                                           1\n",
       "No motorized vehicles on trails - other than for the physically disabled                                                                                                                                                                                                                                                                                                                                                                                                                                                           1\n",
       "no ebikes                                                                                                                                                                                                                                                                                                                                                                                                                                                                                                                          1\n",
       "No - the trails are fine as they are Better regulate vehicle type and use rather than speed                                                                                                                                                                                                                                                                                                                                                                                                                                        1\n",
       "No opinion                                                                                                                                                                                                                                                                                                                                                                                                                                                                                                                         1\n",
       "                                                                                                                                                                                                                                                                                                                                                                                                                                                                                                                                ... \n",
       "Yes - more enforcement (ticketing) Yes - more educational programs It's usually the Lycra-clad cyclists who speed past me on the trails                                                                                                                                                                                                                                                                                                                                                                                            1\n",
       "Prohibit e-bikes as they regularly travel faster than the 20 km/h speed limit                                                                                                                                                                                                                                                                                                                                                                                                                                                      1\n",
       "more separation between cycling and walking                                                                                                                                                                                                                                                                                                                                                                                                                                                                                        1\n",
       "I won't use them because the 20km/hr is too slow for a fit cyclist                                                                                                                                                                                                                                                                                                                                                                                                                                                                 1\n",
       "Yes - more signage Yes - more enforcement (ticketing) Yes - more educational programs AWARENESS COMMUNICATION                                                                                                                                                                                                                                                                                                                                                                                                                      1\n",
       "Yes - more signage Alert pedestrians of rules of the trail                                                                                                                                                                                                                                                                                                                                                                                                                                                                         1\n",
       "yes go after cyclists preparing for the Tour de France                                                                                                                                                                                                                                                                                                                                                                                                                                                                             1\n",
       "No - the trails are fine as they are There is no way for a cyclist to know what speed they are travelling at there any speed limit is next to useless                                                                                                                                                                                                                                                                                                                                                                              1\n",
       "Yes - more educational programs Be fair about any new laws or ticketing  Cars speeding on roads injure and kill orders of magnitude more people under age 40 than  well all other causes combined actually                                                                                                                                                                                                                                                                                                                         1\n",
       "more enforcemnnt but i disagree with tickets as the people are struggling as it is and added tickets and fines will cause more people to resort to driving without insurance ans skimping on more important things                                                                                                                                                                                                                                                                                                                 1\n",
       "No - the trails are fine as they are 2 problems: corners with limited visibility and pedestrians who are completely unaware of their surroundings  Large portions of the trail have good visibility and few pedestrians so a blanket speed limit makes no sense  Even at 20KM per hour if 2 cyclists hit in a corner or a pedestrian darts out there's potential for injury  Perhaps a designated pedestrian and designated cycle track would work in fact some of the lakeshore multi-use paths are already marked this way       1\n",
       "Yes - more signage Yes - more educational programs Pedestrians need to be made aware  Serious cyclists need to be discouraged from using them to train  E-bikes should not be allowed on the trails at all  No e-bike ever uses the pedals                                                                                                                                                                                                                                                                                         1\n",
       "the speed is not the problem all trail users need to have high situational awareness                                                                                                                                                                                                                                                                                                                                                                                                                                               1\n",
       "No E-scooters                                                                                                                                                                                                                                                                                                                                                                                                                                                                                                                      1\n",
       "Yes - more signage Yes - more enforcement (ticketing) Warnings before ticketing                                                                                                                                                                                                                                                                                                                                                                                                                                                    1\n",
       "This speed limit is ridiculous                                                                                                                                                                                                                                                                                                                                                                                                                                                                                                     1\n",
       "I have not found speeds to necessarily have been a major cause for concern but unsafe passing and lack of awareness by many that these are shared trails seems more important than enforcing speed limits only                                                                                                                                                                                                                                                                                                                     1\n",
       "Yes - more signage Yes - more educational programs better designed/pave trails                                                                                                                                                                                                                                                                                                                                                                                                                                                     1\n",
       "Speed can be regulated according to time and conditions - sometimes speed needs to be moderated but other times there is no need for a speed limit                                                                                                                                                                                                                                                                                                                                                                                 1\n",
       "Better Trails (more separation) Higher speeds for all cyclists (pedal and e-bike)                                                                                                                                                                                                                                                                                                                                                                                                                                                  1\n",
       "pedastrians need to made aware that bicycles travel fast & they should look before moving onto trails                                                                                                                                                                                                                                                                                                                                                                                                                              1\n",
       "make more trails to relieve congestion                                                                                                                                                                                                                                                                                                                                                                                                                                                                                             1\n",
       "A campaign to raise awareness that the trails have many uses and courtesy is required                                                                                                                                                                                                                                                                                                                                                                                                                                              1\n",
       "My issue isn't the speed I have not seen speed specifically be at issue it's the recklessness and lake of care of ebikers who appear intoxicated                                                                                                                                                                                                                                                                                                                                                                                   1\n",
       "no opinion                                                                                                                                                                                                                                                                                                                                                                                                                                                                                                                         1\n",
       "No - the trails are fine as they are the speed limit should be abolished provided there are no motor vehicles or e-bikes                                                                                                                                                                                                                                                                                                                                                                                                           1\n",
       "Yes - more signage signage is only really required in the more congested trail areas (central waterfront) - the speed limit is ridiculously slow for someone on a bike on the outskirts with very few other users on the trail to navigate - common sense should apply with people slowing down when there are more trail users                                                                                                                                                                                                    1\n",
       "More infrastructure to better separate walkers from dedicated bike paths would be a smart investment for all path users                                                                                                                                                                                                                                                                                                                                                                                                            1\n",
       "Build a complete on-street bike network                                                                                                                                                                                                                                                                                                                                                                                                                                                                                            1\n",
       "I have no opinion                                                                                                                                                                                                                                                                                                                                                                                                                                                                                                                  1\n",
       "Name: speeding_demand_action, Length: 133, dtype: int64"
      ]
     },
     "execution_count": 180,
     "metadata": {},
     "output_type": "execute_result"
    }
   ],
   "source": [
    "data['speeding_demand_action'].value_counts()"
   ]
  },
  {
   "cell_type": "code",
   "execution_count": 181,
   "metadata": {},
   "outputs": [],
   "source": [
    "def clean_speeding_demand_action(row):\n",
    "    if isinstance(row.speeding_demand_action, float) or row.speeding_demand_action.startswith('No') or row.speeding_demand_action.startswith('no'):\n",
    "        row['speeding_action'] = 0\n",
    "    else:\n",
    "        row['speeding_action'] = 1\n",
    "    return row\n",
    "\n",
    "data = data.apply(clean_speeding_demand_action, axis=1).drop(['speeding_demand_action'], axis=1)"
   ]
  },
  {
   "cell_type": "markdown",
   "metadata": {},
   "source": [
    "## eboke_multiuse_path"
   ]
  },
  {
   "cell_type": "code",
   "execution_count": 182,
   "metadata": {},
   "outputs": [
    {
     "data": {
      "text/plain": [
       "No changes are necessary to the existing bylaw                                                                                                                                                                                                                                                                                                                                                                                                                                                                                                            806\n",
       "Motorized vehicles should generally not be allowed on the trail but a special provision should be made for e-bike users who are medically unable to propel a conventional bicycle using muscular power alone                                                                                                                                                                                                                                                                                                                                              629\n",
       "The bylaw should be modified to allow the 'pedal assist bicycle' type of e-bikes                                                                                                                                                                                                                                                                                                                                                                                                                                                                          287\n",
       "The bylaw should be modified to allow any kind of e-bike including scooter type e-bikes use the trail                                                                                                                                                                                                                                                                                                                                                                                                                                                     140\n",
       "No changes are necessary to the existing bylaw Motorized vehicles should generally not be allowed on the trail but a special provision should be made for e-bike users who are medically unable to propel a conventional bicycle using muscular power alone                                                                                                                                                                                                                                                                                               112\n",
       "The bylaw should be modified to allow the 'pedal assist bicycle' type of e-bikes Motorized vehicles should generally not be allowed on the trail but a special provision should be made for e-bike users who are medically unable to propel a conventional bicycle using muscular power alone                                                                                                                                                                                                                                                              81\n",
       "The bylaw should be modified to allow the 'pedal assist bicycle' type of e-bikes The bylaw should be modified to allow any kind of e-bike including scooter type e-bikes use the trail                                                                                                                                                                                                                                                                                                                                                                     49\n",
       "The bylaw should be rescinded so that any kind of recreational motor vehicle can drive on the trail                                                                                                                                                                                                                                                                                                                                                                                                                                                        27\n",
       "The bylaw should be modified to allow any kind of e-bike including scooter type e-bikes use the trail Motorized vehicles should generally not be allowed on the trail but a special provision should be made for e-bike users who are medically unable to propel a conventional bicycle using muscular power alone                                                                                                                                                                                                                                         20\n",
       "The bylaw should be modified to allow the 'pedal assist bicycle' type of e-bikes The bylaw should be modified to allow any kind of e-bike including scooter type e-bikes use the trail Motorized vehicles should generally not be allowed on the trail but a special provision should be made for e-bike users who are medically unable to propel a conventional bicycle using muscular power alone                                                                                                                                                        14\n",
       "No changes are necessary to the existing bylaw The bylaw should be modified to allow the 'pedal assist bicycle' type of e-bikes Motorized vehicles should generally not be allowed on the trail but a special provision should be made for e-bike users who are medically unable to propel a conventional bicycle using muscular power alone                                                                                                                                                                                                               10\n",
       "The bylaw should be modified to allow any kind of e-bike including scooter type e-bikes use the trail The bylaw should be rescinded so that any kind of recreational motor vehicle can drive on the trail                                                                                                                                                                                                                                                                                                                                                   9\n",
       "The bylaw should be modified to allow the 'pedal assist bicycle' type of e-bikes The bylaw should be modified to allow any kind of e-bike including scooter type e-bikes use the trail The bylaw should be rescinded so that any kind of recreational motor vehicle can drive on the trail                                                                                                                                                                                                                                                                  9\n",
       "No changes are necessary to the existing bylaw The bylaw should be modified to allow the 'pedal assist bicycle' type of e-bikes                                                                                                                                                                                                                                                                                                                                                                                                                             9\n",
       "The bylaw should be rescinded so that any kind of recreational motor vehicle can drive on the trail Motorized vehicles should generally not be allowed on the trail but a special provision should be made for e-bike users who are medically unable to propel a conventional bicycle using muscular power alone                                                                                                                                                                                                                                            6\n",
       "No changes are necessary to the existing bylaw The bylaw should be modified to allow the 'pedal assist bicycle' type of e-bikes The bylaw should be modified to allow any kind of e-bike including scooter type e-bikes use the trail                                                                                                                                                                                                                                                                                                                       5\n",
       "The bylaw should be modified to allow any kind of e-bike including scooter type e-bikes use the trail The bylaw should be rescinded so that any kind of recreational motor vehicle can drive on the trail Motorized vehicles should generally not be allowed on the trail but a special provision should be made for e-bike users who are medically unable to propel a conventional bicycle using muscular power alone                                                                                                                                      4\n",
       "No changes are necessary to the existing bylaw The bylaw should be rescinded so that any kind of recreational motor vehicle can drive on the trail                                                                                                                                                                                                                                                                                                                                                                                                          2\n",
       "No changes are necessary to the existing bylaw The bylaw should be modified to allow the 'pedal assist bicycle' type of e-bikes The bylaw should be modified to allow any kind of e-bike including scooter type e-bikes use the trail The bylaw should be rescinded so that any kind of recreational motor vehicle can drive on the trail                                                                                                                                                                                                                   2\n",
       "The bylaw should be modified to allow the 'pedal assist bicycle' type of e-bikes The bylaw should be rescinded so that any kind of recreational motor vehicle can drive on the trail                                                                                                                                                                                                                                                                                                                                                                        1\n",
       "No changes are necessary to the existing bylaw The bylaw should be modified to allow the 'pedal assist bicycle' type of e-bikes The bylaw should be modified to allow any kind of e-bike including scooter type e-bikes use the trail The bylaw should be rescinded so that any kind of recreational motor vehicle can drive on the trail Motorized vehicles should generally not be allowed on the trail but a special provision should be made for e-bike users who are medically unable to propel a conventional bicycle using muscular power alone      1\n",
       "No changes are necessary to the existing bylaw The bylaw should be modified to allow any kind of e-bike including scooter type e-bikes use the trail The bylaw should be rescinded so that any kind of recreational motor vehicle can drive on the trail Motorized vehicles should generally not be allowed on the trail but a special provision should be made for e-bike users who are medically unable to propel a conventional bicycle using muscular power alone                                                                                       1\n",
       "No changes are necessary to the existing bylaw The bylaw should be modified to allow any kind of e-bike including scooter type e-bikes use the trail                                                                                                                                                                                                                                                                                                                                                                                                        1\n",
       "The bylaw should be modified to allow the 'pedal assist bicycle' type of e-bikes The bylaw should be modified to allow any kind of e-bike including scooter type e-bikes use the trail The bylaw should be rescinded so that any kind of recreational motor vehicle can drive on the trail Motorized vehicles should generally not be allowed on the trail but a special provision should be made for e-bike users who are medically unable to propel a conventional bicycle using muscular power alone                                                     1\n",
       "The bylaw should be modified to allow e-bikes which can be pedaled and look like bicycles to use power assist up to 32 km/h                                                                                                                                                                                                                                                                                                                                                                                                                                 1\n",
       "Name: ebike_multiuse_path, dtype: int64"
      ]
     },
     "execution_count": 182,
     "metadata": {},
     "output_type": "execute_result"
    }
   ],
   "source": [
    "data['ebike_multiuse_path'].value_counts()"
   ]
  },
  {
   "cell_type": "code",
   "execution_count": 183,
   "metadata": {},
   "outputs": [],
   "source": [
    "ebike_multiuse_values = [\n",
    "    'No changes are necessary to the existing bylaw',\n",
    "    'Motorized vehicles should generally not be allowed on the trail but a special provision should be made for e-bike users who are medically unable to propel a conventional bicycle using muscular power alone',\n",
    "    \"The bylaw should be modified to allow the 'pedal assist bicycle' type of e-bikes\",\n",
    "    'The bylaw should be modified to allow any kind of e-bike including scooter type e-bikes use the trail',\n",
    "    'The bylaw should be rescinded so that any kind of recreational motor vehicle can drive on the trail'\n",
    "]\n",
    "\n",
    "def clean_ebike_multiuse(row):\n",
    "    for i, statement in enumerate(ebike_multiuse_values):\n",
    "        row[f'm{i}'] = int(statement in row.ebike_multiuse_path)\n",
    "    return row\n",
    "\n",
    "data = data.apply(clean_ebike_multiuse, axis=1).drop(['ebike_multiuse_path'], axis=1)"
   ]
  },
  {
   "cell_type": "markdown",
   "metadata": {},
   "source": [
    "## bicycle_lane"
   ]
  },
  {
   "cell_type": "code",
   "execution_count": 184,
   "metadata": {},
   "outputs": [
    {
     "data": {
      "text/plain": [
       "ride a commuter or cruiser style bicycle                                                                                                                                                                                                             703\n",
       "ride a road bicycle or a fixie                                                                                                                                                                                                                       571\n",
       "ride a mountain downhill or BMX bicycle                                                                                                                                                                                                              346\n",
       "I do not use bicycle lanes                                                                                                                                                                                                                           285\n",
       "pedal a pedal assist type e-bike                                                                                                                                                                                                                     117\n",
       "drive a scooter type e-bike propelled by an electric motor                                                                                                                                                                                           107\n",
       "ride a folding or recumbent                                                                                                                                                                                                                           30\n",
       "Bixi                                                                                                                                                                                                                                                   3\n",
       "ride bike pulling trailer with kids                                                                                                                                                                                                                    2\n",
       "Motorcycle                                                                                                                                                                                                                                             2\n",
       "I ride a hybrid                                                                                                                                                                                                                                        2\n",
       "ride a hybrid bicycle                                                                                                                                                                                                                                  2\n",
       "If lane is in occupied by bikes I do drive on it but if it has lots of bikes I don't                                                                                                                                                                   1\n",
       "What bike lanes?                                                                                                                                                                                                                                       1\n",
       "what's a fixie?                                                                                                                                                                                                                                        1\n",
       "Cruisers and single speed                                                                                                                                                                                                                              1\n",
       "As a motorcyclist I think bicycle lanes should be used for motorcycles to pass other vehicles when safe to do so and at red lights                                                                                                                     1\n",
       "I commute on my '80s steel road bike with upright bars a free wheel and a single speed                                                                                                                                                                 1\n",
       "skateboard/longboard                                                                                                                                                                                                                                   1\n",
       "BIXI                                                                                                                                                                                                                                                   1\n",
       "Duel Sport Bicycle                                                                                                                                                                                                                                     1\n",
       "motor an electric assist bicycle                                                                                                                                                                                                                       1\n",
       "Cargo bike                                                                                                                                                                                                                                             1\n",
       "three wheel bicycle                                                                                                                                                                                                                                    1\n",
       "I only use bike lanes with my e-bike when necessary as I know it is currently illegal                                                                                                                                                                  1\n",
       "I ride a single speed bike but rarely if ever in bike lanes; I can keep up with motor vehicle traffic traffic on my bike and I feel unsafe in bike lanes due to all of the scooter-style e-bikes                                                       1\n",
       "oops                                                                                                                                                                                                                                                   1\n",
       "rollerblades                                                                                                                                                                                                                                           1\n",
       "electric assist recumbent bicycle                                                                                                                                                                                                                      1\n",
       "use bicycle lanes only to avoid slowing down car traffic only when bicycles are not in sight                                                                                                                                                           1\n",
       "                                                                                                                                                                                                                                                    ... \n",
       "I ride my motorcycle in the bicycle lanes                                                                                                                                                                                                              1\n",
       "cant use bike lanes due to bylaw                                                                                                                                                                                                                       1\n",
       "E-bikes are banned from bike lanes as such I do not use bike lanes                                                                                                                                                                                     1\n",
       "Muscle-powered tricycle                                                                                                                                                                                                                                1\n",
       "You folks realize that most pedal-assist e-bikes have throttles too right? Pedaling is optional regardless of the frame type                                                                                                                           1\n",
       "i have several bikes                                                                                                                                                                                                                                   1\n",
       "50 - 50 road bike and commuter bike depending on weather                                                                                                                                                                                               1\n",
       "I ride my e-bike in the bike lane It is extremely unsafe to ride an e-bike with the regular car traffic                                                                                                                                                1\n",
       "I don't bike any more                                                                                                                                                                                                                                  1\n",
       "ride an ancient 3-speed bike                                                                                                                                                                                                                           1\n",
       "commuter bike WITH trailer                                                                                                                                                                                                                             1\n",
       "I do not like riding my pedal cruiser style bike on the road bike lanes any more too dangerous Even the paths and trails can be dangerous now too                                                                                                      1\n",
       "I commute on different kinds of bikes                                                                                                                                                                                                                  1\n",
       "use a bixi                                                                                                                                                                                                                                             1\n",
       "hybrid                                                                                                                                                                                                                                                 1\n",
       "I used to ride a commuter bicycle but then it got stolen I don't want to buy another one because they just get stolen all the time                                                                                                                     1\n",
       "yes in mississauga/no in toronto                                                                                                                                                                                                                       1\n",
       "my bicycle is attached to my mom's                                                                                                                                                                                                                     1\n",
       "bike with a trailer bike for my son                                                                                                                                                                                                                    1\n",
       "I only use the bicycle lane if a car wants to pass                                                                                                                                                                                                     1\n",
       "ride a cargo bike                                                                                                                                                                                                                                      1\n",
       "use the motor on a pedal assist type e-bike                                                                                                                                                                                                            1\n",
       "ride a touring bike - a road bicycle built for comfort and efficiency not speed                                                                                                                                                                        1\n",
       "A touring bike  It's basically a cross between a commuter and a road bike                                                                                                                                                                              1\n",
       "I do not use bicycle lanes because the city does not put the safety of cyclists first by any means and I would be frankly terrified to cycle downtown I much prefer Montreal's bike lanes that are wholly separate from both roads and sidewalks       1\n",
       "there is no option in the previous question to say -- no ebikes at all on bike trails -- no roller blades or assisted vehicles                                                                                                                         1\n",
       "unlike mississauga i use the ebike roadway                                                                                                                                                                                                             1\n",
       "Do not use e-bikes may not use bike lanes Bylaw #886                                                                                                                                                                                                   1\n",
       "PMD                                                                                                                                                                                                                                                    1\n",
       "5000W custom high power electric bicycle (non-scooter)                                                                                                                                                                                                 1\n",
       "Name: bicycle_lane, Length: 69, dtype: int64"
      ]
     },
     "execution_count": 184,
     "metadata": {},
     "output_type": "execute_result"
    }
   ],
   "source": [
    "data['bicycle_lane'].value_counts()"
   ]
  },
  {
   "cell_type": "code",
   "execution_count": 185,
   "metadata": {},
   "outputs": [],
   "source": [
    "def clean_bicycle_lane(row):\n",
    "    row[f'b_motor'] = int('motor' in row.bicycle_lane.lower())\n",
    "    row[f'b_do_not_use'] = int(row.bicycle_lane == 'I do not use bicycle lanes')\n",
    "    row[f'b_bike_other'] = int(not bool(row[f'b_motor']) and not bool(row[f'b_do_not_use']))\n",
    "    return row\n",
    "\n",
    "data = data.apply(clean_bicycle_lane, axis=1).drop(['bicycle_lane'], axis=1)"
   ]
  },
  {
   "cell_type": "markdown",
   "metadata": {},
   "source": [
    "## ebike_bicycle_lane"
   ]
  },
  {
   "cell_type": "code",
   "execution_count": 186,
   "metadata": {},
   "outputs": [
    {
     "data": {
      "text/plain": [
       "No changes are necessary to the existing bylaw                                                                                                                                                                                                                                                                                                                                                                                                                                                                                                                                                                                                                                     662\n",
       "Motorized vehicles should generally not be allowed in bicycle lanes but a special provision should be made for e-bike users who are medically unable to propel a conventional bicycle using muscular power alone                                                                                                                                                                                                                                                                                                                                                                                                                                                                   414\n",
       "The bylaw should be modified to allow 'pedal assist' type e-bikes to pedal but get a battery boost                                                                                                                                                                                                                                                                                                                                                                                                                                                                                                                                                                                 168\n",
       "The bylaw should be modified to allow all kinds of e-bikes to drive in bicycle lanes without pedalling but there should be some restrictions (eg width weight speed)                                                                                                                                                                                                                                                                                                                                                                                                                                                                                                               158\n",
       "The bylaw should be modified to allow e-bikes to drive in bicycle lanes using their motors and not pedalling without any restrictions set in place by the City (eg width weight speed)                                                                                                                                                                                                                                                                                                                                                                                                                                                                                             150\n",
       "The bylaw should be modified to allow 'pedal assist' type e-bikes to pedal but get a battery boost The bylaw should be modified to allow all kinds of e-bikes to drive in bicycle lanes without pedalling but there should be some restrictions (eg width weight speed)                                                                                                                                                                                                                                                                                                                                                                                                             73\n",
       "No changes are necessary to the existing bylaw Motorized vehicles should generally not be allowed in bicycle lanes but a special provision should be made for e-bike users who are medically unable to propel a conventional bicycle using muscular power alone                                                                                                                                                                                                                                                                                                                                                                                                                     69\n",
       "The bylaw should be modified to allow e-bikes to use bicycle lanes in suburban areas but not in busy downtown bicycle lanes Motorized vehicles should generally not be allowed in bicycle lanes but a special provision should be made for e-bike users who are medically unable to propel a conventional bicycle using muscular power alone                                                                                                                                                                                                                                                                                                                                        41\n",
       "The bylaw should be modified to allow 'pedal assist' type e-bikes to pedal but get a battery boost Motorized vehicles should generally not be allowed in bicycle lanes but a special provision should be made for e-bike users who are medically unable to propel a conventional bicycle using muscular power alone                                                                                                                                                                                                                                                                                                                                                                 37\n",
       "The bylaw should be modified to allow e-bikes to use bicycle lanes in suburban areas but not in busy downtown bicycle lanes                                                                                                                                                                                                                                                                                                                                                                                                                                                                                                                                                         31\n",
       "The bylaw should be modified to allow 'pedal assist' type e-bikes to pedal but get a battery boost The bylaw should be modified to allow e-bikes to drive in bicycle lanes using their motors and not pedalling without any restrictions set in place by the City (eg width weight speed)                                                                                                                                                                                                                                                                                                                                                                                           25\n",
       "The bylaw should be modified to allow all kinds of e-bikes to drive in bicycle lanes without pedalling but there should be some restrictions (eg width weight speed) The bylaw should be modified to allow e-bikes to drive in bicycle lanes using their motors and not pedalling without any restrictions set in place by the City (eg width weight speed)                                                                                                                                                                                                                                                                                                                         21\n",
       "The bylaw should be modified to allow all kinds of e-bikes to drive in bicycle lanes without pedalling but there should be some restrictions (eg width weight speed) Motorized vehicles should generally not be allowed in bicycle lanes but a special provision should be made for e-bike users who are medically unable to propel a conventional bicycle using muscular power alone                                                                                                                                                                                                                                                                                               20\n",
       "The bylaw should be modified to allow 'pedal assist' type e-bikes to pedal but get a battery boost The bylaw should be modified to allow all kinds of e-bikes to drive in bicycle lanes without pedalling but there should be some restrictions (eg width weight speed) The bylaw should be modified to allow e-bikes to drive in bicycle lanes using their motors and not pedalling without any restrictions set in place by the City (eg width weight speed)                                                                                                                                                                                                                      15\n",
       "The bylaw should be modified to allow 'pedal assist' type e-bikes to pedal but get a battery boost The bylaw should be modified to allow e-bikes to use bicycle lanes in suburban areas but not in busy downtown bicycle lanes Motorized vehicles should generally not be allowed in bicycle lanes but a special provision should be made for e-bike users who are medically unable to propel a conventional bicycle using muscular power alone                                                                                                                                                                                                                                     13\n",
       "No changes are necessary to the existing bylaw The bylaw should be modified to allow e-bikes to use bicycle lanes in suburban areas but not in busy downtown bicycle lanes                                                                                                                                                                                                                                                                                                                                                                                                                                                                                                          11\n",
       "No changes are necessary to the existing bylaw The bylaw should be modified to allow 'pedal assist' type e-bikes to pedal but get a battery boost                                                                                                                                                                                                                                                                                                                                                                                                                                                                                                                                   10\n",
       "The bylaw should be modified to allow e-bikes to drive in bicycle lanes using their motors and not pedalling without any restrictions set in place by the City (eg width weight speed) Motorized vehicles should generally not be allowed in bicycle lanes but a special provision should be made for e-bike users who are medically unable to propel a conventional bicycle using muscular power alone                                                                                                                                                                                                                                                                             10\n",
       "The bylaw should be modified to allow 'pedal assist' type e-bikes to pedal but get a battery boost The bylaw should be modified to allow all kinds of e-bikes to drive in bicycle lanes without pedalling but there should be some restrictions (eg width weight speed) Motorized vehicles should generally not be allowed in bicycle lanes but a special provision should be made for e-bike users who are medically unable to propel a conventional bicycle using muscular power alone                                                                                                                                                                                            10\n",
       "The bylaw should be modified to allow 'pedal assist' type e-bikes to pedal but get a battery boost The bylaw should be modified to allow e-bikes to use bicycle lanes in suburban areas but not in busy downtown bicycle lanes                                                                                                                                                                                                                                                                                                                                                                                                                                                       9\n",
       "No changes are necessary to the existing bylaw The bylaw should be modified to allow e-bikes to use bicycle lanes in suburban areas but not in busy downtown bicycle lanes Motorized vehicles should generally not be allowed in bicycle lanes but a special provision should be made for e-bike users who are medically unable to propel a conventional bicycle using muscular power alone                                                                                                                                                                                                                                                                                          8\n",
       "The bylaw should be modified to allow all kinds of e-bikes to drive in bicycle lanes without pedalling but there should be some restrictions (eg width weight speed) The bylaw should be modified to allow e-bikes to use bicycle lanes in suburban areas but not in busy downtown bicycle lanes                                                                                                                                                                                                                                                                                                                                                                                     8\n",
       "The bylaw should be modified to allow 'pedal assist' type e-bikes to pedal but get a battery boost The bylaw should be modified to allow all kinds of e-bikes to drive in bicycle lanes without pedalling but there should be some restrictions (eg width weight speed) The bylaw should be modified to allow e-bikes to use bicycle lanes in suburban areas but not in busy downtown bicycle lanes                                                                                                                                                                                                                                                                                  7\n",
       "The bylaw should be modified to allow e-bikes to drive in bicycle lanes using their motors and not pedalling without any restrictions set in place by the City (eg width weight speed) The bylaw should be modified to allow e-bikes to use bicycle lanes in suburban areas but not in busy downtown bicycle lanes                                                                                                                                                                                                                                                                                                                                                                   5\n",
       "The bylaw should be modified to allow all kinds of e-bikes to drive in bicycle lanes without pedalling but there should be some restrictions (eg width weight speed) The bylaw should be modified to allow e-bikes to use bicycle lanes in suburban areas but not in busy downtown bicycle lanes Motorized vehicles should generally not be allowed in bicycle lanes but a special provision should be made for e-bike users who are medically unable to propel a conventional bicycle using muscular power alone                                                                                                                                                                    4\n",
       "No changes are necessary to the existing bylaw The bylaw should be modified to allow 'pedal assist' type e-bikes to pedal but get a battery boost Motorized vehicles should generally not be allowed in bicycle lanes but a special provision should be made for e-bike users who are medically unable to propel a conventional bicycle using muscular power alone                                                                                                                                                                                                                                                                                                                   4\n",
       "The bylaw should be modified to allow all kinds of e-bikes to drive in bicycle lanes without pedalling but there should be some restrictions (eg width weight speed) The bylaw should be modified to allow e-bikes to drive in bicycle lanes using their motors and not pedalling without any restrictions set in place by the City (eg width weight speed) Motorized vehicles should generally not be allowed in bicycle lanes but a special provision should be made for e-bike users who are medically unable to propel a conventional bicycle using muscular power alone                                                                                                         4\n",
       "The bylaw should be modified to allow 'pedal assist' type e-bikes to pedal but get a battery boost The bylaw should be modified to allow all kinds of e-bikes to drive in bicycle lanes without pedalling but there should be some restrictions (eg width weight speed) The bylaw should be modified to allow e-bikes to use bicycle lanes in suburban areas but not in busy downtown bicycle lanes Motorized vehicles should generally not be allowed in bicycle lanes but a special provision should be made for e-bike users who are medically unable to propel a conventional bicycle using muscular power alone                                                                 3\n",
       "No changes are necessary to the existing bylaw The bylaw should be modified to allow all kinds of e-bikes to drive in bicycle lanes without pedalling but there should be some restrictions (eg width weight speed)                                                                                                                                                                                                                                                                                                                                                                                                                                                                  3\n",
       "The bylaw should be modified to allow 'pedal assist' type e-bikes to pedal but get a battery boost The bylaw should be modified to allow e-bikes to drive in bicycle lanes using their motors and not pedalling without any restrictions set in place by the City (eg width weight speed) Motorized vehicles should generally not be allowed in bicycle lanes but a special provision should be made for e-bike users who are medically unable to propel a conventional bicycle using muscular power alone                                                                                                                                                                           3\n",
       "                                                                                                                                                                                                                                                                                                                                                                                                                                                                                                                                                                                                                                                                                  ... \n",
       "No changes are necessary to the existing bylaw Motorized vehicles should generally not be allowed in bicycle lanes but a special provision should be made for e-bike users who are medically unable to propel a conventional bicycle using muscular power alone More enforcement is required times 100                                                                                                                                                                                                                                                                                                                                                                               1\n",
       "Ban E-Bikes                                                                                                                                                                                                                                                                                                                                                                                                                                                                                                                                                                                                                                                                          1\n",
       "existing law needs to be actively prosecuted                                                                                                                                                                                                                                                                                                                                                                                                                                                                                                                                                                                                                                         1\n",
       "Bicycle rider have an issue with e-bikes being quiet and being supprized when one passes them (which is ironic when they do not seem to mind silently passing pedestrians and darting in and out of traffic without warning) E-bike riders should be required to warn when passing or have a constant warning beep while in the bike lane                                                                                                                                                                                                                                                                                                                                            1\n",
       "The bylaw should be modified to allow 'pedal assist' type e-bikes to pedal but get a battery boost No ebikes on bike lanes                                                                                                                                                                                                                                                                                                                                                                                                                                                                                                                                                           1\n",
       "No changes are necessary to the existing bylaw Motorized vehicles should generally not be allowed in bicycle lanes but a special provision should be made for e-bike users who are medically unable to propel a conventional bicycle using muscular power alone enforce this                                                                                                                                                                                                                                                                                                                                                                                                         1\n",
       "ebikes belong on roads                                                                                                                                                                                                                                                                                                                                                                                                                                                                                                                                                                                                                                                               1\n",
       "The law is fine but never enforced scouter ebikes have no etiquette and I've never seen one using its pedals                                                                                                                                                                                                                                                                                                                                                                                                                                                                                                                                                                         1\n",
       "e-bikes should be prohibited from bike lanes at all times under all conditions                                                                                                                                                                                                                                                                                                                                                                                                                                                                                                                                                                                                       1\n",
       "Bylaw doesn't work  i have yet to see an ebike being pedalled  They use their motor constantly                                                                                                                                                                                                                                                                                                                                                                                                                                                                                                                                                                                       1\n",
       "E-bikes should not be allowed in bicycle lanes                                                                                                                                                                                                                                                                                                                                                                                                                                                                                                                                                                                                                                       1\n",
       "E-Bike are in the bike lanes all the time and there should be more enforcement of the law prohibiting them from doing so                                                                                                                                                                                                                                                                                                                                                                                                                                                                                                                                                             1\n",
       "They should not at all be allowed in bike lanes  Period                                                                                                                                                                                                                                                                                                                                                                                                                                                                                                                                                                                                                              1\n",
       "No changes are necessary to the existing bylaw The bylaw should be modified to allow 'pedal assist' type e-bikes to pedal but get a battery boost The bylaw should be modified to allow e-bikes to use bicycle lanes in suburban areas but not in busy downtown bicycle lanes Motorized vehicles should generally not be allowed in bicycle lanes but a special provision should be made for e-bike users who are medically unable to propel a conventional bicycle using muscular power alone                                                                                                                                                                                       1\n",
       "No changes are necessary to the existing bylaw Greater enforcement of the bylaw should be made a priority                                                                                                                                                                                                                                                                                                                                                                                                                                                                                                                                                                            1\n",
       "I need more information before I can choose from these options but generally e-bikes in bike lanes are a problem and create hazards                                                                                                                                                                                                                                                                                                                                                                                                                                                                                                                                                  1\n",
       "no e-bikes in bicycle lanes period                                                                                                                                                                                                                                                                                                                                                                                                                                                                                                                                                                                                                                                   1\n",
       "the current bylaw isn't enforced at all; I see ebikes in bicycle lanes under motor power all the time                                                                                                                                                                                                                                                                                                                                                                                                                                                                                                                                                                                1\n",
       "Motorized vehicles should generally not be allowed in bicycle lanes but a special provision should be made for e-bike users who are medically unable to propel a conventional bicycle using muscular power alone e-bikes should be part of traffic like scooters or motorcycles are  They are not bikes and I've never seen anyone pedaling them while in a bike lane  Not one person                                                                                                                                                                                                                                                                                                1\n",
       "The bylaw should be modified to allow 'pedal assist' type e-bikes to pedal but get a battery boost The bylaw should be modified to allow all kinds of e-bikes to drive in bicycle lanes without pedalling but there should be some restrictions (eg width weight speed) The bylaw should be modified to allow e-bikes to drive in bicycle lanes using their motors and not pedalling without any restrictions set in place by the City (eg width weight speed) Motorized vehicles should generally not be allowed in bicycle lanes but a special provision should be made for e-bike users who are medically unable to propel a conventional bicycle using muscular power alone      1\n",
       "Motorized vehicles should generally not be allowed in bicycle lanes but a special provision should be made for e-bike users who are medically unable to propel a conventional bicycle using muscular power alone  Motorized vehicles should generally not be allowed in bicycle lanes regarless of a person's muscular ability E-Bike's are dangerous and can not stop as quickly as a regular bike due to their mass and kinetic force                                                                                                                                                                                                                                              1\n",
       "the law seems reasonable but should e enforced somehow maybe through education and more written notification about this (perhaps written on a sticker on the e-bikes when the person buys it?)                                                                                                                                                                                                                                                                                                                                                                                                                                                                                       1\n",
       "No ebikes in bicycle lanes                                                                                                                                                                                                                                                                                                                                                                                                                                                                                                                                                                                                                                                           1\n",
       "No changes are necessary to the existing bylaw The bylaw should be modified to allow 'pedal assist' type e-bikes to pedal but get a battery boost The bylaw should be modified to allow all kinds of e-bikes to drive in bicycle lanes without pedalling but there should be some restrictions (eg width weight speed) Motorized vehicles should generally not be allowed in bicycle lanes but a special provision should be made for e-bike users who are medically unable to propel a conventional bicycle using muscular power alone                                                                                                                                              1\n",
       "No changes are necessary to the existing bylaw no motors in bike lanes!                                                                                                                                                                                                                                                                                                                                                                                                                                                                                                                                                                                                              1\n",
       "No changes are necessary to the existing bylaw They need to be fined then!                                                                                                                                                                                                                                                                                                                                                                                                                                                                                                                                                                                                           1\n",
       "E-bikes should not be allowed in bicycle lanes at all They are too big too quiet too fast They make me realize how noisy a bicycle really is                                                                                                                                                                                                                                                                                                                                                                                                                                                                                                                                         1\n",
       "No changes are necessary to the existing bylaw More enforcement is needed to keep Ebikes out of bike lanes                                                                                                                                                                                                                                                                                                                                                                                                                                                                                                                                                                           1\n",
       "An e-bike should never be in a bike lane                                                                                                                                                                                                                                                                                                                                                                                                                                                                                                                                                                                                                                             1\n",
       "No changes are necessary to the existing bylaw Motorized vehicles should generally not be allowed in bicycle lanes but a special provision should be made for e-bike users who are medically unable to propel a conventional bicycle using muscular power alone The law should be enforced                                                                                                                                                                                                                                                                                                                                                                                           1\n",
       "Name: ebike_bicycle_lane, Length: 255, dtype: int64"
      ]
     },
     "execution_count": 186,
     "metadata": {},
     "output_type": "execute_result"
    }
   ],
   "source": [
    "data['ebike_bicycle_lane'].value_counts()"
   ]
  },
  {
   "cell_type": "code",
   "execution_count": 187,
   "metadata": {},
   "outputs": [],
   "source": [
    "ebike_bicycle_values = [\n",
    "    'No changes are necessary to the existing bylaw',\n",
    "    'Motorized vehicles should generally not be allowed in bicycle lanes but a special provision should be made for e-bike users who are medically unable to propel a conventional bicycle using muscular power alone',\n",
    "    \"The bylaw should be modified to allow 'pedal assist' type e-bikes to pedal but get a battery boost\",\n",
    "    'The bylaw should be modified to allow all kinds of e-bikes to drive in bicycle lanes without pedalling but there should be some restrictions (eg width weight speed)',\n",
    "    'The bylaw should be modified to allow e-bikes to drive in bicycle lanes using their motors and not pedalling without any restrictions set in place by the City (eg width weight speed)',\n",
    "    'The bylaw should be modified to allow e-bikes to use bicycle lanes in suburban areas but not in busy downtown bicycle lanes'\n",
    "]\n",
    "\n",
    "def clean_ebike_bicycle_lane(row):\n",
    "    for i, statement in enumerate(ebike_bicycle_values):\n",
    "        row[f'eb{i}'] = int(statement in row.ebike_bicycle_lane)\n",
    "    return row\n",
    "\n",
    "data = data.apply(clean_ebike_bicycle_lane, axis=1).drop(['ebike_bicycle_lane'], axis=1)"
   ]
  },
  {
   "cell_type": "markdown",
   "metadata": {},
   "source": [
    "## sidewalk"
   ]
  },
  {
   "cell_type": "code",
   "execution_count": 188,
   "metadata": {},
   "outputs": [
    {
     "data": {
      "text/plain": [
       "maintain the existing programs for signage education and enforcement                                                                                                                                                                                                                                                                                                                                                                                                           492\n",
       "increase signage increase enforcement increase education                                                                                                                                                                                                                                                                                                                                                                                                                       346\n",
       "increase enforcement                                                                                                                                                                                                                                                                                                                                                                                                                                                           343\n",
       "increase enforcement increase education                                                                                                                                                                                                                                                                                                                                                                                                                                        163\n",
       "increase education                                                                                                                                                                                                                                                                                                                                                                                                                                                             115\n",
       "increase signage increase enforcement                                                                                                                                                                                                                                                                                                                                                                                                                                          112\n",
       "increase signage increase education                                                                                                                                                                                                                                                                                                                                                                                                                                             87\n",
       "maintain the existing programs for signage education and enforcement increase signage increase enforcement increase education                                                                                                                                                                                                                                                                                                                                                   83\n",
       "maintain the existing programs for signage education and enforcement increase enforcement                                                                                                                                                                                                                                                                                                                                                                                       72\n",
       "maintain the existing programs for signage education and enforcement increase education                                                                                                                                                                                                                                                                                                                                                                                         66\n",
       "increase signage                                                                                                                                                                                                                                                                                                                                                                                                                                                                44\n",
       "maintain the existing programs for signage education and enforcement increase enforcement increase education                                                                                                                                                                                                                                                                                                                                                                    34\n",
       "maintain the existing programs for signage education and enforcement increase signage increase education                                                                                                                                                                                                                                                                                                                                                                        30\n",
       "maintain the existing programs for signage education and enforcement increase signage increase enforcement                                                                                                                                                                                                                                                                                                                                                                      17\n",
       "maintain the existing programs for signage education and enforcement increase signage                                                                                                                                                                                                                                                                                                                                                                                           15\n",
       "modify enforcement to dangerous pedal bike riding on sidewalks                                                                                                                                                                                                                                                                                                                                                                                                                   1\n",
       "maintain the existing programs for signage education and enforcement increase education Also include motorist education about cyclists' right to use the roadway                                                                                                                                                                                                                                                                                                                 1\n",
       "do nothing                                                                                                                                                                                                                                                                                                                                                                                                                                                                       1\n",
       "increase enforcement increase education & confiscate bike                                                                                                                                                                                                                                                                                                                                                                                                                        1\n",
       "Sidewalks are a safe place for bicycles and electric assist e-bikes--much safer than motor vehicle roadways But ALL users of sidewalks (including pedestrians distracted by ipods of cell phones etc ) have a responsibility to be aware of their surroundings and watch out for their own and others safety A cyclist or runner or skater must slow down and provide ample warning to others on the sidewalk-- Do unto others                                                   1\n",
       "Small bikes should be allowed on sidewalks i e children's bikes                                                                                                                                                                                                                                                                                                                                                                                                                  1\n",
       "Consider sidewalks as multiuse Change the infrastructure to accomodate both types of traffic                                                                                                                                                                                                                                                                                                                                                                                     1\n",
       "maintain the existing programs for signage education and enforcement Allow cyclists on sidewalks on roads to dangerous to cycle on                                                                                                                                                                                                                                                                                                                                               1\n",
       "increase signage increase enforcement increase education City needs to increase bike lanes & PARKING                                                                                                                                                                                                                                                                                                                                                                             1\n",
       "Allow bikes on the side walk when there is no bike lane availiable some times crossing a busy intersection is safe through the cross walk Generally the bicycles are low speeds in suburban areas aren't an issue in suburban areas I find it safer for kids and adults when the road is just too congested and during rush hour the speed of traffic moves up and people on bikes can't keep up not to mention the increase in elderly people that don't notice cyclelist       1\n",
       "consider why this happens? Wreckless drivers excessive speeding negligent driving As a cyclist and ebiker the education is not on us but the drivers and the police who should be enforcing speed limits                                                                                                                                                                                                                                                                         1\n",
       "increase enforcement A rule without enforcement is just a recommendation                                                                                                                                                                                                                                                                                                                                                                                                         1\n",
       "increase enforcement enforce heavy fines                                                                                                                                                                                                                                                                                                                                                                                                                                         1\n",
       "increase education improve the bicycle lane network - if cyclists don't feel safe on the road they often use the sidewalk                                                                                                                                                                                                                                                                                                                                                        1\n",
       "increase bike lanes                                                                                                                                                                                                                                                                                                                                                                                                                                                              1\n",
       "                                                                                                                                                                                                                                                                                                                                                                                                                                                                              ... \n",
       "increase bike lanes and bike lane barriers                                                                                                                                                                                                                                                                                                                                                                                                                                       1\n",
       "maintain the existing programs for signage education and enforcement increase signage increase enforcement increase education Sidewalks are for pedestrians only                                                                                                                                                                                                                                                                                                                 1\n",
       "Make cycling on the road safer and more accessible                                                                                                                                                                                                                                                                                                                                                                                                                               1\n",
       "remove rediculous restrictions                                                                                                                                                                                                                                                                                                                                                                                                                                                   1\n",
       "maintain the existing programs for signage education and enforcement Build some Bike Lanes                                                                                                                                                                                                                                                                                                                                                                                       1\n",
       "Allow bicycles to be on some sidewalks if they don't go over a certain speed or weight                                                                                                                                                                                                                                                                                                                                                                                           1\n",
       "maintain the existing programs for signage education and enforcement The main reason people ride on the sidewalk is because they don't feel safe on the road A network of barrier-separated bike lanes should be priority #1                                                                                                                                                                                                                                                     1\n",
       "ban e-bikes from sidewalks and allow bicycles on sidewalks at slow speeds if no bike lanes are available                                                                                                                                                                                                                                                                                                                                                                         1\n",
       "maintain the existing programs for signage education and enforcement increase education Create more safe streets                                                                                                                                                                                                                                                                                                                                                                 1\n",
       "increase education tell drivers this too!                                                                                                                                                                                                                                                                                                                                                                                                                                        1\n",
       "increase signage increase enforcement increase education INCREASE BICYCLE LANES                                                                                                                                                                                                                                                                                                                                                                                                  1\n",
       "Add bike lanes or Cyclist Dismout signs I will switch to (riding very slowly) on a sidewalk if the road is too dangerous or high speed (ie certain parts of Bathurst Dufferin travelling under bridges)                                                                                                                                                                                                                                                                          1\n",
       "all should respect each other                                                                                                                                                                                                                                                                                                                                                                                                                                                    1\n",
       "Allow bicycles to ride safely on a sidewalk within a reasonable speed limit                                                                                                                                                                                                                                                                                                                                                                                                      1\n",
       "Only cyclists may use sidewalks if the road is unsafe Ebikes should not                                                                                                                                                                                                                                                                                                                                                                                                          1\n",
       "Maintain existing but make exceptions for sidewalks on roads where speed limit is 50km or higher It is very dangerous for cyclists on these streets (and pedestrians are few)                                                                                                                                                                                                                                                                                                    1\n",
       "increase education while I agree that sidewalks are not for cyclists I think issues of speed should come into play a cyclist moving very slowly and carefully preparing to dismount from the sidewalk should be given a warning wherein a rapidly moving cyclist has absolutely no place on a small sidewalk I hope that more discretion can be used by police during cycling blitzes to encourage conscientiousness not dogged adherence to the law                             1\n",
       "only allow restriction IF there is an alternative (i e bike lane)                                                                                                                                                                                                                                                                                                                                                                                                                1\n",
       "maintain the existing programs for signage education and enforcement Allow children to bike on sidewalks and allow bicyclists where necessary for safety (b/c no bike lanes bike lane blocked or dangerous drivers)                                                                                                                                                                                                                                                              1\n",
       "enforce the bylaw where sharing with pedestrians is hazardous                                                                                                                                                                                                                                                                                                                                                                                                                    1\n",
       "maintain the existing programs for signage education and enforcement increase signage increase enforcement increase education better bike infastructure so bikes dont have to resort to sidewalks for safety reasons                                                                                                                                                                                                                                                             1\n",
       "I agree that sidewalks are for pedestrians but the downtown roads are unsafe for kids and so they ride on the sidewalk we need more bike lanes                                                                                                                                                                                                                                                                                                                                   1\n",
       "creat more bike lanes so biking on the sidewalk is no longer necessary                                                                                                                                                                                                                                                                                                                                                                                                           1\n",
       "Apply the bylaw flexibly to cyclists (for example during poor weather or in high volume traffic areas)                                                                                                                                                                                                                                                                                                                                                                           1\n",
       "maintain the existing programs for signage education and enforcement increase enforcement increase education Change the wheel size rule and make it by age - ie only children can ride on sidewalks                                                                                                                                                                                                                                                                              1\n",
       "maintain the existing programs for signage education and enforcement If the city puts up a sign that says 'no cyclists on sidewalk' they should also add a sign on the road encouraging drivers to share the road with cyclists (ie on Lakeshore east of Humber River) Often cyclists ride on sidewalks because they feel unsafe on the road so it would be more effective to deal with the root problem                                                                         1\n",
       "increase enforcement increase education I have never seen this properly enforced and see cyclists on the sidewalk frequently                                                                                                                                                                                                                                                                                                                                                     1\n",
       "increase signage increase enforcement increase education Increase safe cycling paths and infrastructure to reduce cyclists feeling like they need to ride on the sidewalk in the first place                                                                                                                                                                                                                                                                                     1\n",
       "increase enforcement Everybody knows there should be no bikes on the sidewalks but many people ignore this rule  Need to crack down and start ticketing                                                                                                                                                                                                                                                                                                                          1\n",
       "Instituting a sidewalk speed limit as per the next question may solve this issue as well There are lots of places where a short trip on a sidewalk by bicycle shields the rider from fast traffic or other poor/unsafe conditions As long as a cyclist isn't traveling faster than pedestrians this may be acceptable                                                                                                                                                            1\n",
       "Name: sidewalk, Length: 223, dtype: int64"
      ]
     },
     "execution_count": 188,
     "metadata": {},
     "output_type": "execute_result"
    }
   ],
   "source": [
    "data['sidewalk'].value_counts()"
   ]
  },
  {
   "cell_type": "code",
   "execution_count": 189,
   "metadata": {},
   "outputs": [],
   "source": [
    "sidewalk_values = [\n",
    "    'maintain the existing programs for signage education and enforcement',\n",
    "    'increase signage',\n",
    "    'increase enforcement',\n",
    "    'increase education'\n",
    "]\n",
    "\n",
    "def clean_sidewalk(row):\n",
    "    for i, statement in enumerate(sidewalk_values):\n",
    "        row[f'si{i}'] = int(statement in row.sidewalk)\n",
    "    return row\n",
    "\n",
    "data = data.apply(clean_sidewalk, axis=1).drop(['sidewalk'], axis=1)"
   ]
  },
  {
   "cell_type": "markdown",
   "metadata": {},
   "source": [
    "## mobility_devices"
   ]
  },
  {
   "cell_type": "code",
   "execution_count": 190,
   "metadata": {},
   "outputs": [
    {
     "data": {
      "text/plain": [
       "Update the definition of a personal mobility device so that they must travel at speeds close to walking speed                                                                                                                                                                                                                                                                                                                                                                                                                                                                                                                                                                                                                                                                                                                                                                                                                                                                                                                                                                                                                                                                                                                                                                                                                                                                                                                                                                                                                                                                                                                                                                                                                                                                                                                                                                                                                                                                                                                                                                                                                                                                                                                                                                                                                                                                         1373\n",
       "Institute a speed limit for sidewalks                                                                                                                                                                                                                                                                                                                                                                                                                                                                                                                                                                                                                                                                                                                                                                                                                                                                                                                                                                                                                                                                                                                                                                                                                                                                                                                                                                                                                                                                                                                                                                                                                                                                                                                                                                                                                                                                                                                                                                                                                                                                                                                                                                                                                                                                                                                                                  372\n",
       "Do nothing                                                                                                                                                                                                                                                                                                                                                                                                                                                                                                                                                                                                                                                                                                                                                                                                                                                                                                                                                                                                                                                                                                                                                                                                                                                                                                                                                                                                                                                                                                                                                                                                                                                                                                                                                                                                                                                                                                                                                                                                                                                                                                                                                                                                                                                                                                                                                                             233\n",
       "Don't Know / Rather Not Answer                                                                                                                                                                                                                                                                                                                                                                                                                                                                                                                                                                                                                                                                                                                                                                                                                                                                                                                                                                                                                                                                                                                                                                                                                                                                                                                                                                                                                                                                                                                                                                                                                                                                                                                                                                                                                                                                                                                                                                                                                                                                                                                                                                                                                                                                                                                                                         166\n",
       "institute a speed limit - for personal mobility devices when used on sidewalks                                                                                                                                                                                                                                                                                                                                                                                                                                                                                                                                                                                                                                                                                                                                                                                                                                                                                                                                                                                                                                                                                                                                                                                                                                                                                                                                                                                                                                                                                                                                                                                                                                                                                                                                                                                                                                                                                                                                                                                                                                                                                                                                                                                                                                                                                                           1\n",
       "the city needs to increase enforcement so people don't drive personal mobility devices on the road and/or bikes lanes                                                                                                                                                                                                                                                                                                                                                                                                                                                                                                                                                                                                                                                                                                                                                                                                                                                                                                                                                                                                                                                                                                                                                                                                                                                                                                                                                                                                                                                                                                                                                                                                                                                                                                                                                                                                                                                                                                                                                                                                                                                                                                                                                                                                                                                                    1\n",
       "These vehicles are fine so long as they are travelling at the same pace as pedestrians  The ability to go faster on the road is obviously very beneficial to people that need them since they can move around similarly to an e-bike rather than be geographically restricted  They shouldn't need two separate PMDs to travel on the sidewalk vs the road but the pedestrian's safety and rights come first  Limit speeds on sidewalks go as fast as is legal and safe on the roads                                                                                                                                                                                                                                                                                                                                                                                                                                                                                                                                                                                                                                                                                                                                                                                                                                                                                                                                                                                                                                                                                                                                                                                                                                                                                                                                                                                                                                                                                                                                                                                                                                                                                                                                                                                                                                                                                                     1\n",
       "If they travel at speeds of MORE than walking speed they should NOT be allowed on sidewalk  Only people walking and children on bikes/rollerblades etc should be on sidewalk                                                                                                                                                                                                                                                                                                                                                                                                                                                                                                                                                                                                                                                                                                                                                                                                                                                                                                                                                                                                                                                                                                                                                                                                                                                                                                                                                                                                                                                                                                                                                                                                                                                                                                                                                                                                                                                                                                                                                                                                                                                                                                                                                                                                             1\n",
       "Educate those users; a by-law with a flexible reasonable and safe or appropriate to circumstances condition IT is reasonable for someone on one of these machines to travel more quickly than walking speed on many large sparsely used sidewalks                                                                                                                                                                                                                                                                                                                                                                                                                                                                                                                                                                                                                                                                                                                                                                                                                                                                                                                                                                                                                                                                                                                                                                                                                                                                                                                                                                                                                                                                                                                                                                                                                                                                                                                                                                                                                                                                                                                                                                                                                                                                                                                                        1\n",
       "most I have seen if they want to go fast will go in the bike lane - I feel having mobility issues is difficult enough without making things tougher                                                                                                                                                                                                                                                                                                                                                                                                                                                                                                                                                                                                                                                                                                                                                                                                                                                                                                                                                                                                                                                                                                                                                                                                                                                                                                                                                                                                                                                                                                                                                                                                                                                                                                                                                                                                                                                                                                                                                                                                                                                                                                                                                                                                                                      1\n",
       "When travelling on a sidewalk personal mobility devices should be capped at 5K an hour                                                                                                                                                                                                                                                                                                                                                                                                                                                                                                                                                                                                                                                                                                                                                                                                                                                                                                                                                                                                                                                                                                                                                                                                                                                                                                                                                                                                                                                                                                                                                                                                                                                                                                                                                                                                                                                                                                                                                                                                                                                                                                                                                                                                                                                                                                   1\n",
       "The people that operate them are reckless; driving in the road running lights I saw one hit a pedestrian                                                                                                                                                                                                                                                                                                                                                                                                                                                                                                                                                                                                                                                                                                                                                                                                                                                                                                                                                                                                                                                                                                                                                                                                                                                                                                                                                                                                                                                                                                                                                                                                                                                                                                                                                                                                                                                                                                                                                                                                                                                                                                                                                                                                                                                                                 1\n",
       "both update the definition and institute speed limits for sidewalks                                                                                                                                                                                                                                                                                                                                                                                                                                                                                                                                                                                                                                                                                                                                                                                                                                                                                                                                                                                                                                                                                                                                                                                                                                                                                                                                                                                                                                                                                                                                                                                                                                                                                                                                                                                                                                                                                                                                                                                                                                                                                                                                                                                                                                                                                                                      1\n",
       "Have them use bike linews                                                                                                                                                                                                                                                                                                                                                                                                                                                                                                                                                                                                                                                                                                                                                                                                                                                                                                                                                                                                                                                                                                                                                                                                                                                                                                                                                                                                                                                                                                                                                                                                                                                                                                                                                                                                                                                                                                                                                                                                                                                                                                                                                                                                                                                                                                                                                                1\n",
       "Hold individuals responsible for their actions                                                                                                                                                                                                                                                                                                                                                                                                                                                                                                                                                                                                                                                                                                                                                                                                                                                                                                                                                                                                                                                                                                                                                                                                                                                                                                                                                                                                                                                                                                                                                                                                                                                                                                                                                                                                                                                                                                                                                                                                                                                                                                                                                                                                                                                                                                                                           1\n",
       "Education for personal mobility devices to travel safely                                                                                                                                                                                                                                                                                                                                                                                                                                                                                                                                                                                                                                                                                                                                                                                                                                                                                                                                                                                                                                                                                                                                                                                                                                                                                                                                                                                                                                                                                                                                                                                                                                                                                                                                                                                                                                                                                                                                                                                                                                                                                                                                                                                                                                                                                                                                 1\n",
       "we have enough rules already in Toronto that people don't follow                                                                                                                                                                                                                                                                                                                                                                                                                                                                                                                                                                                                                                                                                                                                                                                                                                                                                                                                                                                                                                                                                                                                                                                                                                                                                                                                                                                                                                                                                                                                                                                                                                                                                                                                                                                                                                                                                                                                                                                                                                                                                                                                                                                                                                                                                                                         1\n",
       "mobility scooters are not to slow and I have seen them really moving down sidewalks and on bike lanes so don't pin it all on ebikes Just get rid of the car and all problems are solved They are the only ones complaining                                                                                                                                                                                                                                                                                                                                                                                                                                                                                                                                                                                                                                                                                                                                                                                                                                                                                                                                                                                                                                                                                                                                                                                                                                                                                                                                                                                                                                                                                                                                                                                                                                                                                                                                                                                                                                                                                                                                                                                                                                                                                                                                                               1\n",
       "If personal mobility devices must be on the sidewalk their speed needs to be much slower - if that it is not possible speed limits are necessary and need to be enforced however I see this as contuing risk and think where if they can't be slowed down they can't be on the sidewalk                                                                                                                                                                                                                                                                                                                                                                                                                                                                                                                                                                                                                                                                                                                                                                                                                                                                                                                                                                                                                                                                                                                                                                                                                                                                                                                                                                                                                                                                                                                                                                                                                                                                                                                                                                                                                                                                                                                                                                                                                                                                                                  1\n",
       "ban everything on the sidewalk except for walking an personal mobility devices for people with disabililities                                                                                                                                                                                                                                                                                                                                                                                                                                                                                                                                                                                                                                                                                                                                                                                                                                                                                                                                                                                                                                                                                                                                                                                                                                                                                                                                                                                                                                                                                                                                                                                                                                                                                                                                                                                                                                                                                                                                                                                                                                                                                                                                                                                                                                                                            1\n",
       "Please stop motorized vehicles (ebikes/etc ) from driving on sidewalks and trails; motorized personal mobility devices (specifically for people with physically challenged permits) should be limited to walking speed if they are to be used on sidewalks or trails Sidewalks should NOT be used as parking spaces for motorized vehicles (ebikes/etc )                                                                                                                                                                                                                                                                                                                                                                                                                                                                                                                                                                                                                                                                                                                                                                                                                                                                                                                                                                                                                                                                                                                                                                                                                                                                                                                                                                                                                                                                                                                                                                                                                                                                                                                                                                                                                                                                                                                                                                                                                                 1\n",
       "Treat them as bikes and allow them (and e-bikes!) access to bicycle lanes!                                                                                                                                                                                                                                                                                                                                                                                                                                                                                                                                                                                                                                                                                                                                                                                                                                                                                                                                                                                                                                                                                                                                                                                                                                                                                                                                                                                                                                                                                                                                                                                                                                                                                                                                                                                                                                                                                                                                                                                                                                                                                                                                                                                                                                                                                                               1\n",
       "NO BIKES ON SIDEWALKS - EVER!                                                                                                                                                                                                                                                                                                                                                                                                                                                                                                                                                                                                                                                                                                                                                                                                                                                                                                                                                                                                                                                                                                                                                                                                                                                                                                                                                                                                                                                                                                                                                                                                                                                                                                                                                                                                                                                                                                                                                                                                                                                                                                                                                                                                                                                                                                                                                            1\n",
       "Need more bike lanes                                                                                                                                                                                                                                                                                                                                                                                                                                                                                                                                                                                                                                                                                                                                                                                                                                                                                                                                                                                                                                                                                                                                                                                                                                                                                                                                                                                                                                                                                                                                                                                                                                                                                                                                                                                                                                                                                                                                                                                                                                                                                                                                                                                                                                                                                                                                                                     1\n",
       "only wheelchairs at walking speed                                                                                                                                                                                                                                                                                                                                                                                                                                                                                                                                                                                                                                                                                                                                                                                                                                                                                                                                                                                                                                                                                                                                                                                                                                                                                                                                                                                                                                                                                                                                                                                                                                                                                                                                                                                                                                                                                                                                                                                                                                                                                                                                                                                                                                                                                                                                                        1\n",
       "Install passing-width low speed vehicle (bike) lanes and get ALL motor vehicles off the sidewalks except for specific site access                                                                                                                                                                                                                                                                                                                                                                                                                                                                                                                                                                                                                                                                                                                                                                                                                                                                                                                                                                                                                                                                                                                                                                                                                                                                                                                                                                                                                                                                                                                                                                                                                                                                                                                                                                                                                                                                                                                                                                                                                                                                                                                                                                                                                                                        1\n",
       "Wait and see if this becomes a problem                                                                                                                                                                                                                                                                                                                                                                                                                                                                                                                                                                                                                                                                                                                                                                                                                                                                                                                                                                                                                                                                                                                                                                                                                                                                                                                                                                                                                                                                                                                                                                                                                                                                                                                                                                                                                                                                                                                                                                                                                                                                                                                                                                                                                                                                                                                                                   1\n",
       "I have no problem what a person mobility device that acts as a wheelchair otherwise bikes ebikes cars are all vehicles and belong on the road period                                                                                                                                                                                                                                                                                                                                                                                                                                                                                                                                                                                                                                                                                                                                                                                                                                                                                                                                                                                                                                                                                                                                                                                                                                                                                                                                                                                                                                                                                                                                                                                                                                                                                                                                                                                                                                                                                                                                                                                                                                                                                                                                                                                                                                     1\n",
       "I cant walk! You are trying to make it so it takes 1/2 hr to get to the store instead of 5 minutes                                                                                                                                                                                                                                                                                                                                                                                                                                                                                                                                                                                                                                                                                                                                                                                                                                                                                                                                                                                                                                                                                                                                                                                                                                                                                                                                                                                                                                                                                                                                                                                                                                                                                                                                                                                                                                                                                                                                                                                                                                                                                                                                                                                                                                                                                       1\n",
       "Institute a speed limit for sidewalks WHEN pedestrians are present and ahead of the electric traveler                                                                                                                                                                                                                                                                                                                                                                                                                                                                                                                                                                                                                                                                                                                                                                                                                                                                                                                                                                                                                                                                                                                                                                                                                                                                                                                                                                                                                                                                                                                                                                                                                                                                                                                                                                                                                                                                                                                                                                                                                                                                                                                                                                                                                                                                                    1\n",
       "                                                                                                                                                                                                                                                                                                                                                                                                                                                                                                                                                                                                                                                                                                                                                                                                                                                                                                                                                                                                                                                                                                                                                                                                                                                                                                                                                                                                                                                                                                                                                                                                                                                                                                                                                                                                                                                                                                                                                                                                                                                                                                                                                                                                                                                                                                                                                                                      ... \n",
       "I have often seen motorized wheelchairs being driven in bicycle lanes or along the side of the road as if they were cars Mobility devices ought to be on the sidewalk and being driven at reasonable speeds depending on sidewalk traffic                                                                                                                                                                                                                                                                                                                                                                                                                                                                                                                                                                                                                                                                                                                                                                                                                                                                                                                                                                                                                                                                                                                                                                                                                                                                                                                                                                                                                                                                                                                                                                                                                                                                                                                                                                                                                                                                                                                                                                                                                                                                                                                                                1\n",
       "don't allow the sale of these high-speed mobility devices Why not stop the problem at the root?                                                                                                                                                                                                                                                                                                                                                                                                                                                                                                                                                                                                                                                                                                                                                                                                                                                                                                                                                                                                                                                                                                                                                                                                                                                                                                                                                                                                                                                                                                                                                                                                                                                                                                                                                                                                                                                                                                                                                                                                                                                                                                                                                                                                                                                                                          1\n",
       "Use existing laws to clamp down on bad behaviors                                                                                                                                                                                                                                                                                                                                                                                                                                                                                                                                                                                                                                                                                                                                                                                                                                                                                                                                                                                                                                                                                                                                                                                                                                                                                                                                                                                                                                                                                                                                                                                                                                                                                                                                                                                                                                                                                                                                                                                                                                                                                                                                                                                                                                                                                                                                         1\n",
       "provide more education on the safety implications of mobility devices (and bicycles) and sidewalks                                                                                                                                                                                                                                                                                                                                                                                                                                                                                                                                                                                                                                                                                                                                                                                                                                                                                                                                                                                                                                                                                                                                                                                                                                                                                                                                                                                                                                                                                                                                                                                                                                                                                                                                                                                                                                                                                                                                                                                                                                                                                                                                                                                                                                                                                       1\n",
       "ban sale or use of mobility devices which go more than 120% of average walking speed                                                                                                                                                                                                                                                                                                                                                                                                                                                                                                                                                                                                                                                                                                                                                                                                                                                                                                                                                                                                                                                                                                                                                                                                                                                                                                                                                                                                                                                                                                                                                                                                                                                                                                                                                                                                                                                                                                                                                                                                                                                                                                                                                                                                                                                                                                     1\n",
       "Frankly even electric wheelchairs now have been causing issues on sidewalks I notice I've nearly been run over by them I don't know what to do about it but it is an issue I see this as a different issue from that for e-bikes                                                                                                                                                                                                                                                                                                                                                                                                                                                                                                                                                                                                                                                                                                                                                                                                                                                                                                                                                                                                                                                                                                                                                                                                                                                                                                                                                                                                                                                                                                                                                                                                                                                                                                                                                                                                                                                                                                                                                                                                                                                                                                                                                         1\n",
       "if these vehicles are treated like pedestrians and allowed on sidewalks and indoors then get them out the road/bike lanes                                                                                                                                                                                                                                                                                                                                                                                                                                                                                                                                                                                                                                                                                                                                                                                                                                                                                                                                                                                                                                                                                                                                                                                                                                                                                                                                                                                                                                                                                                                                                                                                                                                                                                                                                                                                                                                                                                                                                                                                                                                                                                                                                                                                                                                                1\n",
       "They should stay on the sidewalk not the roads and should not have high speeds                                                                                                                                                                                                                                                                                                                                                                                                                                                                                                                                                                                                                                                                                                                                                                                                                                                                                                                                                                                                                                                                                                                                                                                                                                                                                                                                                                                                                                                                                                                                                                                                                                                                                                                                                                                                                                                                                                                                                                                                                                                                                                                                                                                                                                                                                                           1\n",
       "speed limit and mobility vehicles for health reasons should require a doctors note                                                                                                                                                                                                                                                                                                                                                                                                                                                                                                                                                                                                                                                                                                                                                                                                                                                                                                                                                                                                                                                                                                                                                                                                                                                                                                                                                                                                                                                                                                                                                                                                                                                                                                                                                                                                                                                                                                                                                                                                                                                                                                                                                                                                                                                                                                       1\n",
       "a speed limit on sidewalks would also limit bike speeds if bikes allowed on sidewalks                                                                                                                                                                                                                                                                                                                                                                                                                                                                                                                                                                                                                                                                                                                                                                                                                                                                                                                                                                                                                                                                                                                                                                                                                                                                                                                                                                                                                                                                                                                                                                                                                                                                                                                                                                                                                                                                                                                                                                                                                                                                                                                                                                                                                                                                                                    1\n",
       "remove from sidewalk                                                                                                                                                                                                                                                                                                                                                                                                                                                                                                                                                                                                                                                                                                                                                                                                                                                                                                                                                                                                                                                                                                                                                                                                                                                                                                                                                                                                                                                                                                                                                                                                                                                                                                                                                                                                                                                                                                                                                                                                                                                                                                                                                                                                                                                                                                                                                                     1\n",
       "Require bells                                                                                                                                                                                                                                                                                                                                                                                                                                                                                                                                                                                                                                                                                                                                                                                                                                                                                                                                                                                                                                                                                                                                                                                                                                                                                                                                                                                                                                                                                                                                                                                                                                                                                                                                                                                                                                                                                                                                                                                                                                                                                                                                                                                                                                                                                                                                                                            1\n",
       "check with the province                                                                                                                                                                                                                                                                                                                                                                                                                                                                                                                                                                                                                                                                                                                                                                                                                                                                                                                                                                                                                                                                                                                                                                                                                                                                                                                                                                                                                                                                                                                                                                                                                                                                                                                                                                                                                                                                                                                                                                                                                                                                                                                                                                                                                                                                                                                                                                  1\n",
       "Have the fast ones use the bike lane slower ones use the sidewalk                                                                                                                                                                                                                                                                                                                                                                                                                                                                                                                                                                                                                                                                                                                                                                                                                                                                                                                                                                                                                                                                                                                                                                                                                                                                                                                                                                                                                                                                                                                                                                                                                                                                                                                                                                                                                                                                                                                                                                                                                                                                                                                                                                                                                                                                                                                        1\n",
       "pedal assisted bikes should travel on the road with other bikes Sidewalks are for pedestrians and those traveling by wheel chair                                                                                                                                                                                                                                                                                                                                                                                                                                                                                                                                                                                                                                                                                                                                                                                                                                                                                                                                                                                                                                                                                                                                                                                                                                                                                                                                                                                                                                                                                                                                                                                                                                                                                                                                                                                                                                                                                                                                                                                                                                                                                                                                                                                                                                                         1\n",
       "Ban them period Too slow for the road too fast/heavy for sidewalks                                                                                                                                                                                                                                                                                                                                                                                                                                                                                                                                                                                                                                                                                                                                                                                                                                                                                                                                                                                                                                                                                                                                                                                                                                                                                                                                                                                                                                                                                                                                                                                                                                                                                                                                                                                                                                                                                                                                                                                                                                                                                                                                                                                                                                                                                                                       1\n",
       "Again I'd need to see some research and hear about what's happening in other cities I'm not sure                                                                                                                                                                                                                                                                                                                                                                                                                                                                                                                                                                                                                                                                                                                                                                                                                                                                                                                                                                                                                                                                                                                                                                                                                                                                                                                                                                                                                                                                                                                                                                                                                                                                                                                                                                                                                                                                                                                                                                                                                                                                                                                                                                                                                                                                                         1\n",
       "no e-bikes on sidewalks                                                                                                                                                                                                                                                                                                                                                                                                                                                                                                                                                                                                                                                                                                                                                                                                                                                                                                                                                                                                                                                                                                                                                                                                                                                                                                                                                                                                                                                                                                                                                                                                                                                                                                                                                                                                                                                                                                                                                                                                                                                                                                                                                                                                                                                                                                                                                                  1\n",
       "Please keep electric wheelchairs out of bike lanes Its not safe                                                                                                                                                                                                                                                                                                                                                                                                                                                                                                                                                                                                                                                                                                                                                                                                                                                                                                                                                                                                                                                                                                                                                                                                                                                                                                                                                                                                                                                                                                                                                                                                                                                                                                                                                                                                                                                                                                                                                                                                                                                                                                                                                                                                                                                                                                                          1\n",
       "Implement maximum speed to be jogging speed?                                                                                                                                                                                                                                                                                                                                                                                                                                                                                                                                                                                                                                                                                                                                                                                                                                                                                                                                                                                                                                                                                                                                                                                                                                                                                                                                                                                                                                                                                                                                                                                                                                                                                                                                                                                                                                                                                                                                                                                                                                                                                                                                                                                                                                                                                                                                             1\n",
       "provide more & clearer space for those not in cars                                                                                                                                                                                                                                                                                                                                                                                                                                                                                                                                                                                                                                                                                                                                                                                                                                                                                                                                                                                                                                                                                                                                                                                                                                                                                                                                                                                                                                                                                                                                                                                                                                                                                                                                                                                                                                                                                                                                                                                                                                                                                                                                                                                                                                                                                                                                       1\n",
       "I know they are not fast enough to be in my bike lane Perhaps a speed limit on the sidewalk? Seems silly but I can't think of any other ideas                                                                                                                                                                                                                                                                                                                                                                                                                                                                                                                                                                                                                                                                                                                                                                                                                                                                                                                                                                                                                                                                                                                                                                                                                                                                                                                                                                                                                                                                                                                                                                                                                                                                                                                                                                                                                                                                                                                                                                                                                                                                                                                                                                                                                                            1\n",
       "allow sidewalk travel except within 5m of pedestrians                                                                                                                                                                                                                                                                                                                                                                                                                                                                                                                                                                                                                                                                                                                                                                                                                                                                                                                                                                                                                                                                                                                                                                                                                                                                                                                                                                                                                                                                                                                                                                                                                                                                                                                                                                                                                                                                                                                                                                                                                                                                                                                                                                                                                                                                                                                                    1\n",
       "All devices (high speed wheel chairs e-bikes in-line skates bicycles etc ) must be operated responsibly Individuals must be made responsible for the safety of all Perhaps the City can post Rules of the Road for trails and bike paths and sidewalks--No passing at more than a walking speed; Provide an audible notice of intent to pass (e g  call out Bike on your right when contemplating a pass on the right side of a slower moving individual); Stop and/or move off the trail or sidewalk when meeting an individual with lesser mobility (e g  baby stroller wheelchair walker etc );  The bottom line is that when 2 individuals with highly different speeds collide there will be damage A bicycle hitting a car or a Mack truck will result in more damage than a runner hitting a pedestrian Pedestrians wheelchair passengers and bicyclists have no protective cocoon around them like a motor vehicle passenger Motor vehicles (i e  cars and trucks not bicyles or e-bikes) should not mix with other less massive less protective and less speedy forms of transportation And all forms of transportation sharing a common thoroughfare must be courteous and responsible for everyone's safety I am nearly 65 years old I used to ride a 10 speed bicycle about 10 km to work but I can't make it up some of the hills now Fortunately the Province of Ontario had the foresight to allow something called an e-bike to be used like a bicycle and I can now ride my e-bike to work using the electric assist on hills I can't negotiate under my own steam I ride on a few sidestreets with very little traffic on the Waterfront Trail through unofficial trails in fields and occassionally on sidewalks rather than busy 4-lane roads I am careful to slow down and move off the trail whenever I encounter another individual I have never had any sort of problem meeting a pedestrian baby stroller other cyclist etc The only times I have witnessed a problem is when one individual is travelling at high speed overtaking another with no regard for the safety of others It has nothing to do with the mode of transportation it is a problem of a lack of responsiblity and respect for others in a specific individual Perhaps better education at home in school and through posted Rules of the Road would help change this bad behaviour        1\n",
       "Many such devices go on the road                                                                                                                                                                                                                                                                                                                                                                                                                                                                                                                                                                                                                                                                                                                                                                                                                                                                                                                                                                                                                                                                                                                                                                                                                                                                                                                                                                                                                                                                                                                                                                                                                                                                                                                                                                                                                                                                                                                                                                                                                                                                                                                                                                                                                                                                                                                                                         1\n",
       "divide vehicles by speed not how they are powered sidewalks for people and wheelchairs etc bike lanes for fast mobility devices and any bicycle that cand do road speed regular traffic lanes for all other faster vehicles                                                                                                                                                                                                                                                                                                                                                                                                                                                                                                                                                                                                                                                                                                                                                                                                                                                                                                                                                                                                                                                                                                                                                                                                                                                                                                                                                                                                                                                                                                                                                                                                                                                                                                                                                                                                                                                                                                                                                                                                                                                                                                                                                              1\n",
       "doesn't make sense to limit as runners are going faster than walking speed and allowed to be in the same spot as pedestrians                                                                                                                                                                                                                                                                                                                                                                                                                                                                                                                                                                                                                                                                                                                                                                                                                                                                                                                                                                                                                                                                                                                                                                                                                                                                                                                                                                                                                                                                                                                                                                                                                                                                                                                                                                                                                                                                                                                                                                                                                                                                                                                                                                                                                                                             1\n",
       "Include a requirement for bells or other device to be used when travelling at faster speeds                                                                                                                                                                                                                                                                                                                                                                                                                                                                                                                                                                                                                                                                                                                                                                                                                                                                                                                                                                                                                                                                                                                                                                                                                                                                                                                                                                                                                                                                                                                                                                                                                                                                                                                                                                                                                                                                                                                                                                                                                                                                                                                                                                                                                                                                                              1\n",
       "No one will pay attention to sidewalk speed limits unless there is enforcement I live near a retirement home and many people use these superfast chairs on the road and the sidewalk This should be prohibited especially since the home is next to a school I have nearly been run over by these superfast chairs and the owners give ME a dirty look for not moving out of the way!                                                                                                                                                                                                                                                                                                                                                                                                                                                                                                                                                                                                                                                                                                                                                                                                                                                                                                                                                                                                                                                                                                                                                                                                                                                                                                                                                                                                                                                                                                                                                                                                                                                                                                                                                                                                                                                                                                                                                                                                    1\n",
       "Reduce the speeds of mobile wheelchairs They are too fast for side walks                                                                                                                                                                                                                                                                                                                                                                                                                                                                                                                                                                                                                                                                                                                                                                                                                                                                                                                                                                                                                                                                                                                                                                                                                                                                                                                                                                                                                                                                                                                                                                                                                                                                                                                                                                                                                                                                                                                                                                                                                                                                                                                                                                                                                                                                                                                 1\n",
       "Name: mobility_devices, Length: 81, dtype: int64"
      ]
     },
     "execution_count": 190,
     "metadata": {},
     "output_type": "execute_result"
    }
   ],
   "source": [
    "data['mobility_devices'].value_counts()"
   ]
  },
  {
   "cell_type": "code",
   "execution_count": 191,
   "metadata": {},
   "outputs": [],
   "source": [
    "mobility_devices_values = [\n",
    "    'Update the definition of a personal mobility device so that they must travel at speeds close to walking speed',\n",
    "    'Institute a speed limit for sidewalks',\n",
    "    'Do nothing',\n",
    "    \"Don't Know / Rather Not Answer\"\n",
    "]\n",
    "\n",
    "def clean_mobility_devices(row):\n",
    "    for i, statement in enumerate(mobility_devices_values):\n",
    "        if isinstance(row.mobility_devices, float):\n",
    "            row[f'mo{i}'] = 0\n",
    "        else:\n",
    "            row[f'mo{i}'] = int(statement in row.mobility_devices)\n",
    "    return row\n",
    "\n",
    "data = data.apply(clean_mobility_devices, axis=1).drop(['mobility_devices'], axis=1)"
   ]
  },
  {
   "cell_type": "code",
   "execution_count": 192,
   "metadata": {},
   "outputs": [
    {
     "data": {
      "text/html": [
       "<div>\n",
       "<style scoped>\n",
       "    .dataframe tbody tr th:only-of-type {\n",
       "        vertical-align: middle;\n",
       "    }\n",
       "\n",
       "    .dataframe tbody tr th {\n",
       "        vertical-align: top;\n",
       "    }\n",
       "\n",
       "    .dataframe thead th {\n",
       "        text-align: right;\n",
       "    }\n",
       "</style>\n",
       "<table border=\"1\" class=\"dataframe\">\n",
       "  <thead>\n",
       "    <tr style=\"text-align: right;\">\n",
       "      <th></th>\n",
       "      <th>age</th>\n",
       "      <th>sex</th>\n",
       "      <th>health</th>\n",
       "      <th>education</th>\n",
       "      <th>income</th>\n",
       "      <th>employment</th>\n",
       "      <th>district</th>\n",
       "      <th>daily_travel_distance</th>\n",
       "      <th>commute_time</th>\n",
       "      <th>transportation</th>\n",
       "      <th>vehicles</th>\n",
       "      <th>speed_limit_aware</th>\n",
       "      <th>s0</th>\n",
       "      <th>s1</th>\n",
       "      <th>s2</th>\n",
       "      <th>s3</th>\n",
       "      <th>s4</th>\n",
       "      <th>s5</th>\n",
       "      <th>s6</th>\n",
       "      <th>s7</th>\n",
       "      <th>s8</th>\n",
       "      <th>s9</th>\n",
       "      <th>s10</th>\n",
       "      <th>a0</th>\n",
       "      <th>a1</th>\n",
       "      <th>a2</th>\n",
       "      <th>a3</th>\n",
       "      <th>a4</th>\n",
       "      <th>a5</th>\n",
       "      <th>a6</th>\n",
       "      <th>a7</th>\n",
       "      <th>c0</th>\n",
       "      <th>c1</th>\n",
       "      <th>c2</th>\n",
       "      <th>c3</th>\n",
       "      <th>c4</th>\n",
       "      <th>c5</th>\n",
       "      <th>c6</th>\n",
       "      <th>speeding_action</th>\n",
       "      <th>m0</th>\n",
       "      <th>m1</th>\n",
       "      <th>m2</th>\n",
       "      <th>m3</th>\n",
       "      <th>m4</th>\n",
       "      <th>b_motor</th>\n",
       "      <th>b_do_not_use</th>\n",
       "      <th>b_bike_other</th>\n",
       "      <th>eb0</th>\n",
       "      <th>eb1</th>\n",
       "      <th>eb2</th>\n",
       "      <th>eb3</th>\n",
       "      <th>eb4</th>\n",
       "      <th>eb5</th>\n",
       "      <th>si0</th>\n",
       "      <th>si1</th>\n",
       "      <th>si2</th>\n",
       "      <th>si3</th>\n",
       "      <th>mo0</th>\n",
       "      <th>mo1</th>\n",
       "      <th>mo2</th>\n",
       "      <th>mo3</th>\n",
       "    </tr>\n",
       "  </thead>\n",
       "  <tbody>\n",
       "    <tr>\n",
       "      <th>0</th>\n",
       "      <td>35 to 49</td>\n",
       "      <td>Male</td>\n",
       "      <td>3</td>\n",
       "      <td>4</td>\n",
       "      <td>6.0</td>\n",
       "      <td>self_employed</td>\n",
       "      <td>Central Toronto York or East York</td>\n",
       "      <td>1</td>\n",
       "      <td>2</td>\n",
       "      <td>scooter</td>\n",
       "      <td>1</td>\n",
       "      <td>0</td>\n",
       "      <td>0</td>\n",
       "      <td>1</td>\n",
       "      <td>1</td>\n",
       "      <td>1</td>\n",
       "      <td>1</td>\n",
       "      <td>0</td>\n",
       "      <td>0</td>\n",
       "      <td>1</td>\n",
       "      <td>0</td>\n",
       "      <td>0</td>\n",
       "      <td>1</td>\n",
       "      <td>0</td>\n",
       "      <td>0</td>\n",
       "      <td>0</td>\n",
       "      <td>0</td>\n",
       "      <td>0</td>\n",
       "      <td>0</td>\n",
       "      <td>0</td>\n",
       "      <td>1</td>\n",
       "      <td>0</td>\n",
       "      <td>0</td>\n",
       "      <td>0</td>\n",
       "      <td>0</td>\n",
       "      <td>0</td>\n",
       "      <td>0</td>\n",
       "      <td>1</td>\n",
       "      <td>0</td>\n",
       "      <td>0</td>\n",
       "      <td>0</td>\n",
       "      <td>0</td>\n",
       "      <td>1</td>\n",
       "      <td>0</td>\n",
       "      <td>1</td>\n",
       "      <td>0</td>\n",
       "      <td>0</td>\n",
       "      <td>0</td>\n",
       "      <td>0</td>\n",
       "      <td>0</td>\n",
       "      <td>0</td>\n",
       "      <td>1</td>\n",
       "      <td>1</td>\n",
       "      <td>0</td>\n",
       "      <td>0</td>\n",
       "      <td>0</td>\n",
       "      <td>0</td>\n",
       "      <td>0</td>\n",
       "      <td>1</td>\n",
       "      <td>0</td>\n",
       "      <td>0</td>\n",
       "    </tr>\n",
       "    <tr>\n",
       "      <th>1</th>\n",
       "      <td>18 to 34</td>\n",
       "      <td>Male</td>\n",
       "      <td>5</td>\n",
       "      <td>3</td>\n",
       "      <td>3.0</td>\n",
       "      <td>full_time</td>\n",
       "      <td>Central Toronto York or East York</td>\n",
       "      <td>3</td>\n",
       "      <td>4</td>\n",
       "      <td>scooter</td>\n",
       "      <td>1</td>\n",
       "      <td>0</td>\n",
       "      <td>0</td>\n",
       "      <td>1</td>\n",
       "      <td>1</td>\n",
       "      <td>0</td>\n",
       "      <td>0</td>\n",
       "      <td>1</td>\n",
       "      <td>1</td>\n",
       "      <td>1</td>\n",
       "      <td>0</td>\n",
       "      <td>0</td>\n",
       "      <td>1</td>\n",
       "      <td>0</td>\n",
       "      <td>0</td>\n",
       "      <td>0</td>\n",
       "      <td>0</td>\n",
       "      <td>1</td>\n",
       "      <td>0</td>\n",
       "      <td>0</td>\n",
       "      <td>0</td>\n",
       "      <td>1</td>\n",
       "      <td>0</td>\n",
       "      <td>0</td>\n",
       "      <td>0</td>\n",
       "      <td>0</td>\n",
       "      <td>0</td>\n",
       "      <td>0</td>\n",
       "      <td>0</td>\n",
       "      <td>1</td>\n",
       "      <td>0</td>\n",
       "      <td>0</td>\n",
       "      <td>0</td>\n",
       "      <td>0</td>\n",
       "      <td>1</td>\n",
       "      <td>0</td>\n",
       "      <td>0</td>\n",
       "      <td>0</td>\n",
       "      <td>0</td>\n",
       "      <td>0</td>\n",
       "      <td>0</td>\n",
       "      <td>1</td>\n",
       "      <td>0</td>\n",
       "      <td>1</td>\n",
       "      <td>1</td>\n",
       "      <td>1</td>\n",
       "      <td>1</td>\n",
       "      <td>0</td>\n",
       "      <td>0</td>\n",
       "      <td>1</td>\n",
       "      <td>0</td>\n",
       "    </tr>\n",
       "    <tr>\n",
       "      <th>2</th>\n",
       "      <td>50 to 64</td>\n",
       "      <td>Male</td>\n",
       "      <td>3</td>\n",
       "      <td>3</td>\n",
       "      <td>3.0</td>\n",
       "      <td>self_employed</td>\n",
       "      <td>Central Toronto York or East York</td>\n",
       "      <td>3</td>\n",
       "      <td>2</td>\n",
       "      <td>private_motor</td>\n",
       "      <td>1</td>\n",
       "      <td>0</td>\n",
       "      <td>0</td>\n",
       "      <td>0</td>\n",
       "      <td>0</td>\n",
       "      <td>1</td>\n",
       "      <td>1</td>\n",
       "      <td>0</td>\n",
       "      <td>1</td>\n",
       "      <td>1</td>\n",
       "      <td>1</td>\n",
       "      <td>1</td>\n",
       "      <td>0</td>\n",
       "      <td>1</td>\n",
       "      <td>0</td>\n",
       "      <td>0</td>\n",
       "      <td>0</td>\n",
       "      <td>1</td>\n",
       "      <td>0</td>\n",
       "      <td>0</td>\n",
       "      <td>0</td>\n",
       "      <td>1</td>\n",
       "      <td>0</td>\n",
       "      <td>0</td>\n",
       "      <td>0</td>\n",
       "      <td>0</td>\n",
       "      <td>0</td>\n",
       "      <td>0</td>\n",
       "      <td>1</td>\n",
       "      <td>1</td>\n",
       "      <td>0</td>\n",
       "      <td>0</td>\n",
       "      <td>0</td>\n",
       "      <td>0</td>\n",
       "      <td>0</td>\n",
       "      <td>0</td>\n",
       "      <td>1</td>\n",
       "      <td>1</td>\n",
       "      <td>0</td>\n",
       "      <td>0</td>\n",
       "      <td>0</td>\n",
       "      <td>0</td>\n",
       "      <td>0</td>\n",
       "      <td>0</td>\n",
       "      <td>1</td>\n",
       "      <td>1</td>\n",
       "      <td>1</td>\n",
       "      <td>0</td>\n",
       "      <td>0</td>\n",
       "      <td>0</td>\n",
       "      <td>0</td>\n",
       "    </tr>\n",
       "    <tr>\n",
       "      <th>3</th>\n",
       "      <td>50 to 64</td>\n",
       "      <td>Male</td>\n",
       "      <td>3</td>\n",
       "      <td>3</td>\n",
       "      <td>5.0</td>\n",
       "      <td>self_employed</td>\n",
       "      <td>Central Toronto York or East York</td>\n",
       "      <td>1</td>\n",
       "      <td>2</td>\n",
       "      <td>bicycle</td>\n",
       "      <td>1</td>\n",
       "      <td>0</td>\n",
       "      <td>0</td>\n",
       "      <td>1</td>\n",
       "      <td>1</td>\n",
       "      <td>1</td>\n",
       "      <td>1</td>\n",
       "      <td>0</td>\n",
       "      <td>1</td>\n",
       "      <td>1</td>\n",
       "      <td>1</td>\n",
       "      <td>1</td>\n",
       "      <td>1</td>\n",
       "      <td>1</td>\n",
       "      <td>0</td>\n",
       "      <td>0</td>\n",
       "      <td>0</td>\n",
       "      <td>0</td>\n",
       "      <td>0</td>\n",
       "      <td>0</td>\n",
       "      <td>0</td>\n",
       "      <td>0</td>\n",
       "      <td>1</td>\n",
       "      <td>0</td>\n",
       "      <td>1</td>\n",
       "      <td>0</td>\n",
       "      <td>1</td>\n",
       "      <td>0</td>\n",
       "      <td>1</td>\n",
       "      <td>0</td>\n",
       "      <td>1</td>\n",
       "      <td>0</td>\n",
       "      <td>0</td>\n",
       "      <td>0</td>\n",
       "      <td>0</td>\n",
       "      <td>0</td>\n",
       "      <td>1</td>\n",
       "      <td>0</td>\n",
       "      <td>1</td>\n",
       "      <td>0</td>\n",
       "      <td>0</td>\n",
       "      <td>0</td>\n",
       "      <td>0</td>\n",
       "      <td>0</td>\n",
       "      <td>1</td>\n",
       "      <td>1</td>\n",
       "      <td>0</td>\n",
       "      <td>1</td>\n",
       "      <td>0</td>\n",
       "      <td>0</td>\n",
       "      <td>0</td>\n",
       "    </tr>\n",
       "    <tr>\n",
       "      <th>4</th>\n",
       "      <td>18 to 34</td>\n",
       "      <td>Male</td>\n",
       "      <td>4</td>\n",
       "      <td>2</td>\n",
       "      <td>3.0</td>\n",
       "      <td>self_employed</td>\n",
       "      <td>Central Toronto York or East York</td>\n",
       "      <td>2</td>\n",
       "      <td>2</td>\n",
       "      <td>bicycle</td>\n",
       "      <td>1</td>\n",
       "      <td>0</td>\n",
       "      <td>0</td>\n",
       "      <td>0</td>\n",
       "      <td>1</td>\n",
       "      <td>1</td>\n",
       "      <td>1</td>\n",
       "      <td>1</td>\n",
       "      <td>1</td>\n",
       "      <td>1</td>\n",
       "      <td>1</td>\n",
       "      <td>1</td>\n",
       "      <td>0</td>\n",
       "      <td>1</td>\n",
       "      <td>0</td>\n",
       "      <td>0</td>\n",
       "      <td>0</td>\n",
       "      <td>1</td>\n",
       "      <td>0</td>\n",
       "      <td>0</td>\n",
       "      <td>0</td>\n",
       "      <td>1</td>\n",
       "      <td>0</td>\n",
       "      <td>0</td>\n",
       "      <td>0</td>\n",
       "      <td>0</td>\n",
       "      <td>0</td>\n",
       "      <td>0</td>\n",
       "      <td>0</td>\n",
       "      <td>0</td>\n",
       "      <td>1</td>\n",
       "      <td>0</td>\n",
       "      <td>0</td>\n",
       "      <td>0</td>\n",
       "      <td>0</td>\n",
       "      <td>0</td>\n",
       "      <td>1</td>\n",
       "      <td>0</td>\n",
       "      <td>1</td>\n",
       "      <td>0</td>\n",
       "      <td>0</td>\n",
       "      <td>0</td>\n",
       "      <td>0</td>\n",
       "      <td>1</td>\n",
       "      <td>0</td>\n",
       "      <td>0</td>\n",
       "      <td>1</td>\n",
       "      <td>1</td>\n",
       "      <td>0</td>\n",
       "      <td>0</td>\n",
       "      <td>0</td>\n",
       "    </tr>\n",
       "  </tbody>\n",
       "</table>\n",
       "</div>"
      ],
      "text/plain": [
       "        age   sex  health  education  income     employment  \\\n",
       "0  35 to 49  Male       3          4     6.0  self_employed   \n",
       "1  18 to 34  Male       5          3     3.0      full_time   \n",
       "2  50 to 64  Male       3          3     3.0  self_employed   \n",
       "3  50 to 64  Male       3          3     5.0  self_employed   \n",
       "4  18 to 34  Male       4          2     3.0  self_employed   \n",
       "\n",
       "                            district  daily_travel_distance  commute_time  \\\n",
       "0  Central Toronto York or East York                      1             2   \n",
       "1  Central Toronto York or East York                      3             4   \n",
       "2  Central Toronto York or East York                      3             2   \n",
       "3  Central Toronto York or East York                      1             2   \n",
       "4  Central Toronto York or East York                      2             2   \n",
       "\n",
       "  transportation  vehicles  speed_limit_aware  s0  s1  s2  s3  s4  s5  s6  s7  \\\n",
       "0        scooter         1                  0   0   1   1   1   1   0   0   1   \n",
       "1        scooter         1                  0   0   1   1   0   0   1   1   1   \n",
       "2  private_motor         1                  0   0   0   0   1   1   0   1   1   \n",
       "3        bicycle         1                  0   0   1   1   1   1   0   1   1   \n",
       "4        bicycle         1                  0   0   0   1   1   1   1   1   1   \n",
       "\n",
       "   s8  s9  s10  a0  a1  a2  a3  a4  a5  a6  a7  c0  c1  c2  c3  c4  c5  c6  \\\n",
       "0   0   0    1   0   0   0   0   0   0   0   1   0   0   0   0   0   0   1   \n",
       "1   0   0    1   0   0   0   0   1   0   0   0   1   0   0   0   0   0   0   \n",
       "2   1   1    0   1   0   0   0   1   0   0   0   1   0   0   0   0   0   0   \n",
       "3   1   1    1   1   0   0   0   0   0   0   0   0   1   0   1   0   1   0   \n",
       "4   1   1    0   1   0   0   0   1   0   0   0   1   0   0   0   0   0   0   \n",
       "\n",
       "   speeding_action  m0  m1  m2  m3  m4  b_motor  b_do_not_use  b_bike_other  \\\n",
       "0                0   0   0   0   1   0        1             0             0   \n",
       "1                0   1   0   0   0   0        1             0             0   \n",
       "2                1   1   0   0   0   0        0             0             1   \n",
       "3                1   0   1   0   0   0        0             0             1   \n",
       "4                0   0   1   0   0   0        0             0             1   \n",
       "\n",
       "   eb0  eb1  eb2  eb3  eb4  eb5  si0  si1  si2  si3  mo0  mo1  mo2  mo3  \n",
       "0    0    0    0    0    1    1    0    0    0    0    0    1    0    0  \n",
       "1    0    0    0    0    1    0    1    1    1    1    0    0    1    0  \n",
       "2    1    0    0    0    0    0    0    1    1    1    0    0    0    0  \n",
       "3    0    1    0    0    0    0    0    1    1    0    1    0    0    0  \n",
       "4    0    1    0    0    0    0    1    0    0    1    1    0    0    0  "
      ]
     },
     "execution_count": 192,
     "metadata": {},
     "output_type": "execute_result"
    }
   ],
   "source": [
    "data.head()"
   ]
  },
  {
   "cell_type": "markdown",
   "metadata": {},
   "source": [
    "## Final Data Processing"
   ]
  },
  {
   "cell_type": "markdown",
   "metadata": {},
   "source": [
    "Finally, we will convert the columns that are not yet one-hot-encoded to one-hot encoding."
   ]
  },
  {
   "cell_type": "code",
   "execution_count": 193,
   "metadata": {},
   "outputs": [],
   "source": [
    "data = pd.get_dummies(data, columns=['age', 'sex', 'employment', 'district', 'transportation'])"
   ]
  },
  {
   "cell_type": "markdown",
   "metadata": {},
   "source": [
    "Just checking that data is clean and has no missing information:"
   ]
  },
  {
   "cell_type": "code",
   "execution_count": 194,
   "metadata": {},
   "outputs": [
    {
     "name": "stdout",
     "output_type": "stream",
     "text": [
      "<class 'pandas.core.frame.DataFrame'>\n",
      "Int64Index: 2227 entries, 0 to 2237\n",
      "Data columns (total 86 columns):\n",
      "health                                        2227 non-null int64\n",
      "education                                     2227 non-null int64\n",
      "income                                        2227 non-null float64\n",
      "daily_travel_distance                         2227 non-null int64\n",
      "commute_time                                  2227 non-null int64\n",
      "vehicles                                      2227 non-null int64\n",
      "speed_limit_aware                             2227 non-null int64\n",
      "s0                                            2227 non-null int64\n",
      "s1                                            2227 non-null int64\n",
      "s2                                            2227 non-null int64\n",
      "s3                                            2227 non-null int64\n",
      "s4                                            2227 non-null int64\n",
      "s5                                            2227 non-null int64\n",
      "s6                                            2227 non-null int64\n",
      "s7                                            2227 non-null int64\n",
      "s8                                            2227 non-null int64\n",
      "s9                                            2227 non-null int64\n",
      "s10                                           2227 non-null int64\n",
      "a0                                            2227 non-null int64\n",
      "a1                                            2227 non-null int64\n",
      "a2                                            2227 non-null int64\n",
      "a3                                            2227 non-null int64\n",
      "a4                                            2227 non-null int64\n",
      "a5                                            2227 non-null int64\n",
      "a6                                            2227 non-null int64\n",
      "a7                                            2227 non-null int64\n",
      "c0                                            2227 non-null int64\n",
      "c1                                            2227 non-null int64\n",
      "c2                                            2227 non-null int64\n",
      "c3                                            2227 non-null int64\n",
      "c4                                            2227 non-null int64\n",
      "c5                                            2227 non-null int64\n",
      "c6                                            2227 non-null int64\n",
      "speeding_action                               2227 non-null int64\n",
      "m0                                            2227 non-null int64\n",
      "m1                                            2227 non-null int64\n",
      "m2                                            2227 non-null int64\n",
      "m3                                            2227 non-null int64\n",
      "m4                                            2227 non-null int64\n",
      "b_motor                                       2227 non-null int64\n",
      "b_do_not_use                                  2227 non-null int64\n",
      "b_bike_other                                  2227 non-null int64\n",
      "eb0                                           2227 non-null int64\n",
      "eb1                                           2227 non-null int64\n",
      "eb2                                           2227 non-null int64\n",
      "eb3                                           2227 non-null int64\n",
      "eb4                                           2227 non-null int64\n",
      "eb5                                           2227 non-null int64\n",
      "si0                                           2227 non-null int64\n",
      "si1                                           2227 non-null int64\n",
      "si2                                           2227 non-null int64\n",
      "si3                                           2227 non-null int64\n",
      "mo0                                           2227 non-null int64\n",
      "mo1                                           2227 non-null int64\n",
      "mo2                                           2227 non-null int64\n",
      "mo3                                           2227 non-null int64\n",
      "age_17 or younger                             2227 non-null uint8\n",
      "age_18 to 34                                  2227 non-null uint8\n",
      "age_35 to 49                                  2227 non-null uint8\n",
      "age_50 to 64                                  2227 non-null uint8\n",
      "age_65 years or more                          2227 non-null uint8\n",
      "sex_Female                                    2227 non-null uint8\n",
      "sex_Male                                      2227 non-null uint8\n",
      "sex_Other                                     2227 non-null uint8\n",
      "employment_disabled                           2227 non-null uint8\n",
      "employment_full_time                          2227 non-null uint8\n",
      "employment_home                               2227 non-null uint8\n",
      "employment_other                              2227 non-null uint8\n",
      "employment_part_time                          2227 non-null uint8\n",
      "employment_retired                            2227 non-null uint8\n",
      "employment_self_employed                      2227 non-null uint8\n",
      "employment_student                            2227 non-null uint8\n",
      "employment_unemployed                         2227 non-null uint8\n",
      "district_Central Toronto York or East York    2227 non-null uint8\n",
      "district_Etobicoke                            2227 non-null uint8\n",
      "district_Mississauga                          2227 non-null uint8\n",
      "district_North York                           2227 non-null uint8\n",
      "district_Other District                       2227 non-null uint8\n",
      "district_Scarborough                          2227 non-null uint8\n",
      "transportation_bicycle                        2227 non-null uint8\n",
      "transportation_pedal                          2227 non-null uint8\n",
      "transportation_personal_mobility              2227 non-null uint8\n",
      "transportation_private_motor                  2227 non-null uint8\n",
      "transportation_scooter                        2227 non-null uint8\n",
      "transportation_transit                        2227 non-null uint8\n",
      "transportation_walking                        2227 non-null uint8\n",
      "dtypes: float64(1), int64(55), uint8(30)\n",
      "memory usage: 1.1 MB\n"
     ]
    }
   ],
   "source": [
    "data.info()"
   ]
  },
  {
   "cell_type": "markdown",
   "metadata": {},
   "source": [
    "Save the data for processing and model training."
   ]
  },
  {
   "cell_type": "code",
   "execution_count": 195,
   "metadata": {},
   "outputs": [],
   "source": [
    "data.to_csv('ebike_survey_responses_processed.csv', index=False)"
   ]
  },
  {
   "cell_type": "code",
   "execution_count": null,
   "metadata": {},
   "outputs": [],
   "source": []
  }
 ],
 "metadata": {
  "kernelspec": {
   "display_name": "Python 3",
   "language": "python",
   "name": "python3"
  },
  "language_info": {
   "codemirror_mode": {
    "name": "ipython",
    "version": 3
   },
   "file_extension": ".py",
   "mimetype": "text/x-python",
   "name": "python",
   "nbconvert_exporter": "python",
   "pygments_lexer": "ipython3",
   "version": "3.6.4"
  }
 },
 "nbformat": 4,
 "nbformat_minor": 2
}
